{
 "cells": [
  {
   "cell_type": "markdown",
   "metadata": {},
   "source": [
    "# quadrature.ipynb\n",
    "Integrate two functions using quad."
   ]
  },
  {
   "cell_type": "code",
   "execution_count": 1,
   "metadata": {
    "collapsed": true
   },
   "outputs": [],
   "source": [
    "import numpy as np\n",
    "from scipy.integrate import quad\n",
    "\n",
    "#%% Integrate a built-in function.\n",
    "upper_limit = np.linspace(0,3*np.pi,16)\n",
    "cos_integral = np.zeros(upper_limit.size)\n",
    "for i in range(upper_limit.size):\n",
    "    cos_integral[i], error = quad(np.cos, 0, upper_limit[i])\n",
    "\n",
    "#%% Now integrate a user-defined function.\n",
    "def integrand(x): return np.exp(-x**2/2)\n",
    "\n",
    "upper_limit = np.linspace(0, 5, 51)\n",
    "gauss_integral = np.zeros(upper_limit.size)\n",
    "for i in range(upper_limit.size):\n",
    "    gauss_integral[i], error = quad(integrand, 0, upper_limit[i])\n"
   ]
  },
  {
   "cell_type": "code",
   "execution_count": null,
   "metadata": {
    "collapsed": true
   },
   "outputs": [],
   "source": []
  }
 ],
 "metadata": {
  "kernelspec": {
   "display_name": "Python 3",
   "language": "python",
   "name": "python3"
  },
  "language_info": {
   "codemirror_mode": {
    "name": "ipython",
    "version": 3
   },
   "file_extension": ".py",
   "mimetype": "text/x-python",
   "name": "python",
   "nbconvert_exporter": "python",
   "pygments_lexer": "ipython3",
   "version": "3.6.1"
  }
 },
 "nbformat": 4,
 "nbformat_minor": 2
}
