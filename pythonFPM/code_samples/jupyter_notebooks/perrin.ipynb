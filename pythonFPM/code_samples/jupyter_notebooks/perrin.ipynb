{
 "cells": [
  {
   "cell_type": "markdown",
   "metadata": {},
   "source": [
    "# perrin.ipynb\n",
    "Generate figure displaying Perrin's experimental data on Brownian motion.\n",
    "This script requires the data set 04brownian/g26perrindata.npy."
   ]
  },
  {
   "cell_type": "code",
   "execution_count": null,
   "metadata": {},
   "outputs": [],
   "source": [
    "import numpy as np\n",
    "import matplotlib.pyplot as plt\n",
    "\n",
    "data = np.load('g26perrindata.npy')\n",
    "\n",
    "plt.figure(figsize=(10,10))\n",
    "plt.plot(data[:,0], data[:,1], 'b.', ms=16)\n",
    "plt.axis([-20,20,-20,20])\n",
    "plt.grid(b=True,which='major',ls='-',lw=1.5,c='g')\n",
    "plt.xlabel('$\\\\Delta x$ [$\\\\mu$m]', fontsize=24)\n",
    "plt.ylabel('$\\\\Delta y$ [$\\\\mu$m]', fontsize=24)\n",
    "ax=plt.gca()\n",
    "ax.set_xticklabels(ax.get_xticks(), weight='bold', fontsize=16)\n",
    "ax.set_yticklabels(ax.get_yticks(), weight='bold', fontsize=16)\n",
    "plt.show()"
   ]
  },
  {
   "cell_type": "code",
   "execution_count": null,
   "metadata": {
    "collapsed": true
   },
   "outputs": [],
   "source": []
  }
 ],
 "metadata": {
  "kernelspec": {
   "display_name": "Python 3",
   "language": "python",
   "name": "python3"
  },
  "language_info": {
   "codemirror_mode": {
    "name": "ipython",
    "version": 3
   },
   "file_extension": ".py",
   "mimetype": "text/x-python",
   "name": "python",
   "nbconvert_exporter": "python",
   "pygments_lexer": "ipython3",
   "version": "3.6.1"
  }
 },
 "nbformat": 4,
 "nbformat_minor": 2
}
