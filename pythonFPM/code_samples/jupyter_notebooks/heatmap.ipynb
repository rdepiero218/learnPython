{
 "cells": [
  {
   "cell_type": "markdown",
   "metadata": {},
   "source": [
    "# heatmap.ipynb\n",
    "Create two representations of a 2d histogram."
   ]
  },
  {
   "cell_type": "code",
   "execution_count": null,
   "metadata": {
    "collapsed": true
   },
   "outputs": [],
   "source": [
    "import numpy as np, matplotlib.pyplot as plt\n",
    "plt.figure()\n",
    "x = np.random.randn(5000) - 1 # Generate random coordinates.\n",
    "y = 2 * np.random.randn(5000)\n",
    "# Create 2D histogram.  Same number of bins and same range for x and y.\n",
    "counts, bins, _ = np.histogram2d(x, y, \\\n",
    "    bins=[100,100], range=[(-5,5), (-5,5)])\n",
    "\n",
    "# Display data as a heatmap. Provide legend for colors.\n",
    "plt.imshow(counts.transpose(), origin='lower', cmap='hot')\n",
    "plt.colorbar()\n",
    "plt.show()\n"
   ]
  },
  {
   "cell_type": "code",
   "execution_count": null,
   "metadata": {
    "collapsed": true
   },
   "outputs": [],
   "source": []
  }
 ],
 "metadata": {
  "kernelspec": {
   "display_name": "Python 3",
   "language": "python",
   "name": "python3"
  },
  "language_info": {
   "codemirror_mode": {
    "name": "ipython",
    "version": 3
   },
   "file_extension": ".py",
   "mimetype": "text/x-python",
   "name": "python",
   "nbconvert_exporter": "python",
   "pygments_lexer": "ipython3",
   "version": "3.6.1"
  }
 },
 "nbformat": 4,
 "nbformat_minor": 2
}
