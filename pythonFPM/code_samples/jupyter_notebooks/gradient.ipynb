{
 "cells": [
  {
   "cell_type": "markdown",
   "metadata": {},
   "source": [
    "# gradient.ipynb\n",
    "Calculate and display the gradient of a two-dimensional Gaussian."
   ]
  },
  {
   "cell_type": "code",
   "execution_count": null,
   "metadata": {
    "collapsed": true
   },
   "outputs": [],
   "source": [
    "import numpy as np\n",
    "import matplotlib.pyplot as plt\n",
    "\n",
    "coords = np.linspace(-2, 2, 101)\n",
    "X, Y = np.meshgrid(coords[::5], coords[::5])\t# coarse grid for vector field\n",
    "R = np.sqrt(X**2 + Y**2)\n",
    "Z = np.exp(-R**2)\n",
    "x, y = np.meshgrid(coords, coords)\t\t\t\t# fine grid for contour plot\n",
    "r = np.sqrt(x**2 + y**2)\n",
    "z = np.exp(-r**2)\n",
    "\n",
    "ds = coords[5] - coords[0]\t\t\t\t\t\t# coarse grid spacing\n",
    "dX, dY = np.gradient(Z, ds)\t\t\t\t\t\t# calculate gradient\n",
    "\n",
    "plt.figure()\n",
    "plt.contourf(x, y, z, 25)\t\t\t\t\t\n",
    "plt.set_cmap('coolwarm')\n",
    "plt.quiver(X, Y, dX.transpose(), dY.transpose(), scale=25, color='k')\n",
    "plt.axis('tight')\n",
    "plt.show()"
   ]
  },
  {
   "cell_type": "code",
   "execution_count": null,
   "metadata": {
    "collapsed": true
   },
   "outputs": [],
   "source": []
  }
 ],
 "metadata": {
  "kernelspec": {
   "display_name": "Python 3",
   "language": "python",
   "name": "python3"
  },
  "language_info": {
   "codemirror_mode": {
    "name": "ipython",
    "version": 3
   },
   "file_extension": ".py",
   "mimetype": "text/x-python",
   "name": "python",
   "nbconvert_exporter": "python",
   "pygments_lexer": "ipython3",
   "version": "3.6.1"
  }
 },
 "nbformat": 4,
 "nbformat_minor": 2
}
