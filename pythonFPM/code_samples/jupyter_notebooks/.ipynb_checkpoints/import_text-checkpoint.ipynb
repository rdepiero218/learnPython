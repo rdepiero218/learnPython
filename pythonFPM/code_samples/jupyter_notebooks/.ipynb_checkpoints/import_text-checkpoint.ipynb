{
 "cells": [
  {
   "cell_type": "markdown",
   "metadata": {},
   "source": [
    "# import_text.ipynb\n",
    "Load data from a text file by reading the file line by line."
   ]
  },
  {
   "cell_type": "code",
   "execution_count": null,
   "metadata": {
    "collapsed": true
   },
   "outputs": [],
   "source": [
    "import numpy as np\n",
    "\n",
    "f = open(\"HIVseries.csv\")\n",
    "temp_data = []\n",
    "\n",
    "for line in f:\n",
    "\tprint(line)\n",
    "\tx,y = line.split(',')\n",
    "\ttemp_data += [ (float(x), float(y)) ]\n",
    "\n",
    "f.close()\n",
    "\n",
    "data_set = np.array(temp_data)"
   ]
  },
  {
   "cell_type": "code",
   "execution_count": null,
   "metadata": {
    "collapsed": true
   },
   "outputs": [],
   "source": []
  }
 ],
 "metadata": {
  "kernelspec": {
   "display_name": "Python 3",
   "language": "python",
   "name": "python3"
  },
  "language_info": {
   "codemirror_mode": {
    "name": "ipython",
    "version": 3
   },
   "file_extension": ".py",
   "mimetype": "text/x-python",
   "name": "python",
   "nbconvert_exporter": "python",
   "pygments_lexer": "ipython3",
   "version": "3.6.1"
  }
 },
 "nbformat": 4,
 "nbformat_minor": 2
}
