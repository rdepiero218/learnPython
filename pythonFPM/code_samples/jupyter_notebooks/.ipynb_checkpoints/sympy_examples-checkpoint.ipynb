{
 "cells": [
  {
   "cell_type": "markdown",
   "metadata": {},
   "source": [
    "# sympy_examples.ipynb\n",
    "Demonstrate some useful methods available in the SymPy module."
   ]
  },
  {
   "cell_type": "code",
   "execution_count": null,
   "metadata": {},
   "outputs": [],
   "source": [
    "from sympy import *\n",
    "init_session()\n",
    "\n",
    "expand( (x + y)**5 )\n",
    "factor( x**6 - 1 )\n",
    "pi.n(100)\n",
    "plot(besselj(0, x), besselj(1, x), (x, 0, 10))\n",
    "diff( x*sin(y), x, y )\n",
    "integrate(cos(x)**2, x)\n",
    "integrate(exp(-x**2), (x, -oo, oo))\n",
    "Sum(k**3, (k, 0, m)).doit().factor()\n",
    "dsolve(f(x).diff(x) + f(x) - x, f(x)).simplify()"
   ]
  },
  {
   "cell_type": "code",
   "execution_count": null,
   "metadata": {
    "collapsed": true
   },
   "outputs": [],
   "source": []
  }
 ],
 "metadata": {
  "kernelspec": {
   "display_name": "Python 3",
   "language": "python",
   "name": "python3"
  },
  "language_info": {
   "codemirror_mode": {
    "name": "ipython",
    "version": 3
   },
   "file_extension": ".py",
   "mimetype": "text/x-python",
   "name": "python",
   "nbconvert_exporter": "python",
   "pygments_lexer": "ipython3",
   "version": "3.6.1"
  }
 },
 "nbformat": 4,
 "nbformat_minor": 2
}
