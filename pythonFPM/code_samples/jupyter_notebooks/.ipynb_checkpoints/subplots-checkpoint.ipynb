{
 "cells": [
  {
   "cell_type": "markdown",
   "metadata": {},
   "source": [
    "# subplots.ipynb\n",
    "Create four plots in the same figure."
   ]
  },
  {
   "cell_type": "code",
   "execution_count": null,
   "metadata": {},
   "outputs": [],
   "source": [
    "import numpy as np\n",
    "import matplotlib.pyplot as plt\n",
    "from numpy.random import random\n",
    "\n",
    "t = np.linspace(0, 1, 101)\n",
    "\n",
    "plt.figure()\n",
    "plt.subplot(2, 2, 1); plt.hist(random(20))\n",
    "plt.subplot(2, 2, 2); plt.plot(t, t**2, t, t**3 - t)\n",
    "plt.subplot(2, 2, 3); plt.plot(random(20), random(20), 'r*')\n",
    "plt.subplot(2, 2, 4); plt.plot(t*np.cos(10*t), t*np.sin(10*t))\n",
    "plt.show()"
   ]
  },
  {
   "cell_type": "code",
   "execution_count": null,
   "metadata": {
    "collapsed": true
   },
   "outputs": [],
   "source": []
  }
 ],
 "metadata": {
  "kernelspec": {
   "display_name": "Python 3",
   "language": "python",
   "name": "python3"
  },
  "language_info": {
   "codemirror_mode": {
    "name": "ipython",
    "version": 3
   },
   "file_extension": ".py",
   "mimetype": "text/x-python",
   "name": "python",
   "nbconvert_exporter": "python",
   "pygments_lexer": "ipython3",
   "version": "3.6.1"
  }
 },
 "nbformat": 4,
 "nbformat_minor": 2
}
