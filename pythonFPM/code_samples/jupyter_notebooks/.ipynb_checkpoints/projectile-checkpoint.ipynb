{
 "cells": [
  {
   "cell_type": "markdown",
   "metadata": {},
   "source": [
    "# projectile.ipynb \n",
    "Jesse M. Kinder -- 2017 (Python 3.6)<br>\n",
    "Calculate how long an object is in the air when thrown from a specified height\n",
    "with a range of initial speeds assuming constant acceleration due to gravity:\n",
    "\t$$\\frac12 g t^2 - v_0 t - y+0 = 0$$"
   ]
  },
  {
   "cell_type": "code",
   "execution_count": null,
   "metadata": {},
   "outputs": [],
   "source": [
    "import numpy as np\n",
    "\n",
    "#%% Initialization of variables.\n",
    "initial_speed = 0.0\t\t\t# v0 = initial vertical speed of ball in [m/s]\n",
    "impact_time = 0.0\t\t\t# t = time of impact in [s] (computed in loop)\n",
    "\n",
    "#%% Initialization of parameters.\n",
    "g = 9.8066\t\t\t\t\t# gravitational acceleration in [m/s^2]\n",
    "initial_height = 2.0\t\t# y0 = height ball is thrown from in [m]\n",
    "speed_increment = 5.0\t\t# how much to increase speed in [m/s] for each iteration\n",
    "cutoff_time = 10.0\t\t\t# stop computing after impact time exceeds cutoff\n",
    "\n",
    "#%% Calculate and display impact time.  Increment initial speed each step.\n",
    "#\tRepeat until impact time exceeds cutoff.\n",
    "while impact_time < cutoff_time:\n",
    "\t# Use quadratic equation to solve kinematic equation for impact time:\n",
    "\timpact_time = (np.sqrt(initial_speed**2 + 2 * g * initial_height) + initial_speed) / g\n",
    "\tprint(\"speed= {} m/s; time= {:.1f} s\".format(initial_speed, impact_time))\n",
    "\tinitial_speed += speed_increment\n",
    "print(\"Calculation complete.\")"
   ]
  },
  {
   "cell_type": "code",
   "execution_count": null,
   "metadata": {
    "collapsed": true
   },
   "outputs": [],
   "source": []
  }
 ],
 "metadata": {
  "kernelspec": {
   "display_name": "Python 3",
   "language": "python",
   "name": "python3"
  },
  "language_info": {
   "codemirror_mode": {
    "name": "ipython",
    "version": 3
   },
   "file_extension": ".py",
   "mimetype": "text/x-python",
   "name": "python",
   "nbconvert_exporter": "python",
   "pygments_lexer": "ipython3",
   "version": "3.6.1"
  }
 },
 "nbformat": 4,
 "nbformat_minor": 2
}
