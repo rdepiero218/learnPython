{
 "cells": [
  {
   "cell_type": "markdown",
   "metadata": {},
   "source": [
    "# line3d.ipynb\n",
    "Create a three-dimensional parametric plot"
   ]
  },
  {
   "cell_type": "code",
   "execution_count": null,
   "metadata": {},
   "outputs": [],
   "source": [
    "import numpy as np\n",
    "import matplotlib.pyplot as plt\n",
    "from mpl_toolkits.mplot3d import Axes3D\t\t# import 3D plotting tool\n",
    "\n",
    "fig = plt.figure()\t\t\t\t\t# create a new figure\n",
    "ax = Axes3D(fig)\t\t\t\t\t# create 3D plotting object attached to figure\n",
    "t = np.linspace(0, 5*np.pi, 501)\t# define parameter for parametric plot\n",
    "\n",
    "ax.plot(t * np.cos(t), t * np.sin(t), t)\t\t# generate 3D plot\n",
    "plt.show()"
   ]
  },
  {
   "cell_type": "code",
   "execution_count": null,
   "metadata": {
    "collapsed": true
   },
   "outputs": [],
   "source": []
  }
 ],
 "metadata": {
  "kernelspec": {
   "display_name": "Python 3",
   "language": "python",
   "name": "python3"
  },
  "language_info": {
   "codemirror_mode": {
    "name": "ipython",
    "version": 3
   },
   "file_extension": ".py",
   "mimetype": "text/x-python",
   "name": "python",
   "nbconvert_exporter": "python",
   "pygments_lexer": "ipython3",
   "version": "3.6.1"
  }
 },
 "nbformat": 4,
 "nbformat_minor": 2
}
