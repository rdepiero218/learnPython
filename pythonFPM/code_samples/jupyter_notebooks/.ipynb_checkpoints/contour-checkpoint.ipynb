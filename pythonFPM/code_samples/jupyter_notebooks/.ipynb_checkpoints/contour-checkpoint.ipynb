{
 "cells": [
  {
   "cell_type": "markdown",
   "metadata": {},
   "source": [
    "# contour.ipynb\n",
    "Create a labeled contour plot."
   ]
  },
  {
   "cell_type": "code",
   "execution_count": null,
   "metadata": {
    "collapsed": true
   },
   "outputs": [],
   "source": [
    "import numpy as np\n",
    "import matplotlib.pyplot as plt\n",
    "# Create a grid of x and y coordinates\n",
    "x_vals = np.linspace(-3, 3, 21)\n",
    "y_vals = np.linspace(0, 10, 11)\n",
    "X, Y = np.meshgrid(x_vals, y_vals)\n",
    "\n",
    "#Generate function values. \n",
    "Z = np.cos(X) * np.sin(Y)\n",
    "\n",
    "#Plot and label contours.\n",
    "plt.figure()\n",
    "cs = plt.contour(X, Y, Z, 10, linewidths=3, colors='k')\n",
    "plt.clabel(cs,fontsize=10)\n",
    "plt.show()ss"
   ]
  },
  {
   "cell_type": "code",
   "execution_count": null,
   "metadata": {
    "collapsed": true
   },
   "outputs": [],
   "source": []
  }
 ],
 "metadata": {
  "kernelspec": {
   "display_name": "Python 3",
   "language": "python",
   "name": "python3"
  },
  "language_info": {
   "codemirror_mode": {
    "name": "ipython",
    "version": 3
   },
   "file_extension": ".py",
   "mimetype": "text/x-python",
   "name": "python",
   "nbconvert_exporter": "python",
   "pygments_lexer": "ipython3",
   "version": "3.6.1"
  }
 },
 "nbformat": 4,
 "nbformat_minor": 2
}
