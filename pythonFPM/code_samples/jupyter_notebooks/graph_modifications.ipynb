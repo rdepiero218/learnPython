{
 "cells": [
  {
   "cell_type": "markdown",
   "metadata": {},
   "source": [
    "# graph_modifications.ipynb\n",
    "This script creates a simple plot with two lines, then modifies many\n",
    "features of the plot, including axis labels, labels and legend, line\n",
    "style, tick labels, and title."
   ]
  },
  {
   "cell_type": "code",
   "execution_count": null,
   "metadata": {
    "collapsed": true
   },
   "outputs": [],
   "source": [
    "import numpy as np\n",
    "import matplotlib.pyplot as plt\n",
    "\n",
    "# Generate data for plot.\n",
    "num_points = 26\n",
    "x_min, x_max = 0, 4\n",
    "x_values = np.linspace(x_min, x_max, num_points)\n",
    "y_values = x_values**2"
   ]
  },
  {
   "cell_type": "code",
   "execution_count": null,
   "metadata": {
    "collapsed": true
   },
   "outputs": [],
   "source": [
    "# Create empty figure.\n",
    "plt.figure()\n",
    "\n",
    "# Plot data.\n",
    "plt.plot(x_values, y_values, label=\"Population 1\")\t\t# label when plot is created\n",
    "plt.plot(x_values, x_values**3, label=\"Population 2\")\t# label when plot is created\n",
    "plt.legend()\n",
    "\n",
    "# Gain control of current Axes object.\n",
    "ax = plt.gca()\n",
    "\n",
    "# Give plot a title.\n",
    "ax.set_title(\"My First Plot\", family='monospace', size=24, weight='bold')\n",
    "\n",
    "# Label the axes.\n",
    "ax.set_xlabel(\"Time [days]\")\n",
    "ax.set_ylabel(\"Population\")\n",
    "\n",
    "# Change tick labels and font\n",
    "ax.set_xticklabels(ax.get_xticks(), family='monospace', fontsize=10)\n",
    "ax.set_yticklabels(ax.get_yticks(), family='monospace', fontsize=10)\n",
    "\n",
    "# Change the legend\n",
    "lines = ax.get_lines()\t\t\t\t\t\t# returns a list of line objects\n",
    "lines[0].set_label(\"Infected Population\")\t# change labels using line objects\n",
    "lines[1].set_label(\"Cured Population\")\t\t# change labels using line objects\n",
    "ax.legend()\t\t\t\t\t\t\t\t\t# display legend in plot\n",
    "\n",
    "# Make the first line a thick, red, dashed line.\n",
    "plt.setp(lines[0], linestyle='--', linewidth=3, color='r')\n",
    "\n",
    "# Change the legend again.\n",
    "ax.legend((\"Healthy\", \"Recovered\"))\t\t\t# change labels using Axes object\n",
    "\n",
    "plt.show()\n"
   ]
  },
  {
   "cell_type": "code",
   "execution_count": null,
   "metadata": {
    "collapsed": true
   },
   "outputs": [],
   "source": []
  }
 ],
 "metadata": {
  "kernelspec": {
   "display_name": "Python 3",
   "language": "python",
   "name": "python3"
  },
  "language_info": {
   "codemirror_mode": {
    "name": "ipython",
    "version": 3
   },
   "file_extension": ".py",
   "mimetype": "text/x-python",
   "name": "python",
   "nbconvert_exporter": "python",
   "pygments_lexer": "ipython3",
   "version": "3.6.1"
  }
 },
 "nbformat": 4,
 "nbformat_minor": 2
}
