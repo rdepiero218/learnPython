{
 "cells": [
  {
   "cell_type": "markdown",
   "metadata": {},
   "source": [
    "# waves.ipynb\n",
    "Jesse M. Kinder --- 2017 (Python 3.6)<br>\n",
    "Generate frames for an animation of a moving Gaussian waves. "
   ]
  },
  {
   "cell_type": "code",
   "execution_count": null,
   "metadata": {
    "collapsed": true
   },
   "outputs": [],
   "source": [
    "import numpy as np\n",
    "import matplotlib.pyplot as plt\n",
    "# get html_movie module from physicalmodelingwithpython.blogspot.com/\n",
    "from html_movie import movie \n",
    "\n",
    "# Generate waves for each frame.\n",
    "# Return a gaussian with specified center and spread using array s.\n",
    "def gaussian(s, center=0.0, spread=1.0):\n",
    "\treturn np.exp(-2 * (s - center)**2 / spread**2)\n",
    "\n",
    "# All lengths are in [m], all times are in [s], and all speeds are in [m/s].\n",
    "# Define the range of values to display.\n",
    "xmin, xmax  = -4.0, 4.0\n",
    "ymin, ymax  = -3.0, 3.0\n",
    "# Define array of positions.\n",
    "dx = 0.01\n",
    "x = np.arange(xmin, xmax + dx, dx)\n",
    "\n",
    "# Define the duration and number of frames for the simulation.\n",
    "tmin, tmax  = 0.0, 4.0\n",
    "num_frames = 100\n",
    "t = np.linspace(tmin, tmax, num_frames)\n",
    "\n",
    "# Define the initial position and speed of gaussian waves.\n",
    "r_speed = 2.0\t\t# speed of right-moving wave\n",
    "r_0 = -4.0\t\t\t# initial position of right-moving wave\n",
    "l_speed = -2.0\t\t# speed of left-moving wave\n",
    "l_0 = 4.0\t\t\t# initial position of left-moving wave\n",
    "\n",
    "# Generate a figure and get access to its axes object.\n",
    "plt.close('all')\n",
    "fig = plt.figure(figsize=(10,10))\n",
    "ax = plt.axes(xlim=(xmin, xmax), ylim=(ymin, ymax))\n",
    "\n",
    "# Create three empty line objects and grab control.\n",
    "# The loop below will update the lines in each frame.\n",
    "ax.plot([], [], 'b--', lw=1)\t\t# line for right-moving wave\n",
    "ax.plot([], [], 'r--', lw=1)\t\t# line for left-moving wave\n",
    "ax.plot([], [], 'g-', lw=3)\t\t\t# line for sum of waves\n",
    "lines = ax.get_lines()\t\t\t\t# get list of 3 line objects in plot\n",
    "\n",
    "# It is essential that the frames be named in alphabetical order.\n",
    "# {:03d} will display integers with three digits and insert zeros if needed:\n",
    "# '000_movie.jpg', '001_movie.jpg', etc.\n",
    "file_name = \"{:03d}_movie.jpg\"\n",
    "\n",
    "# Generate frames and save each figure as a separate .jpg file.\n",
    "for i in range(num_frames):\n",
    "\tr_now = r_0 + r_speed * t[i]\t\t# update center of right-moving wave\n",
    "\tl_now = l_0 + l_speed * t[i]\t\t# update center of left-moving wave\n",
    "\tyR =  gaussian(x, r_now)\t\t\t# get current data for right-moving wave\n",
    "\tyL = -gaussian(x, l_now)\t\t\t# get current data for left-moving wave\n",
    "\tlines[0].set_data(x,yR)\t\t\t\t# update right-moving wave\n",
    "\tlines[1].set_data(x,yL)\t\t\t\t# update left-moving wave\n",
    "\tlines[2].set_data(x,yR + yL)\t\t# update sum of waves\n",
    "\tplt.savefig(file_name.format(i))\t# save current plot\n",
    "\n",
    "# Use html movie encoder adapted from scitools to create an HTML document that\n",
    "# will display the frames as a movie.  Open movie.html in Web browser to view.\n",
    "movie(input_files='*.jpg', output_file='movie.html')\n"
   ]
  }
 ],
 "metadata": {
  "kernelspec": {
   "display_name": "Python 3",
   "language": "python",
   "name": "python3"
  },
  "language_info": {
   "codemirror_mode": {
    "name": "ipython",
    "version": 3
   },
   "file_extension": ".py",
   "mimetype": "text/x-python",
   "name": "python",
   "nbconvert_exporter": "python",
   "pygments_lexer": "ipython3",
   "version": "3.6.1"
  }
 },
 "nbformat": 4,
 "nbformat_minor": 2
}
