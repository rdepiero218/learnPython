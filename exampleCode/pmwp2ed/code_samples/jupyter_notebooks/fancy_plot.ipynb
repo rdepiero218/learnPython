{
 "cells": [
  {
   "cell_type": "markdown",
   "metadata": {},
   "source": [
    "# fancy_plot.ipynb\n",
    "Add a title and axis labels to a simple plot."
   ]
  },
  {
   "cell_type": "code",
   "execution_count": null,
   "metadata": {
    "collapsed": true
   },
   "outputs": [],
   "source": [
    "import numpy as np\n",
    "import matplotlib.pyplot as plt\n",
    "\n",
    "x_min, x_max = -4, 4\n",
    "num_points = 51\n",
    "x_list = np.linspace(x_min, x_max, num_points)\n",
    "y_list = x_list**2\n",
    "\n",
    "plt.figure()\n",
    "plt.plot(x_list, y_list, 'r', linewidth=3)\n",
    "\n",
    "ax = plt.gca()\n",
    "ax.set_title(\"A Second Order Polynomial\", fontsize=16)\n",
    "ax.set_xlabel(\"$x$\", fontsize=24)\n",
    "ax.set_ylabel(\"$y = x^2$\", fontsize=24)\n",
    "\n",
    "plt.show()"
   ]
  },
  {
   "cell_type": "code",
   "execution_count": null,
   "metadata": {
    "collapsed": true
   },
   "outputs": [],
   "source": []
  }
 ],
 "metadata": {
  "kernelspec": {
   "display_name": "Python 3",
   "language": "python",
   "name": "python3"
  },
  "language_info": {
   "codemirror_mode": {
    "name": "ipython",
    "version": 3
   },
   "file_extension": ".py",
   "mimetype": "text/x-python",
   "name": "python",
   "nbconvert_exporter": "python",
   "pygments_lexer": "ipython3",
   "version": "3.6.1"
  }
 },
 "nbformat": 4,
 "nbformat_minor": 2
}
