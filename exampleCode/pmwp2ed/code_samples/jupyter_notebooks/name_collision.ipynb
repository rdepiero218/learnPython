{
 "cells": [
  {
   "cell_type": "markdown",
   "metadata": {},
   "source": [
    "# name_collision.py\n",
    "Demonstrate how Python's rules of scope prevent name collisions."
   ]
  },
  {
   "cell_type": "code",
   "execution_count": null,
   "metadata": {},
   "outputs": [],
   "source": [
    "def name_collisions():\n",
    "\tx, y = 'E', 'E'\n",
    "\tdef display():\n",
    "\t\tx = 'L'\n",
    "\t\tprint( \"Inside display() ...\" )\n",
    "\t\tprint( \"x= {}\\ny= {}\\nz= {}\".format(x,y,z) )\n",
    "\tdisplay()\n",
    "\tprint( \"Inside name_collision() ...\" )\n",
    "\tprint( \"x= {}\\ny= {}\\nz= {}\".format(x,y,z) )\n",
    "\n",
    "x, y, z = 'G', 'G', 'G'\n",
    "name_collisions()\n",
    "print( \"Outside function ...\" )\n",
    "print( \"x= {}\\ny= {}\\nz= {}\".format(x,y,z) )\n"
   ]
  },
  {
   "cell_type": "code",
   "execution_count": null,
   "metadata": {
    "collapsed": true
   },
   "outputs": [],
   "source": []
  }
 ],
 "metadata": {
  "kernelspec": {
   "display_name": "Python 3",
   "language": "python",
   "name": "python3"
  },
  "language_info": {
   "codemirror_mode": {
    "name": "ipython",
    "version": 3
   },
   "file_extension": ".py",
   "mimetype": "text/x-python",
   "name": "python",
   "nbconvert_exporter": "python",
   "pygments_lexer": "ipython3",
   "version": "3.6.1"
  }
 },
 "nbformat": 4,
 "nbformat_minor": 2
}
