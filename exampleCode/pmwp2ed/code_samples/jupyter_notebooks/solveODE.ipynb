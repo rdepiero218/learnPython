{
 "cells": [
  {
   "cell_type": "markdown",
   "metadata": {},
   "source": [
    "# solveODE.ipynb\n",
    "Solution of ODE for harmonic oscillator."
   ]
  },
  {
   "cell_type": "code",
   "execution_count": null,
   "metadata": {},
   "outputs": [],
   "source": [
    "import numpy as np\n",
    "import matplotlib.pyplot as plt\n",
    "from scipy.integrate import odeint\n",
    "\n",
    "# Import function to integrate:\n",
    "from simple_oscillator import F\n",
    "\n",
    "# array of time values to study\n",
    "t_min = 0; t_max = 10; dt = 0.1\n",
    "t = np.arange(t_min, t_max+dt, dt)\n",
    "\n",
    "# two sets of initial conditions\n",
    "initial_conditions = [ (1.0, 0.0), (0.0, 1.0) ]\n",
    "\n",
    "plt.figure()\t# Create figure; then, add plots.\n",
    "for y0 in initial_conditions:\n",
    "\ty = odeint(F, y0, t)\n",
    "\tplt.plot(t, y[:, 0], linewidth=2)\n",
    "\n",
    "skip = 5\n",
    "t_test = t[::skip]\t\t\t\t\t\t\t# compare at a subset of points\n",
    "plt.plot(t_test, np.cos(t_test), 'bo')\t\t# exact solution for y0 = (1,0)\n",
    "plt.plot(t_test, np.sin(t_test), 'go')\t\t# exact solution for y0 = (0,1)\n",
    "\n",
    "plt.show()"
   ]
  },
  {
   "cell_type": "code",
   "execution_count": null,
   "metadata": {
    "collapsed": true
   },
   "outputs": [],
   "source": []
  }
 ],
 "metadata": {
  "kernelspec": {
   "display_name": "Python 3",
   "language": "python",
   "name": "python3"
  },
  "language_info": {
   "codemirror_mode": {
    "name": "ipython",
    "version": 3
   },
   "file_extension": ".py",
   "mimetype": "text/x-python",
   "name": "python",
   "nbconvert_exporter": "python",
   "pygments_lexer": "ipython3",
   "version": "3.6.1"
  }
 },
 "nbformat": 4,
 "nbformat_minor": 2
}
