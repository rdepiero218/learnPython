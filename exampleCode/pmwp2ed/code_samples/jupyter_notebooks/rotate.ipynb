{
 "cells": [
  {
   "cell_type": "markdown",
   "metadata": {},
   "source": [
    "# rotate.ipynb\n",
    "Define function to rotate a vector in two dimensions."
   ]
  },
  {
   "cell_type": "code",
   "execution_count": 1,
   "metadata": {
    "collapsed": true
   },
   "outputs": [],
   "source": [
    "import numpy as np\n",
    "\n",
    "def rotate_vector(vector, angle):\n",
    "\t\"\"\"\n",
    "\tRotate two-dimensional vector through given angle.\n",
    "\t\tvector = (x,y)\n",
    "\t\tangle = rotation angle in radians (counterclockwise)\n",
    "\tReturns the image of vector under rotation as a NumPy array.\n",
    "\t\"\"\"\n",
    "\trotation_matrix = np.array([[ np.cos(angle), -np.sin(angle) ],\n",
    "\t\t\t\t\t\t\t\t[ np.sin(angle),  np.cos(angle) ]])\n",
    "\treturn np.dot(rotation_matrix, vector)"
   ]
  },
  {
   "cell_type": "code",
   "execution_count": null,
   "metadata": {
    "collapsed": true
   },
   "outputs": [],
   "source": []
  }
 ],
 "metadata": {
  "kernelspec": {
   "display_name": "Python 3",
   "language": "python",
   "name": "python3"
  },
  "language_info": {
   "codemirror_mode": {
    "name": "ipython",
    "version": 3
   },
   "file_extension": ".py",
   "mimetype": "text/x-python",
   "name": "python",
   "nbconvert_exporter": "python",
   "pygments_lexer": "ipython3",
   "version": "3.6.1"
  }
 },
 "nbformat": 4,
 "nbformat_minor": 2
}
