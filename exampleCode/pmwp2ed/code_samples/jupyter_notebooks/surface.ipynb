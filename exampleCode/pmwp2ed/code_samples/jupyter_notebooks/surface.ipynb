{
 "cells": [
  {
   "cell_type": "markdown",
   "metadata": {},
   "source": [
    "# surface.ipynb\n",
    "Create a three-dimensional surface plot."
   ]
  },
  {
   "cell_type": "code",
   "execution_count": null,
   "metadata": {},
   "outputs": [],
   "source": [
    "import numpy as np\n",
    "import matplotlib.pyplot as plt\n",
    "from mpl_toolkits.mplot3d import Axes3D\n",
    "\n",
    "# define grid of points\n",
    "points = np.linspace(-1, 1, 101)\n",
    "X, Y = np.meshgrid(points, points)\n",
    "Z = X**2 + Y**2\n",
    "\n",
    "# create and display surface plot\n",
    "ax = Axes3D(plt.figure())\n",
    "ax.plot_surface(X, Y, Z)\n",
    "\n",
    "# Adjust rstride and cstride to use more or fewer points.\n",
    "# The following command will use all points in X, Y, and Z:\n",
    "# ax.plot_surface(X, Y, Z, rstride=1, cstride=1)\n",
    "\n",
    "plt.show()"
   ]
  },
  {
   "cell_type": "code",
   "execution_count": null,
   "metadata": {
    "collapsed": true
   },
   "outputs": [],
   "source": []
  }
 ],
 "metadata": {
  "kernelspec": {
   "display_name": "Python 3",
   "language": "python",
   "name": "python3"
  },
  "language_info": {
   "codemirror_mode": {
    "name": "ipython",
    "version": 3
   },
   "file_extension": ".py",
   "mimetype": "text/x-python",
   "name": "python",
   "nbconvert_exporter": "python",
   "pygments_lexer": "ipython3",
   "version": "3.6.1"
  }
 },
 "nbformat": 4,
 "nbformat_minor": 2
}
