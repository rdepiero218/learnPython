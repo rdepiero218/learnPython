{
 "cells": [
  {
   "cell_type": "markdown",
   "metadata": {},
   "source": [
    "# legend.ipynb\n",
    "Create a plot with a legend to distinguish multiple curves."
   ]
  },
  {
   "cell_type": "code",
   "execution_count": null,
   "metadata": {},
   "outputs": [],
   "source": [
    "import numpy as np\n",
    "import matplotlib.pyplot as plt\n",
    "\n",
    "num_curves = 3\n",
    "x = np.linspace(0, 1, 51)\n",
    "y = np.zeros((x.size, num_curves))\n",
    "for n in range(num_curves):\n",
    "\ty[:, n] = np.sin((n+1) * x * 2 * np.pi)\n",
    "\n",
    "plt.figure()\n",
    "plt.plot(x, y, linewidth=2)\n",
    "\n",
    "ax = plt.gca()\n",
    "ax.legend(\t(\"sin(2$\\\\pi$x)\", \"sin(4$\\\\pi$x)\", \"sin(6$\\\\pi$x)\") )\n",
    "\n",
    "plt.show()"
   ]
  },
  {
   "cell_type": "code",
   "execution_count": null,
   "metadata": {
    "collapsed": true
   },
   "outputs": [],
   "source": []
  }
 ],
 "metadata": {
  "kernelspec": {
   "display_name": "Python 3",
   "language": "python",
   "name": "python3"
  },
  "language_info": {
   "codemirror_mode": {
    "name": "ipython",
    "version": 3
   },
   "file_extension": ".py",
   "mimetype": "text/x-python",
   "name": "python",
   "nbconvert_exporter": "python",
   "pygments_lexer": "ipython3",
   "version": "3.6.1"
  }
 },
 "nbformat": 4,
 "nbformat_minor": 2
}
