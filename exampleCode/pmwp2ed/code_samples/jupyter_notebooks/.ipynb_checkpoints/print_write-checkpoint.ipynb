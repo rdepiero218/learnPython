{
 "cells": [
  {
   "cell_type": "markdown",
   "metadata": {},
   "source": [
    "# print_write.ipynb\n",
    "(Python 3.6)\n",
    "Write same data to a file and print to display."
   ]
  },
  {
   "cell_type": "code",
   "execution_count": null,
   "metadata": {},
   "outputs": [],
   "source": [
    "f = open('power.txt','w')\n",
    "\n",
    "print(\" N \\t\\t2**N\\t\\t3**N\")\t\t# print labels for columns\n",
    "f.write(\" N \\t\\t2**N\\t\\t3**N\\n\")\t# write labels to file\n",
    "print(\"---\\t\\t----\\t\\t----\")\t\t# print separator\n",
    "f.write(\"---\\t\\t----\\t\\t----\\n\")\t# write separator to file\n",
    "\n",
    "#%% loop over integers from 0 to 10 and print/write results\n",
    "for N in range(11):\n",
    "\tprint(\"{:d}\\t\\t{:d}\\t\\t{:d}\".format(N, pow(2,N), pow(3,N)))\n",
    "\tf.write(\"{:d}\\t\\t{:d}\\t\\t{:d}\\n\".format(N, pow(2,N), pow(3,N)))\n",
    "f.close()"
   ]
  },
  {
   "cell_type": "code",
   "execution_count": null,
   "metadata": {
    "collapsed": true
   },
   "outputs": [],
   "source": []
  }
 ],
 "metadata": {
  "kernelspec": {
   "display_name": "Python 3",
   "language": "python",
   "name": "python3"
  },
  "language_info": {
   "codemirror_mode": {
    "name": "ipython",
    "version": 3
   },
   "file_extension": ".py",
   "mimetype": "text/x-python",
   "name": "python",
   "nbconvert_exporter": "python",
   "pygments_lexer": "ipython3",
   "version": "3.6.1"
  }
 },
 "nbformat": 4,
 "nbformat_minor": 2
}
