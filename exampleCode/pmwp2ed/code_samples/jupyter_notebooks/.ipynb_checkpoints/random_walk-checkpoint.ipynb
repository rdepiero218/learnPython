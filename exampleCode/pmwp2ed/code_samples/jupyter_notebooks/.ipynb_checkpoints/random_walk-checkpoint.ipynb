{
 "cells": [
  {
   "cell_type": "markdown",
   "metadata": {},
   "source": [
    "# random_walk.ipynb\n",
    "Monte Carlo simulation of a two-dimensional random walk."
   ]
  },
  {
   "cell_type": "code",
   "execution_count": null,
   "metadata": {},
   "outputs": [],
   "source": [
    "import numpy as np\n",
    "import matplotlib.pyplot as plt\n",
    "from numpy.random import random as rng\n",
    "\n",
    "num_steps = 500\n",
    "x_step = rng(num_steps) > 0.5\n",
    "y_step = rng(num_steps) > 0.5\n",
    "x_step = 2*x_step - 1\n",
    "y_step = 2*y_step - 1\n",
    "x_position = np.cumsum(x_step)\n",
    "y_position = np.cumsum(y_step)\n",
    "\n",
    "plt.figure()\n",
    "plt.plot(x_position, y_position)\n",
    "plt.axis('equal')\n",
    "plt.show()"
   ]
  },
  {
   "cell_type": "code",
   "execution_count": null,
   "metadata": {},
   "outputs": [],
   "source": [
    "# A more succinct alternative:\n",
    "x = ( 2*(rng(num_steps) > 0.5) - 1 ).cumsum()\n",
    "y = ( 2*(rng(num_steps) > 0.5) - 1 ).cumsum()\n",
    "\n",
    "plt.figure()\n",
    "plt.plot(x,y)\n",
    "plt.axis('equal')\n",
    "\n",
    "plt.show()"
   ]
  },
  {
   "cell_type": "code",
   "execution_count": null,
   "metadata": {
    "collapsed": true
   },
   "outputs": [],
   "source": []
  }
 ],
 "metadata": {
  "kernelspec": {
   "display_name": "Python 3",
   "language": "python",
   "name": "python3"
  },
  "language_info": {
   "codemirror_mode": {
    "name": "ipython",
    "version": 3
   },
   "file_extension": ".py",
   "mimetype": "text/x-python",
   "name": "python",
   "nbconvert_exporter": "python",
   "pygments_lexer": "ipython3",
   "version": "3.6.1"
  }
 },
 "nbformat": 4,
 "nbformat_minor": 2
}
