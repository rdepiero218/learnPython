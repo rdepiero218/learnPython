{
 "cells": [
  {
   "cell_type": "markdown",
   "metadata": {},
   "source": [
    "# convolution.ipynb\n",
    "This script creates an eLoG (elongated Laplacian of Gaussian) filter that\n",
    "emphasizes long, vertical lines in a figure.  The effect of the filter is\n",
    "demonstrated on a plus sign."
   ]
  },
  {
   "cell_type": "code",
   "execution_count": null,
   "metadata": {
    "collapsed": true
   },
   "outputs": [],
   "source": [
    "import numpy as np\n",
    "import matplotlib.pyplot as plt\n",
    "import scipy.ndimage as sim\n",
    "\n",
    "# Create a grid of points for the Gaussian filter.\n",
    "v = np.arange(-25, 26)\n",
    "X, Y = np.meshgrid(v, v)\n",
    "\n",
    "# Create elongated Gaussian filter, apply Laplacian.\n",
    "gauss_filter = np.exp(-0.5*(X**2/2 + Y**2/45))\n",
    "laplace_filter = np.array( [[0, -1, 0], [-1, 4, -1], [0, -1, 0]])\n",
    "combined_filter  = sim.convolve(gauss_filter, laplace_filter)\n",
    "\n",
    "# Create a plus sign '+' to demonstrate effect of filter.\n",
    "plus = np.zeros((51, 51))\n",
    "plus[23:28, 25] = 1.0\n",
    "plus[25, 23:28] = 1.0\n",
    "\n",
    "plt.figure()\n",
    "plt.imshow(plus)\n",
    "plt.gray()\n",
    "plt.show()"
   ]
  },
  {
   "cell_type": "markdown",
   "metadata": {},
   "source": [
    "Apply filter to '+' and display resulting image.\n",
    "Use vmin/vmax to emphasize features within a restricted range of intensity."
   ]
  },
  {
   "cell_type": "code",
   "execution_count": null,
   "metadata": {
    "collapsed": true
   },
   "outputs": [],
   "source": [
    "cplus = sim.convolve(plus, combined_filter)\n",
    "\n",
    "plt.figure()\n",
    "plt.imshow(cplus, vmin=0, vmax=0.5*cplus.max())\n",
    "plt.gray()\n",
    "\n",
    "plt.show()"
   ]
  },
  {
   "cell_type": "code",
   "execution_count": null,
   "metadata": {
    "collapsed": true
   },
   "outputs": [],
   "source": []
  }
 ],
 "metadata": {
  "kernelspec": {
   "display_name": "Python 3",
   "language": "python",
   "name": "python3"
  },
  "language_info": {
   "codemirror_mode": {
    "name": "ipython",
    "version": 3
   },
   "file_extension": ".py",
   "mimetype": "text/x-python",
   "name": "python",
   "nbconvert_exporter": "python",
   "pygments_lexer": "ipython3",
   "version": "3.6.1"
  }
 },
 "nbformat": 4,
 "nbformat_minor": 2
}
