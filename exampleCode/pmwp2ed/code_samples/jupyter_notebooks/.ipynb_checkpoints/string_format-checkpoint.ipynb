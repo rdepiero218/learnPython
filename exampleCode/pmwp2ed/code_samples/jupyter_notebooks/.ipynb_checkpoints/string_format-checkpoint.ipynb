{
 "cells": [
  {
   "cell_type": "markdown",
   "metadata": {},
   "source": [
    "# string_format.ipynb  \n",
    "Illustrate formatting strings using the .format() method. (Python 3.6)"
   ]
  },
  {
   "cell_type": "code",
   "execution_count": null,
   "metadata": {
    "collapsed": true
   },
   "outputs": [],
   "source": [
    "import numpy as np\n",
    "\n",
    "print(\"The value of pi is approximately \" + str(np.pi))\n",
    "print(\"The value of {} is approximately {:.5f}\".format('pi', np.pi))\n",
    "\n",
    "s = \"{1:d} plus {0:d} is {2:d}\"\n",
    "print(s.format(2,4,2+4))\n",
    "\n",
    "print(\"Every {2} has its {3}.\".format('dog','day','rose','thorn'))\n",
    "print(\"The third element of the list is {0[2]:g}.\".format(np.arange(10)))"
   ]
  },
  {
   "cell_type": "code",
   "execution_count": null,
   "metadata": {
    "collapsed": true
   },
   "outputs": [],
   "source": []
  }
 ],
 "metadata": {
  "kernelspec": {
   "display_name": "Python 3",
   "language": "python",
   "name": "python3"
  },
  "language_info": {
   "codemirror_mode": {
    "name": "ipython",
    "version": 3
   },
   "file_extension": ".py",
   "mimetype": "text/x-python",
   "name": "python",
   "nbconvert_exporter": "python",
   "pygments_lexer": "ipython3",
   "version": "3.6.1"
  }
 },
 "nbformat": 4,
 "nbformat_minor": 2
}
