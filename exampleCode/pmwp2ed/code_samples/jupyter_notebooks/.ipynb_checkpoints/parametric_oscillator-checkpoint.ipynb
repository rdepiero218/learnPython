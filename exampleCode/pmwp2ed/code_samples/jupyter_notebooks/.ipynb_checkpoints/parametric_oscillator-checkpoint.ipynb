{
 "cells": [
  {
   "cell_type": "markdown",
   "metadata": {},
   "source": [
    "# parametric_oscillator.ipynb\n",
    "Define a parametric function that accepts 4 parameters then integrate it\n",
    "using odeint."
   ]
  },
  {
   "cell_type": "code",
   "execution_count": 1,
   "metadata": {
    "collapsed": true
   },
   "outputs": [],
   "source": [
    "import numpy as np\n",
    "from scipy.integrate import odeint\n",
    "\n",
    "def F(y, t, spring_constant=1.0, mass=1.0):\n",
    "\t\"\"\"\n",
    "\tReturn derivatives for harmonic oscillator:\n",
    "\t\ty'' = -(k/m) * y\n",
    "\ty = displacement in [m]\n",
    "\tk = spring_constant in [N/m]\n",
    "\tm = mass in [kg]\n",
    "\t\"\"\"\n",
    "\tdy = [0, 0]\t\t\t# array to store derivatives\n",
    "\tdy[0] = y[1]\t\t\n",
    "\tdy[1] = -(spring_constant/mass) * y[0]\t\n",
    "\treturn dy\n",
    "\n",
    "# -------------------------------------------------------------------------\n",
    "# Integrate parametric function using two different methods.\n",
    "# ------------------------------------------------------------------------- \n",
    "y0 = (1.0, 0.0)\t\t\t\t\t\t# initial conditions\n",
    "t = np.linspace(0, 10, 101)\t\t\t# times at which y(t) will be evaluated\n",
    "\n",
    "# Method 1 -- dummy function\n",
    "def G(y, t): return F(y, t, 2.0, 0.5)\n",
    "yA = odeint(G, y0, t)\n",
    "\n",
    "# Method 2 -- keywords\n",
    "yB = odeint(F, y0, t, args=(2.0, 0.5))\n"
   ]
  },
  {
   "cell_type": "code",
   "execution_count": null,
   "metadata": {
    "collapsed": true
   },
   "outputs": [],
   "source": []
  }
 ],
 "metadata": {
  "kernelspec": {
   "display_name": "Python 3",
   "language": "python",
   "name": "python3"
  },
  "language_info": {
   "codemirror_mode": {
    "name": "ipython",
    "version": 3
   },
   "file_extension": ".py",
   "mimetype": "text/x-python",
   "name": "python",
   "nbconvert_exporter": "python",
   "pygments_lexer": "ipython3",
   "version": "3.6.1"
  }
 },
 "nbformat": 4,
 "nbformat_minor": 2
}
