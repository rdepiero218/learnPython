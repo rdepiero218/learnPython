{
 "metadata": {
  "name": ""
 },
 "nbformat": 3,
 "nbformat_minor": 0,
 "worksheets": [
  {
   "cells": [
    {
     "cell_type": "markdown",
     "metadata": {},
     "source": [
      "<div style=\"float: right;\" markdown=\"1\">\n",
      "    <img src=\"https://www.python.org/static/community_logos/python-logo-master-v3-TM.png\">\n",
      "</div>\n",
      "\n",
      "PYTHON\n",
      "==\n",
      "\n",
      "Python is an interpreted programming language oriented to easy-readable coding, unlike compiled languages like C/C++ and Fortran, where the syntax usually does not favor the readability. This feature makes Python very interesting when we want to focus on something different than the program structure itself, e.g. on Computational Methods, thereby allowing to optimize our time, to debug syntax errors easily, etc.\n",
      "\n",
      "\n",
      "[Official page](https://www.python.org/)\n",
      "\n",
      "[Wikipedia](http://en.wikipedia.org/wiki/Python)\n",
      "\n",
      "Python Philosophy\n",
      "--\n",
      "1. Beautiful is better than ugly.\n",
      "2. Explicit is better than implicit.\n",
      "3. Simple is better than complex.\n",
      "4. Complex is better than complicated.\n",
      "5. Flat is better than nested.\n",
      "6. Sparse is better than dense.\n",
      "7. Readability counts.\n",
      "8. Special cases aren't special enough to break the rules. (Although practicality beats purity)\n",
      "9. Errors should never pass silently. (Unless explicitly silenced)\n",
      "10. In the face of ambiguity, refuse the temptation to guess.\n",
      "11. There should be one-- and preferably only one --obvious way to do it. (Although that way may not be obvious at first unless you're Dutch)\n",
      "12. Now is better than never. (Although never is often better than right now)\n",
      "13. If the implementation is hard to explain, it's a bad idea.\n",
      "14. If the implementation is easy to explain, it may be a good idea.\n",
      "15. NameSpaces are one honking great idea -- let's do more of those!"
     ]
    },
    {
     "cell_type": "markdown",
     "metadata": {},
     "source": [
      "- - - "
     ]
    },
    {
     "cell_type": "markdown",
     "metadata": {},
     "source": [
      "- [Hello World!](#Hello-World!) \n",
      "- [Arithmetics](#Arithmetics)\n",
      "- [Lists, Tuples and Dictionaries](#Lists,-Tuples-and-Dictionaries)\n",
      "- [Bucles and Conditionals](#Bucles-and-Conditionals)\n",
      "- [Functions](#Functions)"
     ]
    },
    {
     "cell_type": "markdown",
     "metadata": {},
     "source": [
      "- - - "
     ]
    },
    {
     "cell_type": "heading",
     "level": 1,
     "metadata": {},
     "source": [
      "Hello World!"
     ]
    },
    {
     "cell_type": "code",
     "collapsed": false,
     "input": [
      "print('Hello World!')"
     ],
     "language": "python",
     "metadata": {},
     "outputs": [
      {
       "output_type": "stream",
       "stream": "stdout",
       "text": [
        "Hello World!\n"
       ]
      }
     ],
     "prompt_number": 1
    },
    {
     "cell_type": "markdown",
     "metadata": {},
     "source": [
      "And also allows scripting: *(This code should be copied on a file 'hello.py')*"
     ]
    },
    {
     "cell_type": "code",
     "collapsed": false,
     "input": [
      "#! /usr/bin/python\n",
      "\n",
      "#This is a comment\n",
      "print('Hello World!')"
     ],
     "language": "python",
     "metadata": {},
     "outputs": [
      {
       "output_type": "stream",
       "stream": "stdout",
       "text": [
        "Hello World!\n"
       ]
      }
     ],
     "prompt_number": 2
    },
    {
     "cell_type": "heading",
     "level": 1,
     "metadata": {},
     "source": [
      "Arithmetics"
     ]
    },
    {
     "cell_type": "heading",
     "level": 2,
     "metadata": {},
     "source": [
      "Sum"
     ]
    },
    {
     "cell_type": "code",
     "collapsed": false,
     "input": [
      "5.89+4.89"
     ],
     "language": "python",
     "metadata": {},
     "outputs": [
      {
       "metadata": {},
       "output_type": "pyout",
       "prompt_number": 3,
       "text": [
        "10.78"
       ]
      }
     ],
     "prompt_number": 3
    },
    {
     "cell_type": "heading",
     "level": 2,
     "metadata": {},
     "source": [
      "Multiplication"
     ]
    },
    {
     "cell_type": "code",
     "collapsed": false,
     "input": [
      "120*4.5"
     ],
     "language": "python",
     "metadata": {},
     "outputs": [
      {
       "metadata": {},
       "output_type": "pyout",
       "prompt_number": 4,
       "text": [
        "540.0"
       ]
      }
     ],
     "prompt_number": 4
    },
    {
     "cell_type": "heading",
     "level": 2,
     "metadata": {},
     "source": [
      "**Division**"
     ]
    },
    {
     "cell_type": "code",
     "collapsed": false,
     "input": [
      "#Unless you use decimals, python does not support complete division (only integer division)\n",
      "#This only applies for Python 2.X\n",
      "100/3"
     ],
     "language": "python",
     "metadata": {},
     "outputs": [
      {
       "metadata": {},
       "output_type": "pyout",
       "prompt_number": 5,
       "text": [
        "33"
       ]
      }
     ],
     "prompt_number": 5
    },
    {
     "cell_type": "code",
     "collapsed": false,
     "input": [
      "100/3."
     ],
     "language": "python",
     "metadata": {},
     "outputs": [
      {
       "metadata": {},
       "output_type": "pyout",
       "prompt_number": 6,
       "text": [
        "33.333333333333336"
       ]
      }
     ],
     "prompt_number": 6
    },
    {
     "cell_type": "heading",
     "level": 2,
     "metadata": {},
     "source": [
      "**Power**"
     ]
    },
    {
     "cell_type": "code",
     "collapsed": false,
     "input": [
      "2**6"
     ],
     "language": "python",
     "metadata": {},
     "outputs": [
      {
       "metadata": {},
       "output_type": "pyout",
       "prompt_number": 7,
       "text": [
        "64"
       ]
      }
     ],
     "prompt_number": 7
    },
    {
     "cell_type": "heading",
     "level": 2,
     "metadata": {},
     "source": [
      "**Module**"
     ]
    },
    {
     "cell_type": "code",
     "collapsed": false,
     "input": [
      "10%2"
     ],
     "language": "python",
     "metadata": {},
     "outputs": [
      {
       "metadata": {},
       "output_type": "pyout",
       "prompt_number": 8,
       "text": [
        "0"
       ]
      }
     ],
     "prompt_number": 8
    },
    {
     "cell_type": "code",
     "collapsed": false,
     "input": [
      "20%3"
     ],
     "language": "python",
     "metadata": {},
     "outputs": [
      {
       "metadata": {},
       "output_type": "pyout",
       "prompt_number": 9,
       "text": [
        "2"
       ]
      }
     ],
     "prompt_number": 9
    },
    {
     "cell_type": "heading",
     "level": 2,
     "metadata": {},
     "source": [
      "**Scientific notation**"
     ]
    },
    {
     "cell_type": "code",
     "collapsed": false,
     "input": [
      "(1.0e24/3. + 2.9e23)/1e-2"
     ],
     "language": "python",
     "metadata": {},
     "outputs": [
      {
       "metadata": {},
       "output_type": "pyout",
       "prompt_number": 10,
       "text": [
        "6.233333333333333e+25"
       ]
      }
     ],
     "prompt_number": 10
    },
    {
     "cell_type": "heading",
     "level": 1,
     "metadata": {},
     "source": [
      "Lists, Tuples and Dictionaries"
     ]
    },
    {
     "cell_type": "heading",
     "level": 2,
     "metadata": {},
     "source": [
      "Lists"
     ]
    },
    {
     "cell_type": "markdown",
     "metadata": {},
     "source": [
      "Lists are useful when you want to store and manipulate a set of elements (even of different types)."
     ]
    },
    {
     "cell_type": "code",
     "collapsed": false,
     "input": [
      "#A list is declared using [] and may content different type of objects\n",
      "lista = [\"abc\", 42, 3.1415]\n",
      "print lista"
     ],
     "language": "python",
     "metadata": {},
     "outputs": [
      {
       "output_type": "stream",
       "stream": "stdout",
       "text": [
        "['abc', 42, 3.1415]\n"
       ]
      }
     ],
     "prompt_number": 31
    },
    {
     "cell_type": "code",
     "collapsed": false,
     "input": [
      "#First element of the list\n",
      "lista[0]"
     ],
     "language": "python",
     "metadata": {},
     "outputs": [
      {
       "metadata": {},
       "output_type": "pyout",
       "prompt_number": 32,
       "text": [
        "'abc'"
       ]
      }
     ],
     "prompt_number": 32
    },
    {
     "cell_type": "code",
     "collapsed": false,
     "input": [
      "#Last element of the list\n",
      "lista[-1]"
     ],
     "language": "python",
     "metadata": {},
     "outputs": [
      {
       "metadata": {},
       "output_type": "pyout",
       "prompt_number": 33,
       "text": [
        "3.1415"
       ]
      }
     ],
     "prompt_number": 33
    },
    {
     "cell_type": "code",
     "collapsed": false,
     "input": [
      "#Adding a new element (boolean element)\n",
      "lista.append(True)\n",
      "print lista"
     ],
     "language": "python",
     "metadata": {},
     "outputs": [
      {
       "output_type": "stream",
       "stream": "stdout",
       "text": [
        "['abc', 42, 3.1415, True]\n"
       ]
      }
     ],
     "prompt_number": 34
    },
    {
     "cell_type": "code",
     "collapsed": false,
     "input": [
      "#Inserting a new second element \n",
      "lista.insert(1, \"I am second :)\")\n",
      "print lista"
     ],
     "language": "python",
     "metadata": {},
     "outputs": [
      {
       "output_type": "stream",
       "stream": "stdout",
       "text": [
        "['abc', 'I am second :)', 42, 3.1415, True]\n"
       ]
      }
     ],
     "prompt_number": 35
    },
    {
     "cell_type": "code",
     "collapsed": false,
     "input": [
      "#Deleting the third element of the list\n",
      "del lista[3]\n",
      "print lista"
     ],
     "language": "python",
     "metadata": {},
     "outputs": [
      {
       "output_type": "stream",
       "stream": "stdout",
       "text": [
        "['abc', 'I am second :)', 42, True]\n"
       ]
      }
     ],
     "prompt_number": 36
    },
    {
     "cell_type": "code",
     "collapsed": false,
     "input": [
      "#Reassign the first element of the list\n",
      "lista[0] = \"xyz\"\n",
      "print lista"
     ],
     "language": "python",
     "metadata": {},
     "outputs": [
      {
       "output_type": "stream",
       "stream": "stdout",
       "text": [
        "['xyz', 'I am second :)', 42, True]\n"
       ]
      }
     ],
     "prompt_number": 37
    },
    {
     "cell_type": "code",
     "collapsed": false,
     "input": [
      "#Showing the elements from 0 to 2\n",
      "lista[0:3]"
     ],
     "language": "python",
     "metadata": {},
     "outputs": [
      {
       "metadata": {},
       "output_type": "pyout",
       "prompt_number": 40,
       "text": [
        "['xyz', 'I am second :)', 42]"
       ]
      }
     ],
     "prompt_number": 40
    },
    {
     "cell_type": "code",
     "collapsed": false,
     "input": [
      "#Showing elements two by two\n",
      "lista[::2]"
     ],
     "language": "python",
     "metadata": {},
     "outputs": [
      {
       "metadata": {},
       "output_type": "pyout",
       "prompt_number": 41,
       "text": [
        "['xyz', 42]"
       ]
      }
     ],
     "prompt_number": 41
    },
    {
     "cell_type": "code",
     "collapsed": false,
     "input": [
      "#It is possible to embed a list\n",
      "embedded_list = [lista, [True, 42L]]\n",
      "print embedded_list"
     ],
     "language": "python",
     "metadata": {},
     "outputs": [
      {
       "output_type": "stream",
       "stream": "stdout",
       "text": [
        "[['xyz', 42, 3.1415], [True, 42L]]\n"
       ]
      }
     ],
     "prompt_number": 25
    },
    {
     "cell_type": "code",
     "collapsed": false,
     "input": [
      "#Second element of the first list\n",
      "embedded_list[0][1]"
     ],
     "language": "python",
     "metadata": {},
     "outputs": [
      {
       "metadata": {},
       "output_type": "pyout",
       "prompt_number": 26,
       "text": [
        "42"
       ]
      }
     ],
     "prompt_number": 26
    },
    {
     "cell_type": "code",
     "collapsed": false,
     "input": [
      "#A matrix as a list of embedded lists\n",
      "A = [ [1,2], [3,4] ]\n",
      "print A"
     ],
     "language": "python",
     "metadata": {},
     "outputs": [
      {
       "output_type": "stream",
       "stream": "stdout",
       "text": [
        "[[1, 2], [3, 4]]\n"
       ]
      }
     ],
     "prompt_number": 44
    },
    {
     "cell_type": "code",
     "collapsed": false,
     "input": [
      "#When two list are added, the result is a new concatenated list\n",
      "[1,2,\"ab\",True,[1,2]] + [3.1415,\"Pi\",\"circle\"]"
     ],
     "language": "python",
     "metadata": {},
     "outputs": [
      {
       "metadata": {},
       "output_type": "pyout",
       "prompt_number": 46,
       "text": [
        "[1, 2, 'ab', True, [1, 2], 3.1415, 'Pi', 'circle']"
       ]
      }
     ],
     "prompt_number": 46
    },
    {
     "cell_type": "heading",
     "level": 2,
     "metadata": {},
     "source": [
      "Tuples"
     ]
    },
    {
     "cell_type": "markdown",
     "metadata": {},
     "source": [
      "A tuple is almost equal to a list, except that once declared its elements, it is not possible to modify them. Therefore, tuples are useful when you only want to store some elements but not modify them."
     ]
    },
    {
     "cell_type": "code",
     "collapsed": false,
     "input": [
      "#A tuple is declared using ()\n",
      "tupla = (\"abc\", 42, 3.1415)\n",
      "print tupla"
     ],
     "language": "python",
     "metadata": {},
     "outputs": []
    },
    {
     "cell_type": "code",
     "collapsed": false,
     "input": [
      "#It is not possible to add more elements\n",
      "tupla.append(\"xy\")"
     ],
     "language": "python",
     "metadata": {},
     "outputs": [
      {
       "ename": "AttributeError",
       "evalue": "'tuple' object has no attribute 'append'",
       "output_type": "pyerr",
       "traceback": [
        "\u001b[0;31m---------------------------------------------------------------------------\u001b[0m\n\u001b[0;31mAttributeError\u001b[0m                            Traceback (most recent call last)",
        "\u001b[0;32m<ipython-input-65-dd567ac24edd>\u001b[0m in \u001b[0;36m<module>\u001b[0;34m()\u001b[0m\n\u001b[1;32m      1\u001b[0m \u001b[0;31m#It is not possible to add more elements\u001b[0m\u001b[0;34m\u001b[0m\u001b[0;34m\u001b[0m\u001b[0m\n\u001b[0;32m----> 2\u001b[0;31m \u001b[0mtupla\u001b[0m\u001b[0;34m.\u001b[0m\u001b[0mappend\u001b[0m\u001b[0;34m(\u001b[0m\u001b[0;34m\"xy\"\u001b[0m\u001b[0;34m)\u001b[0m\u001b[0;34m\u001b[0m\u001b[0m\n\u001b[0m",
        "\u001b[0;31mAttributeError\u001b[0m: 'tuple' object has no attribute 'append'"
       ]
      }
     ],
     "prompt_number": 65
    },
    {
     "cell_type": "code",
     "collapsed": false,
     "input": [
      "#It is not possible to delete an element\n",
      "del tupla[0]"
     ],
     "language": "python",
     "metadata": {},
     "outputs": [
      {
       "ename": "TypeError",
       "evalue": "'tuple' object doesn't support item deletion",
       "output_type": "pyerr",
       "traceback": [
        "\u001b[0;31m---------------------------------------------------------------------------\u001b[0m\n\u001b[0;31mTypeError\u001b[0m                                 Traceback (most recent call last)",
        "\u001b[0;32m<ipython-input-66-17ab9d47366f>\u001b[0m in \u001b[0;36m<module>\u001b[0;34m()\u001b[0m\n\u001b[1;32m      1\u001b[0m \u001b[0;31m#It is not possible to delete an element\u001b[0m\u001b[0;34m\u001b[0m\u001b[0;34m\u001b[0m\u001b[0m\n\u001b[0;32m----> 2\u001b[0;31m \u001b[0;32mdel\u001b[0m \u001b[0mtupla\u001b[0m\u001b[0;34m[\u001b[0m\u001b[0;36m0\u001b[0m\u001b[0;34m]\u001b[0m\u001b[0;34m\u001b[0m\u001b[0m\n\u001b[0m",
        "\u001b[0;31mTypeError\u001b[0m: 'tuple' object doesn't support item deletion"
       ]
      }
     ],
     "prompt_number": 66
    },
    {
     "cell_type": "code",
     "collapsed": false,
     "input": [
      "#It is not possible to modify an existing element\n",
      "tupla[0] = \"xy\""
     ],
     "language": "python",
     "metadata": {},
     "outputs": [
      {
       "ename": "TypeError",
       "evalue": "'tuple' object does not support item assignment",
       "output_type": "pyerr",
       "traceback": [
        "\u001b[0;31m---------------------------------------------------------------------------\u001b[0m\n\u001b[0;31mTypeError\u001b[0m                                 Traceback (most recent call last)",
        "\u001b[0;32m<ipython-input-67-87de1a05f9b3>\u001b[0m in \u001b[0;36m<module>\u001b[0;34m()\u001b[0m\n\u001b[1;32m      1\u001b[0m \u001b[0;31m#It is not possible to modify an existing element\u001b[0m\u001b[0;34m\u001b[0m\u001b[0;34m\u001b[0m\u001b[0m\n\u001b[0;32m----> 2\u001b[0;31m \u001b[0mtupla\u001b[0m\u001b[0;34m[\u001b[0m\u001b[0;36m0\u001b[0m\u001b[0;34m]\u001b[0m \u001b[0;34m=\u001b[0m \u001b[0;34m\"xy\"\u001b[0m\u001b[0;34m\u001b[0m\u001b[0m\n\u001b[0m",
        "\u001b[0;31mTypeError\u001b[0m: 'tuple' object does not support item assignment"
       ]
      }
     ],
     "prompt_number": 67
    },
    {
     "cell_type": "heading",
     "level": 2,
     "metadata": {},
     "source": [
      "Dictionaries"
     ]
    },
    {
     "cell_type": "markdown",
     "metadata": {},
     "source": [
      "Dictionaries are extremely useful when manipulating complex data."
     ]
    },
    {
     "cell_type": "code",
     "collapsed": false,
     "input": [
      "#A dictionary is declared using {}, and specifying the name of the component, then the character : followed by the element to store.\n",
      "dictionary = { \"Colombia\":\"Bogota\", \"Argentina\":\"Buenos Aires\", \"Bolivia\":\"La Paz\", \"Francia\":\"Paris\", \"Alemania\":\"Berlin\" }\n",
      "print dictionary\n",
      "#Note the order in a dictionary does not matter as one identifies a single element through a string, not a number"
     ],
     "language": "python",
     "metadata": {},
     "outputs": [
      {
       "output_type": "stream",
       "stream": "stdout",
       "text": [
        "{'Francia': 'Paris', 'Argentina': 'Buenos Aires', 'Bolivia': 'La Paz', 'Alemania': 'Berlin', 'Colombia': 'Bogota'}\n"
       ]
      }
     ],
     "prompt_number": 69
    },
    {
     "cell_type": "code",
     "collapsed": false,
     "input": [
      "#Instead of a number, an element of a dictionary is accessed with the name of the component\n",
      "print dictionary[\"Colombia\"]\n",
      "print dictionary[\"Alemania\"]"
     ],
     "language": "python",
     "metadata": {},
     "outputs": [
      {
       "output_type": "stream",
       "stream": "stdout",
       "text": [
        "Bogota\n",
        "Berlin\n"
       ]
      }
     ],
     "prompt_number": 71
    },
    {
     "cell_type": "code",
     "collapsed": false,
     "input": [
      "#The elements of the dictionary may be of any type\n",
      "dictionary2 = { \"Enteros\":[1,2,3,4,5], \"Ciudad\":\"Medellin\", \"Cedula\":1128400433, \"Colores\":[\"Amarillo\", \"Azul\", \"Rojo\"] }\n",
      "print dictionary2[\"Colores\"][1]"
     ],
     "language": "python",
     "metadata": {},
     "outputs": [
      {
       "output_type": "stream",
       "stream": "stdout",
       "text": [
        "Azul\n"
       ]
      }
     ],
     "prompt_number": 2
    },
    {
     "cell_type": "code",
     "collapsed": false,
     "input": [
      "#The elements of the dictionary can be modified only by changing directly such an element\n",
      "dictionary2[\"Ciudad\"] = \"Bogota\"\n",
      "print dictionary2"
     ],
     "language": "python",
     "metadata": {},
     "outputs": [
      {
       "output_type": "stream",
       "stream": "stdout",
       "text": [
        "{'Ciudad': 'Bogota', 'Colores': ['Amarillo', 'Azul', 'Rojo'], 'Cedula': 1128400433, 'Enteros': [1, 2, 3, 4, 5]}\n"
       ]
      }
     ],
     "prompt_number": 3
    },
    {
     "cell_type": "code",
     "collapsed": false,
     "input": [
      "#Adding a new element is possible by only defining the new component\n",
      "dictionary2[\"Pais\"] = \"Colombia\"\n",
      "print dictionary2"
     ],
     "language": "python",
     "metadata": {},
     "outputs": [
      {
       "output_type": "stream",
       "stream": "stdout",
       "text": [
        "{'Pais': 'Colombia', 'Ciudad': 'Bogota', 'Colores': ['Amarillo', 'Azul', 'Rojo'], 'Cedula': 1128400433, 'Enteros': [1, 2, 3, 4, 5]}\n"
       ]
      }
     ],
     "prompt_number": 4
    },
    {
     "cell_type": "code",
     "collapsed": false,
     "input": [
      "#The command del can be also used for deleting an element, as a list\n",
      "del dictionary2[\"Colores\"]\n",
      "print dictionary2"
     ],
     "language": "python",
     "metadata": {},
     "outputs": [
      {
       "output_type": "stream",
       "stream": "stdout",
       "text": [
        "{'Pais': 'Colombia', 'Ciudad': 'Bogota', 'Cedula': 1128400433, 'Enteros': [1, 2, 3, 4, 5]}\n"
       ]
      }
     ],
     "prompt_number": 5
    },
    {
     "cell_type": "heading",
     "level": 1,
     "metadata": {},
     "source": [
      "Bucles and Conditionals"
     ]
    },
    {
     "cell_type": "heading",
     "level": 2,
     "metadata": {},
     "source": [
      "if"
     ]
    },
    {
     "cell_type": "markdown",
     "metadata": {},
     "source": [
      "Conditionals are useful when we want to check some condition.\n",
      "The statements `elif` and `else` can be used when more than one condition is possible or when there is something to do when condition is not fulfilled."
     ]
    },
    {
     "cell_type": "code",
     "collapsed": false,
     "input": [
      "x = 10\n",
      "y = 2\n",
      "if x > 5 and y==2:\n",
      "    print \"True\""
     ],
     "language": "python",
     "metadata": {},
     "outputs": [
      {
       "output_type": "stream",
       "stream": "stdout",
       "text": [
        "True\n"
       ]
      }
     ],
     "prompt_number": 16
    },
    {
     "cell_type": "code",
     "collapsed": false,
     "input": [
      "x = 4\n",
      "y = 3\n",
      "if x>5 or y<2:\n",
      "    print \"True 1\"\n",
      "elif x==4:\n",
      "    print \"True 2\"\n",
      "else:\n",
      "    print \"False\""
     ],
     "language": "python",
     "metadata": {},
     "outputs": [
      {
       "output_type": "stream",
       "stream": "stdout",
       "text": [
        "True 2\n"
       ]
      }
     ],
     "prompt_number": 29
    },
    {
     "cell_type": "heading",
     "level": 2,
     "metadata": {},
     "source": [
      "for"
     ]
    },
    {
     "cell_type": "markdown",
     "metadata": {},
     "source": [
      "`For` cycles are specially useful when we want to sweep a set of elements with a known size."
     ]
    },
    {
     "cell_type": "code",
     "collapsed": false,
     "input": [
      "for i in xrange(0,5,1):\n",
      "    print i, i**2"
     ],
     "language": "python",
     "metadata": {},
     "outputs": [
      {
       "output_type": "stream",
       "stream": "stdout",
       "text": [
        "0 0\n",
        "1 1\n",
        "2 4\n",
        "3 9\n",
        "4 16\n"
       ]
      }
     ],
     "prompt_number": 22
    },
    {
     "cell_type": "code",
     "collapsed": false,
     "input": [
      "suma = 0\n",
      "for i in xrange(0,10,1):\n",
      "    suma += i**2\n",
      "print \"The result is %d\"%(suma)"
     ],
     "language": "python",
     "metadata": {},
     "outputs": [
      {
       "output_type": "stream",
       "stream": "stdout",
       "text": [
        "The result is 285\n"
       ]
      }
     ],
     "prompt_number": 24
    },
    {
     "cell_type": "code",
     "collapsed": false,
     "input": [
      "for language in ['Python', 'C', 'C++', 'Ruby', 'Java']:\n",
      "    print language"
     ],
     "language": "python",
     "metadata": {},
     "outputs": [
      {
       "output_type": "stream",
       "stream": "stdout",
       "text": [
        "Python\n",
        "C\n",
        "C++\n",
        "Ruby\n",
        "Java\n"
       ]
      }
     ],
     "prompt_number": 25
    },
    {
     "cell_type": "code",
     "collapsed": false,
     "input": [
      "serie = [ i**2 for i in xrange(1,10) ]\n",
      "print( serie )"
     ],
     "language": "python",
     "metadata": {},
     "outputs": [
      {
       "output_type": "stream",
       "stream": "stdout",
       "text": [
        "[1, 4, 9, 16, 25, 36, 49, 64, 81]\n"
       ]
      }
     ],
     "prompt_number": 51
    },
    {
     "cell_type": "heading",
     "level": 2,
     "metadata": {},
     "source": [
      "while"
     ]
    },
    {
     "cell_type": "markdown",
     "metadata": {},
     "source": [
      "`While` cycles are specially useful when we want to sweep a set of elements with an  unknown size."
     ]
    },
    {
     "cell_type": "code",
     "collapsed": false,
     "input": [
      "#! /usr/bin/python\n",
      "number = int(input(\"Write a positive number: \"))\n",
      "while numero < 0:\n",
      "    print(\"You wrote a negative number. Do it again\")\n",
      "    numero = int(input(\"Write a positive number: \"))\n",
      "print(\"Thank you!\")"
     ],
     "language": "python",
     "metadata": {},
     "outputs": [
      {
       "output_type": "stream",
       "stream": "stdout",
       "text": [
        "Write a positive number:  -10\n",
        "You wrote a negative number. Do it again\n",
        "Write a positive number:  -5\n",
        "You wrote a negative number. Do it again\n",
        "Write a positive number:  -2\n",
        "You wrote a negative number. Do it again\n",
        "Write a positive number:  2\n",
        "Thank you!\n"
       ]
      }
     ],
     "prompt_number": 33
    },
    {
     "cell_type": "code",
     "collapsed": false,
     "input": [
      "from numpy.random import random\n",
      "x = 0\n",
      "while x<0.9:\n",
      "    x = random()\n",
      "    print x\n",
      "print \"The selected number was\", x"
     ],
     "language": "python",
     "metadata": {},
     "outputs": [
      {
       "output_type": "stream",
       "stream": "stdout",
       "text": [
        "0.276865731891\n",
        "0.548376718376\n",
        "0.777814240976\n",
        "0.102083005032\n",
        "0.441029966753\n",
        "0.986556748219\n",
        "The selected number was 0.986556748219\n"
       ]
      }
     ],
     "prompt_number": 40
    },
    {
     "cell_type": "heading",
     "level": 1,
     "metadata": {},
     "source": [
      "Functions"
     ]
    },
    {
     "cell_type": "heading",
     "level": 2,
     "metadata": {},
     "source": [
      "**Explicit functions**"
     ]
    },
    {
     "cell_type": "code",
     "collapsed": false,
     "input": [
      "def f(x,y):\n",
      "    return x*y\n",
      "f(3,2)"
     ],
     "language": "python",
     "metadata": {},
     "outputs": [
      {
       "output_type": "pyout",
       "prompt_number": 74,
       "text": [
        "6"
       ]
      }
     ],
     "prompt_number": 74
    },
    {
     "cell_type": "code",
     "collapsed": false,
     "input": [
      "#It is possible to assign default arguments\n",
      "def f(x,y=2):\n",
      "    return x*y\n",
      "#When evaluating, we can omit the default argument\n",
      "f(3)"
     ],
     "language": "python",
     "metadata": {},
     "outputs": [
      {
       "output_type": "pyout",
       "prompt_number": 75,
       "text": [
        "6"
       ]
      }
     ],
     "prompt_number": 75
    },
    {
     "cell_type": "code",
     "collapsed": false,
     "input": [
      "#It is possible to specify explicitly the order of the arguments\n",
      "def f(x,y):\n",
      "    return x**y\n",
      "print 'f(1,2)=',f(1,2)\n",
      "print 'f(2,1)=',f(y=1,x=2)"
     ],
     "language": "python",
     "metadata": {},
     "outputs": [
      {
       "output_type": "stream",
       "stream": "stdout",
       "text": [
        "f(1,2)= 1\n",
        "f(2,1)= 2\n"
       ]
      }
     ],
     "prompt_number": 80
    },
    {
     "cell_type": "heading",
     "level": 2,
     "metadata": {},
     "source": [
      "Implicit functions"
     ]
    },
    {
     "cell_type": "markdown",
     "metadata": {},
     "source": [
      "Implicit functions are usdeful when we want to use a function once."
     ]
    },
    {
     "cell_type": "code",
     "collapsed": false,
     "input": [
      "f = lambda x,y: x**y\n",
      "f(3,2)"
     ],
     "language": "python",
     "metadata": {},
     "outputs": [
      {
       "output_type": "pyout",
       "prompt_number": 82,
       "text": [
        "9"
       ]
      }
     ],
     "prompt_number": 82
    },
    {
     "cell_type": "code",
     "collapsed": false,
     "input": [
      "#It is possible to pass functions as arguments of other function\n",
      "def f2( f, x ):\n",
      "    return f(x)**2\n",
      "\n",
      "#We can define a new function explicitly\n",
      "def f(x):\n",
      "    return x+2\n",
      "print \"Explicit: f(2)^2 =\", f2(f,2)\n",
      "\n",
      "#Or define the function implicitly\n",
      "print \"Implicit: f(2)^2 =\", f2(lambda x:x+2,2)"
     ],
     "language": "python",
     "metadata": {},
     "outputs": [
      {
       "output_type": "stream",
       "stream": "stdout",
       "text": [
        "Explicit: f(2)^2 = 16\n",
        "Implicit: f(2)^2 = 16\n"
       ]
      }
     ],
     "prompt_number": 85
    }
   ],
   "metadata": {}
  }
 ]
}