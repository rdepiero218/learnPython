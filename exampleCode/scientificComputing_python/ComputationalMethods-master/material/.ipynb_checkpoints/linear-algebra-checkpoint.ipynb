{
 "metadata": {
  "name": ""
 },
 "nbformat": 3,
 "nbformat_minor": 0,
 "worksheets": [
  {
   "cells": [
    {
     "cell_type": "heading",
     "level": 1,
     "metadata": {},
     "source": [
      "Linear Algebra"
     ]
    },
    {
     "cell_type": "markdown",
     "metadata": {},
     "source": [
      "Linear Algebra is a discipline where vector spaces and linear mapping between them are studied. In physics and astronomy, several phenomena can be readily written in terms of linear variables, what makes Computational Linear Algebra a very important topic to be covered throughout this course. We shall cover linear systems of equations, techniques for calculating inverses and determinants and factorization methods.\n",
      "\n",
      "An interesting fact of Computational Linear Algebra is that it does not comprises numerical approaches as most of the methods are exact. The usage of a computer is then necessary because of the large number of calculations rather than the non-soluble nature of the problems. Numerical errors come then from round-off approximations."
     ]
    },
    {
     "cell_type": "markdown",
     "metadata": {},
     "source": [
      "- - -\n",
      "- [Linear Systems of Equations](#Linear-Systems-of-Equations) \n",
      "    - [Matrices and vectors](#Matrices-and-vectors)\n",
      "    - [Example 1](#Example-1)\n",
      "    - [Matrices in Python](#Matrices-in-Python)\n",
      "    - [Basic operations with matrices](#Basic-operations-with-matrices)\n",
      "- [Gaussian Elimination](#Gaussian-Elimination)\n",
      "    - [General Gaussian elimination](#General-Gaussian-elimination)\n",
      "    - [Computing time](#Computing-time)\n",
      "    - [Example 2](#Example-2)\n",
      "- [Pivoting Strategies](#Pivoting-Strategies)\n",
      "    - [Partial pivoting](#Partial-pivoting)\n",
      "- [Matrix Inversion](#Matrix-Inversion)\n",
      "    \n",
      "- - -"
     ]
    },
    {
     "cell_type": "code",
     "collapsed": false,
     "input": [
      "import numpy as np\n",
      "%pylab inline\n",
      "import matplotlib.pyplot as plt\n",
      "# JSAnimation import available at https://github.com/jakevdp/JSAnimation\n",
      "from JSAnimation import IPython_display\n",
      "from matplotlib import animation\n",
      "#Interpolation add-on\n",
      "import scipy.interpolate as interp"
     ],
     "language": "python",
     "metadata": {},
     "outputs": [
      {
       "output_type": "stream",
       "stream": "stdout",
       "text": [
        "Populating the interactive namespace from numpy and matplotlib\n"
       ]
      }
     ],
     "prompt_number": 1
    },
    {
     "cell_type": "markdown",
     "metadata": {},
     "source": [
      "- - - "
     ]
    },
    {
     "cell_type": "heading",
     "level": 1,
     "metadata": {},
     "source": [
      "Linear Systems of Equations"
     ]
    },
    {
     "cell_type": "markdown",
     "metadata": {},
     "source": [
      "A linear system is a set of equations of $n$ variables that can be written in a general form:\n",
      "\n",
      "$$ a_{11}x_1 + a_{12}x_2 + \\cdots a_{1n}x_n = b_1 $$\n",
      "$$\\vdots$$\n",
      "$$ a_{m1}x_1 + a_{m2}x_2 + \\cdots a_{mn}x_n = b_m $$\n",
      "\n",
      "where $n$ is, again, the number of variables, and $m$ the number of equations. \n",
      "\n",
      "A linear system has solution if and only if $m\\geq n$. This leads us to the main objetive of a linear system, find the set $\\{x_i\\}_{i=0}^n$ that fulfills all the equations.\n",
      "\n",
      "Although there is an intuitive way to solve this type of systems, by just adding and subtracting equations until reaching the desire result, the large number of variables of some systems found in physics and astronomy makes necessary to develop iterative and general approaches. Next, we shall introduce matrix and vector notation and some basic operations that will be the basis of the methods to be developed in this section."
     ]
    },
    {
     "cell_type": "heading",
     "level": 2,
     "metadata": {},
     "source": [
      "Matrices and vectors"
     ]
    },
    {
     "cell_type": "markdown",
     "metadata": {},
     "source": [
      "A $m\\times n$ matrix can be defined as a set of numbers arranged in columns and rows such as:\n",
      "\n",
      "$$ A = [a_{ij}] = \\left[ \\matrix{\n",
      "a_{11} & a_{12} & \\cdots & a_{1n} \\\\\n",
      "a_{21} & a_{22} & \\cdots & a_{2n} \\\\\n",
      "\\vdots & \\vdots & & \\vdots\\\\\n",
      "a_{m1} & a_{m2} & \\cdots & a_{mn} \n",
      "}\\right] $$\n",
      "\n",
      "In the same way, it is possible to define a $n$-dimensional column vector as\n",
      "\n",
      "$$ \\textbf{x} = \\left[ \\matrix{\n",
      "x_{1} \\\\\n",
      "x_{2} \\\\\n",
      "\\vdots\\\\\n",
      "x_{n} \n",
      "}\\right] $$\n",
      "\n",
      "and a row vector \n",
      "\n",
      "$$ \\textbf{y} = \\left[ \\matrix{\n",
      "y_{1} &\n",
      "y_{2} &\n",
      "\\cdots &\n",
      "y_{n} \n",
      "}\\right] $$"
     ]
    },
    {
     "cell_type": "markdown",
     "metadata": {},
     "source": [
      "The system of equations \n",
      "\n",
      "$$ a_{11}x_1 + a_{12}x_2 + \\cdots a_{1n}x_n = b_1 $$\n",
      "$$\\vdots$$\n",
      "$$ a_{m1}x_1 + a_{m2}x_2 + \\cdots a_{mn}x_n = b_m $$\n",
      "\n",
      "can be then written in a more convenient way as\n",
      "\n",
      "$$ A \\textbf{x} =  \\left[ \\matrix{\n",
      "a_{11} & a_{12} & \\cdots & a_{1n} \\\\\n",
      "a_{21} & a_{22} & \\cdots & a_{2n} \\\\\n",
      "\\vdots & \\vdots & & \\vdots\\\\\n",
      "a_{m1} & a_{m2} & \\cdots & a_{mn} \n",
      "}\\right] \n",
      "\\left[ \\matrix{\n",
      "x_{1} \\\\\n",
      "x_{2} \\\\\n",
      "\\vdots\\\\\n",
      "x_{n} \n",
      "}\\right]  = b = \n",
      "\\left[ \\matrix{\n",
      "b_{1} \\\\\n",
      "b_{2} \\\\\n",
      "\\vdots\\\\\n",
      "b_{n} \n",
      "}\\right]$$\n",
      "\n",
      "We can also introducing the $n\\times (n+1)$ **augmented matrix** as\n",
      "\n",
      "$$[A:\\textbf{b}] =  \\left[ \\matrix{\n",
      "a_{11} & a_{12} & \\cdots & a_{1n} & \\vdots & b_1 \\\\\n",
      "a_{21} & a_{22} & \\cdots & a_{2n} & \\vdots & b_2 \\\\\n",
      "\\vdots & \\vdots & & \\vdots & \\vdots & \\vdots \\\\\n",
      "a_{m1} & a_{n2} & \\cdots & a_{nn} & \\vdots & b_n\n",
      "}\\right]$$"
     ]
    },
    {
     "cell_type": "heading",
     "level": 2,
     "metadata": {},
     "source": [
      "Example 1"
     ]
    },
    {
     "cell_type": "markdown",
     "metadata": {},
     "source": [
      "Using Kirchhoff's circuit laws, it is possible to solve the next system:\n",
      "\n",
      "![](https://raw.githubusercontent.com/sbustamante/ComputationalMethods/master/material/figures/circuit.png)\n",
      "\n",
      "obtaining the next equations:\n",
      "\n",
      "$$ I_A( R+4R ) - I_B( 4R ) = E $$\n",
      "$$ -I_A( 4R ) + I_B( 4R + 3R ) - I_C(3R) = 0 $$\n",
      "$$ -I_B( 3R ) + I_C(3R+2R) = -2E $$\n",
      "\n",
      "Defining the variables $x_1 = R I_A/E$, $x_2 = R I_B/E$ and $x_3 = R I_C/E$, it is possible to rewrite the previous problem in matrix notation as:\n",
      "\n",
      "$$ \\left[ \\matrix{\n",
      "5 & -4 & 0 \\\\\n",
      "-4 & 7 & -3 \\\\ \n",
      "0 & -3 & 5\n",
      "}\\right] \n",
      "\\left[ \\matrix{\n",
      "x_{1} \\\\\n",
      "x_{2} \\\\\n",
      "x_{3} \n",
      "}\\right]  =\n",
      "\\left[ \\matrix{\n",
      "1 \\\\\n",
      "0 \\\\\n",
      "-2\n",
      "}\\right]$$"
     ]
    },
    {
     "cell_type": "heading",
     "level": 2,
     "metadata": {},
     "source": [
      "Matrices in Python"
     ]
    },
    {
     "cell_type": "markdown",
     "metadata": {},
     "source": [
      "One of the most useful advantages of high level languages like Python, is the manipulation of complex objects like matrices and vectors. For this part we are going to use advanced capabilities for handling matrices, provided by the library NumPy.\n",
      "\n",
      "NumPy, besides the extreme useful NumPy array objects, also provides the Matrix objects that are overloaded with proper matrix operations."
     ]
    },
    {
     "cell_type": "code",
     "collapsed": false,
     "input": [
      "#NumPy Arrays\n",
      "M1 = np.array( [[5,-4,0],[-4,7,-3],[0,-3,5]] )\n",
      "M2 = np.array( [[3,-2,1],[-1,5,4],[1,-2,3]] )\n",
      "print M1, \"\\n\"\n",
      "print M2"
     ],
     "language": "python",
     "metadata": {},
     "outputs": [
      {
       "output_type": "stream",
       "stream": "stdout",
       "text": [
        "[[ 5 -4  0]\n",
        " [-4  7 -3]\n",
        " [ 0 -3  5]] \n",
        "\n",
        "[[ 3 -2  1]\n",
        " [-1  5  4]\n",
        " [ 1 -2  3]]\n"
       ]
      }
     ],
     "prompt_number": 48
    },
    {
     "cell_type": "code",
     "collapsed": false,
     "input": [
      "#Addition\n",
      "print M1+M2"
     ],
     "language": "python",
     "metadata": {},
     "outputs": [
      {
       "output_type": "stream",
       "stream": "stdout",
       "text": [
        "[[ 8 -6  1]\n",
        " [-5 12  1]\n",
        " [ 1 -5  8]]\n"
       ]
      }
     ],
     "prompt_number": 49
    },
    {
     "cell_type": "code",
     "collapsed": false,
     "input": [
      "#Multiplication\n",
      "print M1*M2"
     ],
     "language": "python",
     "metadata": {},
     "outputs": [
      {
       "output_type": "stream",
       "stream": "stdout",
       "text": [
        "[[ 15   8   0]\n",
        " [  4  35 -12]\n",
        " [  0   6  15]]\n"
       ]
      }
     ],
     "prompt_number": 50
    },
    {
     "cell_type": "code",
     "collapsed": false,
     "input": [
      "#Division\n",
      "print 1.0*M1/M2"
     ],
     "language": "python",
     "metadata": {},
     "outputs": [
      {
       "output_type": "stream",
       "stream": "stdout",
       "text": [
        "[[ 1.66666667  2.          0.        ]\n",
        " [ 4.          1.4        -0.75      ]\n",
        " [ 0.          1.5         1.66666667]]\n"
       ]
      }
     ],
     "prompt_number": 51
    },
    {
     "cell_type": "code",
     "collapsed": false,
     "input": [
      "#NumPy Matrix\n",
      "M1 = np.matrix( [[5,-4,0],[-4,7,-3],[0,-3,5]] )\n",
      "M2 = np.matrix( [[3,-2,1],[-1,5,4],[1,-2,3]] )\n",
      "\n",
      "print M1, \"\\n\"\n",
      "print M2"
     ],
     "language": "python",
     "metadata": {},
     "outputs": [
      {
       "output_type": "stream",
       "stream": "stdout",
       "text": [
        "[[ 5 -4  0]\n",
        " [-4  7 -3]\n",
        " [ 0 -3  5]] \n",
        "\n",
        "[[ 3 -2  1]\n",
        " [-1  5  4]\n",
        " [ 1 -2  3]]\n"
       ]
      }
     ],
     "prompt_number": 52
    },
    {
     "cell_type": "code",
     "collapsed": false,
     "input": [
      "#Addition\n",
      "print M1+M2"
     ],
     "language": "python",
     "metadata": {},
     "outputs": [
      {
       "output_type": "stream",
       "stream": "stdout",
       "text": [
        "[[ 8 -6  1]\n",
        " [-5 12  1]\n",
        " [ 1 -5  8]]\n"
       ]
      }
     ],
     "prompt_number": 53
    },
    {
     "cell_type": "code",
     "collapsed": false,
     "input": [
      "#Multiplication\n",
      "print M1*M2"
     ],
     "language": "python",
     "metadata": {},
     "outputs": [
      {
       "output_type": "stream",
       "stream": "stdout",
       "text": [
        "[[ 19 -30 -11]\n",
        " [-22  49  15]\n",
        " [  8 -25   3]]\n"
       ]
      }
     ],
     "prompt_number": 54
    },
    {
     "cell_type": "heading",
     "level": 2,
     "metadata": {},
     "source": [
      "Basic operations with matrices"
     ]
    },
    {
     "cell_type": "markdown",
     "metadata": {},
     "source": [
      "In order to simplify following methods, we introduce here 3 basic operations over linear systems:\n",
      "\n",
      "**1.** The $i$-th row $E_i$ can be multiplied by a non-zero constant $\\lambda$, and then a new row used in place of $E_i$, i.e. $(\\lambda E_i)\\rightarrow (E_i)$. We denote this operation as $Lamb(E_i,\\lambda)$.\n",
      "\n",
      "**2.** The $j$-th row $E_j$ can be multiplied by a non-zero constant $\\lambda$ and added to some row $E_i$. The resulting value take the place of $E_i$, i.e. $(E_i + \\lambda E_j)\\rightarrow (E_i)$. We denote this operation as $Comb(E_i,E_j,\\lambda)$.\n",
      "\n",
      "**3.** Finally, we define a swapping of two rows as $(E_i)\\leftrightarrow (E_j)$, denoted as $Swap(E_i,E_j)$"
     ]
    },
    {
     "cell_type": "heading",
     "level": 2,
     "metadata": {},
     "source": [
      "<font color='red'>\n",
      "Activity\n",
      "</font>"
     ]
    },
    {
     "cell_type": "markdown",
     "metadata": {},
     "source": [
      "<font color='red'>\n",
      "Write three routines that perform, given a matrix $A$, the previous operations over matrices:\n",
      "</font>"
     ]
    },
    {
     "cell_type": "markdown",
     "metadata": {},
     "source": [
      "<font color='red'>\n",
      " **row_lamb($i$, $\\lambda$, $A$)**: $i$ is the row to be changed, $\\lambda$ the multiplicative factor and A the matrix. This function should return the new matrix with the performed operation $(\\lambda E_i)\\rightarrow (E_i)$.\n",
      "</font>"
     ]
    },
    {
     "cell_type": "markdown",
     "metadata": {},
     "source": [
      "<font color='red'>\n",
      " **row_comb($i$, $j$ $\\lambda$, $A$)**: $i$ is the row to be changed, $j$ the row to be added, $\\lambda$ the multiplicative factor and A the matrix. This function should return the new matrix with the performed operation $(E_i + \\lambda E_j)\\rightarrow (E_i)$.\n",
      "</font>"
     ]
    },
    {
     "cell_type": "markdown",
     "metadata": {},
     "source": [
      "<font color='red'>\n",
      " **row_swap($i$, $j$, $A$)**: $i$ and $j$ are the rows to be swapped. This function should return the new matrix with the performed operation $(E_i)\\leftrightarrow (E_j)$.\n",
      "</font>"
     ]
    },
    {
     "cell_type": "code",
     "collapsed": false,
     "input": [
      "#Lambda function\n",
      "def row_lamb( i, lamb, A ):\n",
      "    B = np.copy(A)\n",
      "    B[i] = lamb*B[i]\n",
      "    return B\n",
      "\n",
      "#Combination function\n",
      "def row_comb( i, j, lamb, A ):\n",
      "    B = np.copy(A)\n",
      "    B[i] = lamb*B[j] + B[i]\n",
      "    return B\n",
      "\n",
      "#Swap function\n",
      "def row_swap( i, j, A ):\n",
      "    B = np.copy(A)\n",
      "    B[[i,j]] = B[[j,i]]\n",
      "    return B"
     ],
     "language": "python",
     "metadata": {},
     "outputs": [],
     "prompt_number": 30
    },
    {
     "cell_type": "markdown",
     "metadata": {},
     "source": [
      "- - -"
     ]
    },
    {
     "cell_type": "heading",
     "level": 1,
     "metadata": {},
     "source": [
      "Gaussian Elimination"
     ]
    },
    {
     "cell_type": "markdown",
     "metadata": {},
     "source": [
      "A first method to solve linear systems of equations is the Gaussian elimination. This procedure consists of a set of recursive steps performed in order to diagonalise the matrix of the problem. A suitable way to introduce this method is applying it to some basic problem. To do so, let's take the result of the [Example 1](#Example-1):\n",
      "\n",
      "$$ \\left[ \\matrix{\n",
      "5 & -4 & 0 \\\\\n",
      "-4 & 7 & -3 \\\\ \n",
      "0 & -3 & 5\n",
      "}\\right] \n",
      "\\left[ \\matrix{\n",
      "x_{1} \\\\\n",
      "x_{2} \\\\\n",
      "x_{3} \n",
      "}\\right]  =\n",
      "\\left[ \\matrix{\n",
      "1 \\\\\n",
      "0 \\\\\n",
      "-2\n",
      "}\\right]$$\n",
      "\n",
      "Constructing the associated augmented matrix, we obtain\n",
      "\n",
      "$$ \\left[ \\matrix{\n",
      "5 & -4 & 0 & \\vdots & 1 \\\\\n",
      "-4 & 7 & -3 & \\vdots & 0 \\\\\n",
      "0 & -3 & 5 & \\vdots & -2\n",
      "}\\right] $$\n",
      "\n",
      "At this point, we can eliminate the coefficients of the variable $x_1$ in the second and third equations. For this, we apply the operations $Comb(E_2,E_1,4/5)$. The coefficient in the third equation is already null. We then obtain:\n",
      "\n",
      "$$ \\left[ \\matrix{\n",
      "5 & -4 & 0 & \\vdots & 1 \\\\\n",
      "0 & 3.8 & -3 & \\vdots & 0.8 \\\\\n",
      "0 & -3 & 5 & \\vdots & -2\n",
      "}\\right] $$\n",
      "\n",
      "Now, we proceed to eliminate the coefficient of $x_2$ in the third equation. For this, we apply again $Comb(E_3,E_2,0.789)$, where $3/3.8 = 0.789$.\n",
      "\n",
      "$$ \\left[ \\matrix{\n",
      "5 & -4 & 0 & \\vdots & 1 \\\\\n",
      "0 & 3.8 & -3 & \\vdots & 0.8 \\\\\n",
      "0 & 0 & 2.632 & \\vdots & -1.368\n",
      "}\\right] $$\n",
      "\n",
      "The final step is to solve for $x_3$ in the last equation, doing the operation $Lamb(E_3,1/2.632)$, yielding:\n",
      "\n",
      "$$ \\left[ \\matrix{\n",
      "5 & -4 & 0 & \\vdots & 1 \\\\\n",
      "0 & 3.8 & -3 & \\vdots & 0.8 \\\\\n",
      "0 & 0 & 1 & \\vdots & -0.520\n",
      "}\\right] $$\n",
      "\n",
      "From this, it is direct to conclude that $x_3 = -0.502$, for $x_2$ and $x_1$ it is only necessary to replace the found value of $x_3$."
     ]
    },
    {
     "cell_type": "heading",
     "level": 2,
     "metadata": {},
     "source": [
      "<font color='red'>\n",
      "Activity\n",
      "</font>"
     ]
    },
    {
     "cell_type": "markdown",
     "metadata": {},
     "source": [
      "<font color='red'>\n",
      "Using the three routines written in the previous activity, reproduce the last steps for the matrix of the Example 1.\n",
      "</font>"
     ]
    },
    {
     "cell_type": "heading",
     "level": 2,
     "metadata": {},
     "source": [
      "General Gaussian elimination"
     ]
    },
    {
     "cell_type": "markdown",
     "metadata": {},
     "source": [
      "Now, we shall describe the general procedure for Gaussian elimination: \n",
      "\n",
      "**1.** Give an augmented matrix $\\hat{A}=[A:\\textbf{b}]$.\n",
      "\n",
      "**2.** Find the first non-zero coefficient $a_{i1}$ associated to $x_1$. This element is called **pivot**.\n",
      "\n",
      "**3.** Apply the operation $Swap(E_1,E_i)$. This guarantee the first row has a non-zero coefficient $a_{11}$.\n",
      "\n",
      "**4.** Apply the operation $Comb(E_j,E_1,-a_{j1}/a_{11})$. This eliminates the coefficients associated to $x_1$ in all the rows but in the first one.\n",
      "\n",
      "**5.** Repeat steps **2** to **4** but for the coefficients of $x_2$ and then $x_3$ and so up to $x_n$. When iterating the coefficients of $x_{k}$, do not take into account the first $k$-th rows as they are already sorted.\n",
      "\n",
      "**6.** Once you obtain a diagonal form of the matrix, apply the operation $Lamb(E_n,1/a_{nn})$. This will make the coefficient of $x_n$ in the last equation equal to 1.\n",
      "\n",
      "**7.** The final result should be an augmented matrix of the form:\n",
      "\n",
      "$$\\left[ \\matrix{\n",
      "a_{11} & a_{12} & \\cdots & a_{1(n-1)} & a_{1n} & \\vdots & \\hat b_1 \\\\\n",
      "0 & a_{22} & \\cdots & a_{2(n-1)} & a_{2n} & \\vdots & \\hat b_2 \\\\\n",
      "\\vdots & \\vdots &  & \\vdots & \\vdots & \\vdots & \\vdots \\\\\n",
      "0 & 0 & \\cdots & a_{(n-1)(n-1)} & a_{(n-1)n} & \\vdots & \\hat b_{n-1} \\\\\n",
      "0 & 0 & \\cdots & 0 & 1 & \\vdots & \\hat b_n\n",
      "}\\right]$$\n",
      "\n",
      "**8.** The solution to the problem is then obtained through backward substitutions, i.e.\n",
      "\n",
      "$$x_n = \\hat b_n$$\n",
      "$$ x_{n-1} =  \\frac{\\hat b_{n-1} + a_{(n-1)n}x_n}{a_{(n-1)(n-1)}}$$\n",
      "$$\\vdots$$\n",
      "$$x_i = \\frac{\\hat b_i - \\sum_{j=i+1}^n a_{ij}x_j}{a_{ii}}\\ \\ \\ \\ \\mbox{for}\\ \\ \\ i=n-1, n-2, \\cdots, 1$$"
     ]
    },
    {
     "cell_type": "code",
     "collapsed": false,
     "input": [
      "#Gaussian Elimination\n",
      "def Gaussian_Elimination( A0 ):\n",
      "    #Making local copy of matrix\n",
      "    A = np.copy(A0)\n",
      "    #Detecting size of matrix\n",
      "    n = len(A)\n",
      "    \n",
      "    #Sweeping all the columns in order to eliminate coefficients of the i-th variable\n",
      "    for i in xrange( 0, 4 ):\n",
      "        \n",
      "        #Sweeping all the rows for the i-th column in order to find the first non-zero coefficient\n",
      "        for j in xrange( i, n ):\n",
      "            if A[i,j] != 0:\n",
      "                #Normalization coefficient\n",
      "                Norm = 1.0*A[i,j]\n",
      "                break\n",
      "                \n",
      "        #Applying swap operation to put the non-zero coefficient in the i-th row\n",
      "        A = row_swap( i, j, A )\n",
      "        \n",
      "        #Eliminating the coefficient associated to the i-th variable\n",
      "        for j in xrange( i+1, n ):\n",
      "            A = row_comb( j, i, -A[j,i]/Norm, A )\n",
      "            \n",
      "    #Normalizing n-th variable\n",
      "    A = row_lamb( n-1, 1.0/A[n-1,n-1], A )\n",
      "    \n",
      "    #Finding solution\n",
      "    x = np.zeros( n )\n",
      "    x[n-1] = A[n-1,n]\n",
      "    for i in xrange( n-1, -1, -1 ):\n",
      "        x[i] = ( A[i,n] - sum(A[i,i+1:n]*x[i+1:n]) )/A[i,i]\n",
      "    \n",
      "    #Upper diagonal matrix and solutions x\n",
      "    return A, x"
     ],
     "language": "python",
     "metadata": {},
     "outputs": [],
     "prompt_number": 140
    },
    {
     "cell_type": "code",
     "collapsed": false,
     "input": [
      "#Generating random matrix\n",
      "M = np.matrix( np.random.random( (4,5) ) )\n",
      "print \"Augmented Matrix M:\\n\", M, \"\\n\"\n",
      "#Solving using Gaussian Elimination\n",
      "D, x = Gaussian_Elimination(M)\n",
      "print \"Augmented Diagonal Matrix D:\\n\", D, \"\\n\"\n",
      "print \"Obtained solution:\\n\", x, \"\\n\"\n",
      "print \"Exact solution:\\n\", (M[:,:4]**-1*M[:,4]).T, \"\\n\""
     ],
     "language": "python",
     "metadata": {},
     "outputs": [
      {
       "output_type": "stream",
       "stream": "stdout",
       "text": [
        "Augmented Matrix M:\n",
        "[[ 0.1147112   0.40271388  0.14301235  0.62628098  0.45280125]\n",
        " [ 0.19488398  0.43560028  0.35632094  0.00379553  0.58964947]\n",
        " [ 0.9432453   0.72188606  0.19423245  0.51404373  0.13255611]\n",
        " [ 0.9270657   0.37010265  0.94303735  0.12098314  0.5132097 ]] \n",
        "\n",
        "Augmented Diagonal Matrix D:\n",
        "[[ 0.1147112   0.40271388  0.14301235  0.62628098  0.45280125]\n",
        " [ 0.         -0.2485743   0.11335585 -1.06019939 -0.17961903]\n",
        " [ 0.          0.         -2.16262081  6.40898386 -1.71953458]\n",
        " [ 0.          0.          0.          1.          0.05406667]] \n",
        "\n",
        "Obtained solution:\n",
        "[-0.79561194  0.92765592  0.95534409  0.05406667] \n",
        "\n",
        "Exact solution:\n",
        "[[-0.79561194  0.92765592  0.95534409  0.05406667]] \n",
        "\n"
       ]
      }
     ],
     "prompt_number": 138
    },
    {
     "cell_type": "heading",
     "level": 2,
     "metadata": {},
     "source": [
      "Computing time"
     ]
    },
    {
     "cell_type": "markdown",
     "metadata": {},
     "source": [
      "As mentioned before, Algebra Linear methods do not invole numerical approximations excepting round-off errors. This implies the computing time depends on the number of involved operations (multiplications, divisions, additions and subtractions). It is possible to demonstrate that the numbers of required divisions/multiplications is given by:\n",
      "\n",
      "$$\\frac{n^3}{3}+n^2-\\frac{n}{3}$$\n",
      "\n",
      "and the required additions/subtractions:\n",
      "\n",
      "$$\\frac{n^3}{3}+\\frac{n^2}{2}-\\frac{5n}{6}$$\n",
      "\n",
      "These numbers are calculated separately as the computing time per operation for divisions and multiplications are similar and much larger than computing times for additions and subtractions. According to this, the overall computing time, for large $n$, scales as $n^3$/3."
     ]
    },
    {
     "cell_type": "heading",
     "level": 2,
     "metadata": {},
     "source": [
      "Example 2"
     ]
    },
    {
     "cell_type": "markdown",
     "metadata": {},
     "source": [
      "Using the library `datetime` of python, evaluate the computing time required for `Gaussian_Elimination` to find the solution of a system of $n=20$ equations and $20$ unknowns. For this purpose you can generate random systems. For a more robust result, repeat $500$ times, give a mean value and plot an histrogram of the computing times."
     ]
    },
    {
     "cell_type": "code",
     "collapsed": false,
     "input": [
      "#Importing datatime\n",
      "from datetime import datetime\n",
      "\n",
      "#Number of repeats\n",
      "Nrep = 500\n",
      "#Size of matrix\n",
      "n = 20\n",
      "\n",
      "def Gaussian_Time( n, Nrep ):\n",
      "    #Arrays of times\n",
      "    Times = []\n",
      "    #Cicle for number of repeats\n",
      "    for i in xrange(Nrep):\n",
      "        #Generating random matrix\n",
      "        M = np.matrix( np.random.random( (n,n+1) ) )\n",
      "        \n",
      "        #Starting time counter\n",
      "        tstart = datetime.now()\n",
      "        #Invoking Gaussian Elimination routine\n",
      "        Gaussian_Elimination(M)\n",
      "        #Killing time counter\n",
      "        tend = datetime.now()\n",
      "        \n",
      "        #Saving computing time\n",
      "        Times.append( (tend-tstart).microseconds )\n",
      "        \n",
      "    #Numpy Array\n",
      "    Times = np.array(Times)\n",
      "    \n",
      "    print \"The mean computing time for a %dx%d matrix is: %lf microseconds\"%(n,n,Times.mean())\n",
      "    \n",
      "    #Histrogram\n",
      "    plt.figure( figsize=(8,5) )\n",
      "    histo = plt.hist( Times, bins = 30 )\n",
      "    plt.xlabel( \"Computing Time [microseconds]\" )\n",
      "    plt.ylabel( \"Ocurrences\" )\n",
      "    plt.grid()\n",
      "    \n",
      "    return Times.mean()\n",
      "    \n",
      "    \n",
      "Gaussian_Time( n, Nrep )"
     ],
     "language": "python",
     "metadata": {},
     "outputs": [
      {
       "output_type": "stream",
       "stream": "stdout",
       "text": [
        "The mean computing time for a 20x20 matrix is: 1026.590000 microseconds\n"
       ]
      },
      {
       "metadata": {},
       "output_type": "pyout",
       "prompt_number": 220,
       "text": [
        "1026.5899999999999"
       ]
      },
      {
       "metadata": {},
       "output_type": "display_data",
       "png": "[encoded data removed]",
       "text": [
        "<matplotlib.figure.Figure at 0x7f9826463650>"
       ]
      }
     ],
     "prompt_number": 220
    },
    {
     "cell_type": "heading",
     "level": 2,
     "metadata": {},
     "source": [
      "<font color='red'>\n",
      "Activity\n",
      "</font>"
     ]
    },
    {
     "cell_type": "markdown",
     "metadata": {},
     "source": [
      "<font color='red'>\n",
      "Using the previous code, estimate the computing time for random matrices of size $n=5,10,50,100,500,1000$. For each size, compute $500$ times in order to reduce spurious errors. Plot the results in a figure of $n$ vs computing time. Is it verified the some of scaling laws (Multiplication/Division or Addition/Sustraction). Note that for large values of $n$, both scaling laws converge to the same.\n",
      "</font>"
     ]
    },
    {
     "cell_type": "markdown",
     "metadata": {},
     "source": [
      "- - -"
     ]
    },
    {
     "cell_type": "heading",
     "level": 1,
     "metadata": {},
     "source": [
      "Pivoting Strategies"
     ]
    },
    {
     "cell_type": "markdown",
     "metadata": {},
     "source": [
      "The previous method of Gaussian Elimination for finding solutions of linear systems is mathematically exact, however round-off errors that appear in computational arithmetics can represent a real problem when high accuracy is required.\n",
      "\n",
      "In order to illustrate this, consider the next situation:\n",
      "\n",
      "$$ E_1: 0.00300x_1 + 59.14x_2 = 59.17 $$\n",
      "$$ E_2: 5.291x_1 - 6.130x_2 = 46.78 $$\n",
      "\n",
      "Using four-digit arithmetic we obtain:\n",
      "\n",
      "**1.** Constructing the augmented matrix:\n",
      "\n",
      "$$ \\left[ \\matrix{\n",
      "0.003 & 59.14 & \\vdots & 59.17 \\\\\n",
      "5.291 & -6.130 & \\vdots & 46.78\n",
      "}\\right] $$\n",
      "\n",
      "**2.** Applying the reduction with the first pivot, we obtain:\n",
      "\n",
      "$$(E_1 + m E_2)\\rightarrow (E_1)$$\n",
      "\n",
      "where:\n",
      "\n",
      "$$m = -\\frac{a_{11}}{a_{21}} = -\\frac{5.291}{0.003} = 1763.666\\cdots \\approx 1764$$\n",
      "\n",
      "In this step, we have taken the first four digits. This leads us to:\n",
      "\n",
      "$$ \\left[ \\matrix{\n",
      "0.003 & 59.14 & \\vdots & 59.17 \\\\\n",
      "0 & -104300 & \\vdots & -104400\n",
      "}\\right] $$\n",
      "\n",
      "The exact system is instead\n",
      "\n",
      "$$ \\left[ \\matrix{\n",
      "0.003 & 59.14 & \\vdots & 59.17 \\\\\n",
      "0 & -104309.37\\bar{6} & \\vdots & -104309.37\\bar{6}\n",
      "}\\right] $$\n",
      "\n",
      "Using the solution $x_2 \\approx 1.001$, we obtain\n",
      "\n",
      "$$ x_1 \\approx \\frac{59.17 - (59.14)(1.001)}{0.00300} = -10 $$\n",
      "\n",
      "The exact solution is however:\n",
      "\n",
      "$$ x_1 = 10.00 $$\n",
      "\n",
      "The source of such a large error is that the factor $59.14/0.00300 \\approx 20000$. This quantity is propagated through the combination steps of the Gaussian Elimination, yielding a complete wrong result."
     ]
    },
    {
     "cell_type": "heading",
     "level": 2,
     "metadata": {},
     "source": [
      "Partial pivoting"
     ]
    },
    {
     "cell_type": "markdown",
     "metadata": {},
     "source": [
      "A suitable method to reduce round-off errors is to choose a pivot more conveniently. As we saw before, a small pivot generally implies larger propagated errors as they appear usually as dividends. The partial pivoting method consists then of a choosing of the largest absolute coefficient associated to $x_i$ instead of the first non-null one, i.e.\n",
      "\n",
      "$$ |a_{ii}| = \\max_{i\\leq j\\leq n}|a_{ji}| $$\n",
      "\n",
      "This way, propagated multiplication errors would be minimized."
     ]
    },
    {
     "cell_type": "heading",
     "level": 2,
     "metadata": {},
     "source": [
      "<font color='red'>\n",
      "Activity\n",
      "</font>"
     ]
    },
    {
     "cell_type": "markdown",
     "metadata": {},
     "source": [
      "<font color='red'>\n",
      "Create a new routine `Gaussian_Elimination_Pivoting` from `Gaussian_Elimination` in order to include the partial pivoting method. Compare both routines with some random matrix and with the exact solution.\n",
      "</font>"
     ]
    },
    {
     "cell_type": "markdown",
     "metadata": {},
     "source": [
      "- - -"
     ]
    },
    {
     "cell_type": "heading",
     "level": 1,
     "metadata": {},
     "source": [
      "Matrix Inversion"
     ]
    },
    {
     "cell_type": "markdown",
     "metadata": {},
     "source": [
      "Asumming a nonsingular matrix $A$, if a matrix $A^{-1}$ exists, with $AA^{-1} = I$ and $A^{-1}A = I$, where $I$ is the identity matrix, then $A^{-1}$ is called the inverse matrix of $A$. If such a matrix does not exist, $A$ is said to be a singular matrix.\n",
      "\n",
      "A corollary of this definition is that $A$ is also the inverse matrix of $A^{-1}$.\n",
      "\n",
      "Once defined the Gaussian Elimination method, it is possible to extend it in order to find the inverse of any nonsingular matrix.\n",
      "Let's consider the next equation:\n",
      "\n",
      "$$ AA^{-1} = AB= \\left[ \\matrix{\n",
      "a_{11} & a_{12} & \\cdots & a_{1n} \\\\\n",
      "a_{21} & a_{22} & \\cdots & a_{2n} \\\\\n",
      "\\vdots & \\vdots & & \\vdots\\\\\n",
      "a_{m1} & a_{n2} & \\cdots & a_{nn} \n",
      "}\\right]\\left[ \\matrix{\n",
      "b_{11} & b_{12} & \\cdots & b_{1n} \\\\\n",
      "b_{21} & b_{22} & \\cdots & b_{2n} \\\\\n",
      "\\vdots & \\vdots & & \\vdots\\\\\n",
      "b_{n1} & b_{n2} & \\cdots & b_{nn} \n",
      "}\\right] = \n",
      "\\left[ \\matrix{\n",
      "1 & 0 & \\cdots & 0 \\\\\n",
      "0 & 1 & \\cdots & 0 \\\\\n",
      "\\vdots & \\vdots & \\ddots & \\vdots\\\\\n",
      "0 & 0 & \\cdots & 1\n",
      "}\\right]$$\n",
      "\n",
      "This can be rewritten as a set of $n$ systems of equations, i.e.\n",
      "\n",
      "$$ \\left[ \\matrix{\n",
      "a_{11} & a_{12} & \\cdots & a_{1n} \\\\\n",
      "a_{21} & a_{22} & \\cdots & a_{2n} \\\\\n",
      "\\vdots & \\vdots & & \\vdots\\\\\n",
      "a_{n1} & a_{n2} & \\cdots & a_{nn} \n",
      "}\\right]\\left[ \\matrix{\n",
      "b_{11} \\\\\n",
      "b_{21} \\\\\n",
      "\\vdots \\\\\n",
      "b_{n1}\n",
      "}\\right] = \n",
      "\\left[ \\matrix{\n",
      "1 \\\\\n",
      "0 \\\\\n",
      "\\vdots \\\\\n",
      "0\n",
      "}\\right],$$\n",
      "\n",
      "$$\\left[ \\matrix{\n",
      "a_{11} & a_{12} & \\cdots & a_{1n} \\\\\n",
      "a_{21} & a_{22} & \\cdots & a_{2n} \\\\\n",
      "\\vdots & \\vdots & & \\vdots\\\\\n",
      "a_{n1} & a_{n2} & \\cdots & a_{nn} \n",
      "}\\right]\\left[ \\matrix{\n",
      "b_{12} \\\\\n",
      "b_{22} \\\\\n",
      "\\vdots \\\\\n",
      "b_{n2}\n",
      "}\\right] = \n",
      "\\left[ \\matrix{\n",
      "0 \\\\\n",
      "1 \\\\\n",
      "\\vdots \\\\\n",
      "0\n",
      "}\\right]$$\n",
      "\n",
      "$$\\vdots$$ \n",
      "$$\\left[ \\matrix{\n",
      "a_{11} & a_{12} & \\cdots & a_{1n} \\\\\n",
      "a_{21} & a_{22} & \\cdots & a_{2n} \\\\\n",
      "\\vdots & \\vdots & & \\vdots\\\\\n",
      "a_{n1} & a_{n2} & \\cdots & a_{nn} \n",
      "}\\right]\\left[ \\matrix{\n",
      "b_{1n} \\\\\n",
      "b_{2n} \\\\\n",
      "\\vdots \\\\\n",
      "b_{nn}\n",
      "}\\right] = \n",
      "\\left[ \\matrix{\n",
      "0 \\\\\n",
      "0 \\\\\n",
      "\\vdots \\\\\n",
      "1\n",
      "}\\right]$$\n",
      "\n",
      "These systems can be solved individually by using Gaussian Elimination, however we can mix all the problems, obtaining the augmented matrix:\n",
      "\n",
      "$$\\left[ \\matrix{\n",
      "a_{11} & a_{12} & \\cdots & a_{1n} & \\vdots & 1 & 0 & \\cdots & 0 \\\\\n",
      "a_{21} & a_{22} & \\cdots & a_{2n} & \\vdots & 0 & 1 & \\cdots & 0 \\\\\n",
      "\\vdots & \\vdots & & \\vdots & \\vdots & \\vdots & \\vdots & \\ddots & \\vdots\\\\\n",
      "a_{m1} & a_{n2} & \\cdots & a_{nn} & \\vdots & 0 & 0 & \\cdots & 1\n",
      "}\\right]$$\n",
      "\n",
      "Now, applying Gaussian Elimination we can obtain a upper diagonal form for the first matrix. Completing the steps using forwards elimination we can convert the first matrix into the identity matrix, obtaining \n",
      "\n",
      "$$\\left[ \\matrix{\n",
      "1 & 0 & \\cdots & 0 & \\vdots & b_{11} & b_{12} & \\cdots & b_{1n} \\\\\n",
      "0 & 1 & \\cdots & 0 & \\vdots & b_{21} & b_{22} & \\cdots & b_{2n} \\\\\n",
      "\\vdots & \\vdots & \\ddots & \\vdots & \\vdots & \\vdots & \\vdots & & \\vdots\\\\\n",
      "0 & 0 & \\cdots & 1 & \\vdots & b_{n1} & b_{n2} & \\cdots & b_{nn}\n",
      "}\\right]$$\n",
      "\n",
      "Where the second matrix is then the inverse $B=A^{-1}$."
     ]
    },
    {
     "cell_type": "heading",
     "level": 2,
     "metadata": {},
     "source": [
      "<font color='red'>\n",
      "Activity\n",
      "</font>"
     ]
    },
    {
     "cell_type": "markdown",
     "metadata": {},
     "source": [
      "<font color='red'>\n",
      "Using the previous routine `Gaussian_Elimination_Pivoting`, create a new routine `Inverse` that calculates the inverse of any given squared matrix.\n",
      "</font>"
     ]
    },
    {
     "cell_type": "markdown",
     "metadata": {},
     "source": [
      "- - -"
     ]
    }
   ],
   "metadata": {}
  }
 ]
}