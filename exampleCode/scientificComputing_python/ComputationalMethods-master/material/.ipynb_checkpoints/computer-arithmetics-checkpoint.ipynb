{
 "metadata": {
  "name": ""
 },
 "nbformat": 3,
 "nbformat_minor": 0,
 "worksheets": [
  {
   "cells": [
    {
     "cell_type": "heading",
     "level": 1,
     "metadata": {},
     "source": [
      "Computer Arithmetics and Round-off Methods"
     ]
    },
    {
     "cell_type": "markdown",
     "metadata": {},
     "source": [
      "In the ideal mathematical world, operations like $1+2=3$, $4\\times 3 = 12$, $(\\sqrt{2})^2 = 2$ are unambiguously defined, however, when one is representing numbers in a computer, this is no longer true. The main reason of this is the so-called *finite arithmetic*, what is the way in which a computer performs basic operations. Some features of *finite arithmetic* are stated below:\n",
      "\n",
      "- Only integer and rational numbers can be exactly represented.\n",
      "- The elements of the set in which arithmetic is performed is necessarily finite.\n",
      "- Any arithmetic operation between two or more numbers of this set should be another element of the set.\n",
      "- Non-representable numbers like irrational numbers are approximated to the closest rational number within the defined set.\n",
      "- Extremely large numbers produce overflows and extremely small numbers produce underflows, which are taken as null.\n",
      "- Operations over non-representable numbers are not exact.\n",
      "\n",
      "In spite of this, defining adequately the set of elements in which our computer will operate, round-off methods can be systematically neglected, yielding correct results within reasonable error margins. In some pathological cases, when massive iterations are required, these errors must be taken into account more seriously.\n",
      "\n",
      "- - - \n",
      "\n",
      "- [Binary machine numbers](#Binary-machine-numbers)\n",
      "    - [Single-precision numbers](#Single-precision-numbers)\n",
      "    - [Double-precision numbers](#Double-precision-numbers)\n",
      "- [Finite Arithmetic](#Finite-Arithmetic)\n",
      "    - [Addition](#Addition)\n",
      "    - [Multiplication](#Multiplication)\n",
      "\n",
      "- - - "
     ]
    },
    {
     "cell_type": "code",
     "collapsed": false,
     "input": [
      "import numpy as np\n",
      "float32 = np.float16"
     ],
     "language": "python",
     "metadata": {},
     "outputs": [],
     "prompt_number": 1
    },
    {
     "cell_type": "markdown",
     "metadata": {},
     "source": [
      "- - - "
     ]
    },
    {
     "cell_type": "heading",
     "level": 2,
     "metadata": {},
     "source": [
      "Binary machine numbers    "
     ]
    },
    {
     "cell_type": "markdown",
     "metadata": {},
     "source": [
      "As everyone knows, the base of the modern computation is the binary numbers. The binary base or base-2 numeral system is the simplest one among the existing numeral bases. As every electronic devices are based on logic circuits (circuits operating with [logic gates](#LogicGates)), the implementation of a binary base is straightforward, besides, any other numeral system can be reduced to a binary representation.\n",
      "\n",
      "![LogicGates](http://www.ee.surrey.ac.uk/Projects/CAL/digital-logic/gatesfunc/graphics/symtab.gif)\n",
      "\n",
      "According to the standard [IEEE 754-2008](http://en.wikipedia.org/wiki/IEEE_floating_point), representation of real numbers can be done in several ways, [single-precision](http://en.wikipedia.org/wiki/Single-precision_floating-point_format) and [double precision](http://en.wikipedia.org/wiki/Double-precision_floating-point_format) are the most used ones."
     ]
    },
    {
     "cell_type": "heading",
     "level": 3,
     "metadata": {},
     "source": [
      "Single-precision numbers"
     ]
    },
    {
     "cell_type": "markdown",
     "metadata": {},
     "source": [
      "Single-precision numbers are used when one does not need very accurate results and/or need to save memory. These numbers are represented by a **32-bits** (Binary digIT) lenght binary number, where the real number is stored following the next rules:\n",
      "\n",
      "![32-bits](http://upload.wikimedia.org/wikipedia/commons/thumb/d/d2/Float_example.svg/590px-Float_example.svg.png)\n",
      "\n",
      "1. The fist digit (called *s*) indicates the sign of the number (s=0 means a positive number, s=1 a negative one).\n",
      "2. The next 8 bits represent the exponent of the number.\n",
      "3. The last 23 bits represent the fractional part of the number.\n",
      "\n",
      "The formula for recovering the real number is then given by:\n",
      "\n",
      "$$r = (-1)^s\\times \\left( 1 + \\sum_{i=1}^{23}b_{23-i}2^{-i} \\right)\\times 2^{e-127}$$\n",
      "\n",
      "where $s$ is the sign, $b_{23-i}$ the fraction bits and $e$ is given by:\n",
      "\n",
      "$$e = \\sum_{i=0}^7 b_{23+i}2^i$$\n",
      "\n",
      "Next, it is shown a little routine for calculating the value of the represented 32-bits number"
     ]
    },
    {
     "cell_type": "code",
     "collapsed": false,
     "input": [
      "def number32( binary ):\n",
      "    #Inverting binary string\n",
      "    binary = binary[::-1]\n",
      "    #Decimal part\n",
      "    dec = 1\n",
      "    for i in xrange(1,24):\n",
      "        dec += int(binary[23-i])*2**-i\n",
      "    #Exponent part\n",
      "    exp = 0\n",
      "    for i in xrange(0,8):\n",
      "        exp += int(binary[23+i])*2**i\n",
      "    #Total number\n",
      "    number = (-1)**int(binary[31])*2**(exp-127)*dec\n",
      "    return number"
     ],
     "language": "python",
     "metadata": {},
     "outputs": [],
     "prompt_number": 2
    },
    {
     "cell_type": "code",
     "collapsed": false,
     "input": [
      "number32( \"00111110001000000000000000000000\" )"
     ],
     "language": "python",
     "metadata": {},
     "outputs": [
      {
       "output_type": "pyout",
       "prompt_number": 3,
       "text": [
        "0.15625"
       ]
      }
     ],
     "prompt_number": 3
    },
    {
     "cell_type": "markdown",
     "metadata": {},
     "source": [
      "Single-precision system can represent real numbers within the interval $\\pm 10^{-38} \\cdots 10^{38}$, with $7-8$ decimal digits."
     ]
    },
    {
     "cell_type": "heading",
     "level": 3,
     "metadata": {},
     "source": [
      "Double-precision numbers"
     ]
    },
    {
     "cell_type": "markdown",
     "metadata": {},
     "source": [
      "Double-precision numbers are used when high accuracy is required. These numbers are represented by a **64-bits** (Binary digIT) lenght binary number, where the real number is stored following the next rules:\n",
      "\n",
      "![64-bits](http://upload.wikimedia.org/wikipedia/commons/thumb/a/a9/IEEE_754_Double_Floating_Point_Format.svg/618px-IEEE_754_Double_Floating_Point_Format.svg.png)\n",
      "\n",
      "1. The fist digit (called *s*) indicates the sign of the number (s=0 means a positive number, s=1 a negative one).\n",
      "2. The next 11 bits represent the exponent of the number.\n",
      "3. The last  bits represent the fractional part of the number.\n",
      "\n",
      "The formula for recovering the real number is then given by:\n",
      "\n",
      "$$r = (-1)^s\\times \\left( 1 + \\sum_{i=1}^{52}b_{52-i}2^{-i} \\right)\\times 2^{e-1023}$$\n",
      "\n",
      "where $s$ is the sign, $b_{23-i}$ the fraction bits and $e$ is given by:\n",
      "\n",
      "$$e = \\sum_{i=0}^{10} b_{52+i}2^i$$\n",
      "\n",
      "Double-precision system can represent real numbers within the interval $\\pm 10^{-308} \\cdots 10^{308}$, with $16-17$ decimal digits."
     ]
    },
    {
     "cell_type": "markdown",
     "metadata": {},
     "source": [
      "<font color='red'>\n",
      "**ACTIVITY**\n",
      "\n",
      "Write a python script that calculates the double presicion number represented by a 64-bits binary.\n",
      "    \n",
      "What is the number represented by:\n",
      "\n",
      "0 10000000011 1011100100001111111111111111111111111111111111111111\n",
      "</font>\n",
      "    \n",
      "<font color='white'>\n",
      "    **ANSWER:**  27.56640625\n",
      "</font>"
     ]
    },
    {
     "cell_type": "markdown",
     "metadata": {},
     "source": [
      "- - - "
     ]
    },
    {
     "cell_type": "heading",
     "level": 2,
     "metadata": {},
     "source": [
      "Finite Arithmetic"
     ]
    },
    {
     "cell_type": "markdown",
     "metadata": {},
     "source": [
      "The most basic arithmetic operations are addition and multiplication. Further operations such as subtraction, division and power are secondary as they can be reached by iteratively use the latter ones."
     ]
    },
    {
     "cell_type": "heading",
     "level": 3,
     "metadata": {},
     "source": [
      "Addition"
     ]
    },
    {
     "cell_type": "markdown",
     "metadata": {},
     "source": [
      "As mentioned before, arithmetic operations are not exact in a computer due to the inherent limitations in number representing. Even when adding two already approximate numbers, say a single-precision couple of numbers, the result may not be a representable number, being necessary to apply approximation rules."
     ]
    },
    {
     "cell_type": "code",
     "collapsed": false,
     "input": [
      "N = 9\n",
      "x = 0\n",
      "for i in xrange(N):\n",
      "    x += float32(1.0/N)\n",
      "print x"
     ],
     "language": "python",
     "metadata": {},
     "outputs": [
      {
       "output_type": "stream",
       "stream": "stdout",
       "text": [
        "0.999755859375\n"
       ]
      }
     ],
     "prompt_number": 7
    },
    {
     "cell_type": "markdown",
     "metadata": {},
     "source": [
      "Note that the sucessive application of rounded-off numbers produces a final result less precise."
     ]
    },
    {
     "cell_type": "code",
     "collapsed": false,
     "input": [
      "print \"5/7\", np.float16(5/7.)\n",
      "print \"1/3\", np.float16(1/3.)\n",
      "print np.float16(5/7.+1/3.), 22/21.\n",
      "print \"Error:\", np.float16(5/7.+1/3.)-22/21."
     ],
     "language": "python",
     "metadata": {},
     "outputs": [
      {
       "output_type": "stream",
       "stream": "stdout",
       "text": [
        "5/7 0.71436\n",
        "1/3 0.33325\n",
        "1.0479 1.04761904762\n",
        "Error: 0.000232514880952\n"
       ]
      }
     ],
     "prompt_number": 5
    },
    {
     "cell_type": "markdown",
     "metadata": {},
     "source": [
      "Although the **float16** or half-float precision is standard according to the IEEE 754-2008, many devices do not support it well."
     ]
    },
    {
     "cell_type": "heading",
     "level": 3,
     "metadata": {},
     "source": [
      "Multiplication"
     ]
    },
    {
     "cell_type": "markdown",
     "metadata": {},
     "source": [
      "For multiplication it is applied the same round-off rules as the addition, however, be aware that multiplicative errors propagate more quickly than additive errors."
     ]
    },
    {
     "cell_type": "code",
     "collapsed": false,
     "input": [
      "N = 20\n",
      "x = 1\n",
      "for i in xrange(N):\n",
      "    x *= float32(2.0**(1.0/N))\n",
      "print x"
     ],
     "language": "python",
     "metadata": {},
     "outputs": [
      {
       "output_type": "stream",
       "stream": "stdout",
       "text": [
        "1.99580530418\n"
       ]
      }
     ],
     "prompt_number": 18
    },
    {
     "cell_type": "markdown",
     "metadata": {},
     "source": [
      "The final result has an error at the third decimal digit, one more than the case of addition."
     ]
    },
    {
     "cell_type": "markdown",
     "metadata": {},
     "source": [
      "<font color='red'>\n",
      "**ACTIVITY**\n",
      "\n",
      "Reproduce the example 3 of the subsection **1.2** of the book *Numerical Analysis of Burden and Faires*.\n",
      "</font>\n"
     ]
    },
    {
     "cell_type": "markdown",
     "metadata": {},
     "source": [
      "- - -"
     ]
    }
   ],
   "metadata": {}
  }
 ]
}