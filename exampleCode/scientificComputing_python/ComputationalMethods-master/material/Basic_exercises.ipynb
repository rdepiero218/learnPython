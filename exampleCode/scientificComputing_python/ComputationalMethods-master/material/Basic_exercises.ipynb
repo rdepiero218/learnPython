{
 "cells": [
  {
   "cell_type": "markdown",
   "metadata": {},
   "source": [
    "#Basic Activity"
   ]
  },
  {
   "cell_type": "markdown",
   "metadata": {},
   "source": [
    "Solve the next exercises:"
   ]
  },
  {
   "cell_type": "markdown",
   "metadata": {},
   "source": [
    "**1.** A mass connected to a spring is moved to an initial position A from where it is released. Then the mass starts moving, consider the initial time equal to zero. Find the evolution of the system considering that obeys the following expressions\n",
    "\n",
    "\\begin{eqnarray*}\n",
    "X(t) &=& +A \\cos(\\omega t)\\\\\n",
    "V(t) &=& -A\\omega\\sin(\\omega t)\\\\\n",
    "a(t) &=& -A\\omega^2\\cos(\\omega t) \n",
    "\\end{eqnarray*}\n",
    "\n",
    "\n",
    "<img src=\"./figures/spring1.png\">\n",
    "\n",
    "Make a plot of the evolution of the position, velocity and acceleration of the system. Feel free to choose the parameters you prefer. \n",
    "\n",
    "It can be also shown that the potential and kinetic energy of the system is given by\n",
    "\n",
    "\\begin{eqnarray*}\n",
    "E_p &=& \\frac{1}{2}kX^2\\\\\n",
    "E_k &=& \\frac{1}{2}mV^2\n",
    "\\end{eqnarray*}\n",
    "\n",
    "Make a plot of the potential energy and the total energy obtained for every step of the iteration. \n"
   ]
  },
  {
   "cell_type": "markdown",
   "metadata": {},
   "source": [
    "**2.** Write a program that evals a function $f(x) = \\sin(x) \\ln(1x+1) \\sinh(x)$ in the interval $[0,...,10]$. The function must receive the step $dx$ for the sucesive evaluations. \n",
    "The result must be written in a file of 3 columns, the first one is the value i of the counter of the cycle for, the second one is x and the third one is f(x). \n",
    "Make the same program but using numpy arrays properties. \n",
    "\n"
   ]
  },
  {
   "cell_type": "markdown",
   "metadata": {},
   "source": [
    "**3.** Plot the series sine and cosine using 3 different values N ( N is the last term taken of the series ).  Comparing with the function sine and cosine, say which approximation, which value of N, is sufficient as an approximation. \n",
    "\n",
    "\n",
    "\\begin{eqnarray*}\n",
    "\\sin(x) &=& \\sum_{n=0}^{\\infty} \\frac{(-1)^n}{(2n+1)!}x^{2n+1} \\\\\n",
    "\\cos(x) &=& \\sum_{n=0}^{\\infty} \\frac{(-1)^n}{(2n)!}x^{2n}\n",
    "\\end{eqnarray*}"
   ]
  },
  {
   "cell_type": "markdown",
   "metadata": {},
   "source": [
    "**4.** Write a program that calculates the factorial of a given number. "
   ]
  }
 ],
 "metadata": {
  "kernelspec": {
   "display_name": "Python 2",
   "language": "python",
   "name": "python2"
  },
  "language_info": {
   "codemirror_mode": {
    "name": "ipython",
    "version": 2
   },
   "file_extension": ".py",
   "mimetype": "text/x-python",
   "name": "python",
   "nbconvert_exporter": "python",
   "pygments_lexer": "ipython2",
   "version": "2.7.10"
  }
 },
 "nbformat": 4,
 "nbformat_minor": 0
}
