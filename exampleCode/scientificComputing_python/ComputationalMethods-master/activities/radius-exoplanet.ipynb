{
 "metadata": {
  "name": ""
 },
 "nbformat": 3,
 "nbformat_minor": 0,
 "worksheets": [
  {
   "cells": [
    {
     "cell_type": "heading",
     "level": 1,
     "metadata": {},
     "source": [
      "Task 5"
     ]
    },
    {
     "cell_type": "markdown",
     "metadata": {},
     "source": [
      "This homework is an activity intended to apply the fixed-point iteration method for solving a problem related to an estimation of the radius of an exoplanet.\n",
      "\n",
      "*Due to:* **Nov 29**"
     ]
    },
    {
     "cell_type": "markdown",
     "metadata": {},
     "source": [
      "- - -"
     ]
    },
    {
     "cell_type": "heading",
     "level": 2,
     "metadata": {},
     "source": [
      "Estimating the Radius of an Exoplanet"
     ]
    },
    {
     "cell_type": "markdown",
     "metadata": {},
     "source": [
      "When a new planet is discovered, there are different methods to estimate its physical properties. Many times is only possible to estimate either the planet mass or the planet radius and the other property has to be predicted through computer modelling.\n",
      "\n",
      "If one has the planet mass, a very rough way to estimate its radius is to assume certain composition (mean density) and a homogeneous distribution (a very bad assumption!). For example, for the planet [Gliese 832c](http://es.wikipedia.org/wiki/Gliese_832_c) with a mass $M= 5.40 M_{\\oplus}$, if we assume an earth-like composition, i.e. $\\bar \\rho_{\\oplus} = 5520\\ kg/m^3$, we obtain:\n",
      "\n",
      "$$R_{g832c} = \\left( \\frac{3 M_{g832c}}{ 4 \\pi \\bar\\rho_{\\oplus} } \\right)^{1/3} \\approx 1.75 R_{\\oplus}$$\n",
      "\n",
      "That would be the planet radius if the composition where exactly equal to earth's.\n",
      "\n",
      "A more realistic approach is assuming an internal one-layer density profile like:\n",
      "\n",
      "$$\\rho(r) = \\rho_0 \\exp\\left( -\\frac{r}{L} \\right)$$\n",
      "\n",
      "where $\\rho_0$ is the density at planet centre and $L$ is a characteristic lenght depending on the composition. From numerical models of planet interiors, the estimated parameters for a planet of are $M= 5.40 M_{\\oplus}$ are approximately $\\rho_0 = 18000\\ kg/m^3$ and $L = 6500\\ km$.\n",
      "\n",
      "Integrating over the planet volume, we obtain the total mass as\n",
      "\n",
      "$$M = 4\\pi \\int_0^R \\rho(r)r^2dr$$\n",
      "\n",
      "This is a function of the mass in terms of the planet radius. \n",
      "\n",
      "Solving the equation $M(R) = M_{g832c}$ it would be possible to find a more realistic planet radius. However when using numerical models, it is not possible to approach the solution from the left side as a negative mass makes no sense."
     ]
    },
    {
     "cell_type": "markdown",
     "metadata": {},
     "source": [
      "1. Solve the previous problem and find the radius of **Gliese 832c** using your own version of the Fixed-point iteration algorithm."
     ]
    }
   ],
   "metadata": {}
  }
 ]
}