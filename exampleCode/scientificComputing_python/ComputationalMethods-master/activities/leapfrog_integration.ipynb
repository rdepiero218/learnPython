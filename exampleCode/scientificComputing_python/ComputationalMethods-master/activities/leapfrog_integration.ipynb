{
 "metadata": {
  "name": ""
 },
 "nbformat": 3,
 "nbformat_minor": 0,
 "worksheets": [
  {
   "cells": [
    {
     "cell_type": "heading",
     "level": 1,
     "metadata": {},
     "source": [
      "Task 9"
     ]
    },
    {
     "cell_type": "markdown",
     "metadata": {},
     "source": [
      "This homework is an activity intended to apply the Euler's scheme for integrating differential equations. Besides, it is introduced a new scheme that conserves the energy of the system, i.e., the Leap-frog scheme.\n",
      "\n",
      "*Due to:* **Mar 8**"
     ]
    },
    {
     "cell_type": "markdown",
     "metadata": {},
     "source": [
      "- - -"
     ]
    },
    {
     "cell_type": "heading",
     "level": 2,
     "metadata": {},
     "source": [
      "Central Force Problem"
     ]
    },
    {
     "cell_type": "markdown",
     "metadata": {},
     "source": [
      "The classic two-body problem with central force can be considerable simplified if one of the bodies has a mass much greater than the other one. In this case, the position of the most massive body (with mass $M$) will coincide with the center of mass of the system, and thus it is only interesting to find the position of the less massive body (with mass $m$) regarding the center of mass. The equation of motion for the body $m$ is then:\n",
      "\n",
      "$$ m\\frac{d^2}{dt^2}\\vec{r}(t) = F(r)\\hat{u}_r $$\n",
      "\n",
      "where $\\vec{r}$ is the position of $m$ and $\\hat{u}_r$ is a unitary vector pointing toward the origin of the central force. A very special case of this type of problems is the gravitation of a small body around a massive one, e.g. the earth-sun system, the moon-earth system, etc. For this case, $F(r)$ is replaced by the gravitational force, yielding:\n",
      "\n",
      "$$ m\\frac{d^2}{dt^2}\\vec{r}(t) = -G\\frac{mM}{r^2}\\hat{u}_r $$\n",
      "\n",
      "For a central force problem is always possible to demonstrate that the complete movement will be constrained over a plane, so a suitable choice of coordinates will reduce the position to $\\vec{r} = (x, y)$ and the previous equation yields:\n",
      "\n",
      "$$ \\frac{d^2}{dt^2}x(t) = -G\\frac{M}{r^2}\\hat{u}_r\\cdot \\hat{u}_x $$\n",
      "$$ \\frac{d^2}{dt^2}y(t) = -G\\frac{M}{r^2}\\hat{u}_r\\cdot \\hat{u}_y $$\n",
      "\n",
      "where $\\hat{u}_x$ and $\\hat{u}_y$ are unitary vectors of the cartesian system. Note this set of equations does not depend on the mass of the small body.\n",
      "\n",
      "\n",
      "![](https://raw.githubusercontent.com/sbustamante/ComputationalMethods/master/activities/figures/CentralForce.png)\n",
      "\n",
      "From the previous figure, and defining the velocities in $v_x$ and $v_y$ we obtain:\n",
      "\n",
      "$$ \\hat{u}_r\\cdot \\hat{u}_x = \\cos(\\varphi) = \\frac{x}{r} $$\n",
      "$$ \\hat{u}_r\\cdot \\hat{u}_y = \\sin(\\varphi) = \\frac{y}{r} $$\n",
      "\n",
      "to get finally\n",
      "\n",
      "$$ \\frac{d}{dt}v_x(t) = -G\\frac{M}{r^3}x $$\n",
      "$$ \\frac{d}{dt}x(t) = v_x(t) $$\n",
      "$$ \\frac{d}{dt}v_y(t) = -G\\frac{M}{r^3}y$$\n",
      "$$ \\frac{d}{dt}y(t) = v_y(t) $$"
     ]
    },
    {
     "cell_type": "heading",
     "level": 2,
     "metadata": {},
     "source": [
      "Leap-frog Integration"
     ]
    },
    {
     "cell_type": "markdown",
     "metadata": {},
     "source": [
      "The leap-frog scheme is an integration method inteded to solve differential equations associated to physical problems with implicit conservations laws (e.g. mechanical problems where the total energy is conserved). For this, suppose a problem of the form:\n",
      "\n",
      "$$ \\frac{d}{dt}x(t) = v(t) $$\n",
      "$$ \\frac{d}{dt}v(t) = F(x) $$\n",
      "\n",
      "The leap-frog scheme gives the approximate solution through the next set of iterative expressions:\n",
      "\n",
      "$$ x_{i+1} = x_i + v_i\\Delta t + \\frac{1}{2}F(x_i)\\Delta t^2 $$\n",
      "$$ v_{i+1} = v_i + \\frac{1}{2}[F(x_i)+F(x_{i+1})]\\Delta t$$\n",
      "\n",
      "where $x_{i}$ denotes the position in the time $t_i = a + i\\times \\Delta t$, and $a$ is the initial time.\n",
      "The solution given by this procedure is less sensible to numerical losses of energy, unlike ordinary methods like Euler."
     ]
    },
    {
     "cell_type": "markdown",
     "metadata": {},
     "source": [
      "**1.** Solve the central force problem using the Euler's method given during class. Use the initial conditions compatible with the system Earth-Sun, i.e.\n",
      "\n",
      "$$ v_x(t=0) = 0 $$\n",
      "$$ v_y(t=0) = 29780\\ m/s $$\n",
      "$$ x(t=0) = 1.5\\times 10^{11}\\ m $$\n",
      "$$ y(t=0) = 0 $$\n",
      "$$ M = 1.98855\\times 10^{30}\\ kg$$\n",
      "\n",
      "Integrate during five years using a timestep $\\Delta t$ of 1 day ($86400\\ s$). If you want, you can use a more convenient coordinate system in $days$ for time, $km$ for distance and $M_{\\odot}$ for mass. (Remember you must change also the units of $G$). Plot the orbit $x(t)$ vs $y(t)$.\n",
      "\n",
      "**2.** Repeat the same problem but using the leap-frog scheme. Plot the resulting orbit.\n",
      "\n",
      "**3.** Calculate the total energy of the system:\n",
      "\n",
      "$$ E_i = \\frac{1}{2}(v_{xi}^2+v_{yi}^2) - G\\frac{M}{r_i}\\ \\ \\ \\mbox{with}\\ \\ \\ r_i = \\sqrt{ x_{i}^2 + y_{i}^2 } $$\n",
      "\n",
      "for both integrators and compare them plotting $E_i$ vs $t_i$.\n",
      "\n",
      "**Questions:** \n",
      "- What can you conclude about the total energy of the systems when using the integrator schemes.\n",
      "- what scheme deals better this problem?\n"
     ]
    },
    {
     "cell_type": "markdown",
     "metadata": {},
     "source": [
      "- - -"
     ]
    }
   ],
   "metadata": {}
  }
 ]
}