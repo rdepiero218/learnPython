{
 "cells": [
  {
   "cell_type": "markdown",
   "metadata": {},
   "source": [
    "##Task"
   ]
  },
  {
   "cell_type": "markdown",
   "metadata": {},
   "source": [
    "This homework is intended to apply the derivation given in class. \n"
   ]
  },
  {
   "cell_type": "markdown",
   "metadata": {},
   "source": [
    "##Heat Conduction in a 2D bar\n",
    "\n",
    "A heat conduction experiment is performed in a 2D bar with dimensions $50cm$ per $50 cm$ and thermal conductivity $\\kappa = 34Wm^{-1}K^{-1}$. \n",
    "This bar is heated up during certain period of time. Afterwards the temperature is measured \n",
    "in different points of the bar in the time $t_0$ ( equally spaced measurements done from 0 to 50cm). \n",
    "\n",
    "After removing the\n",
    "heat source, the temperature is measured for the times $t_1=3min$, $t_2=6min$, $t_3=9min$ and $t_4=12min$. \n",
    "\n",
    "Find the heat flux density in the bar for every single time t. For this, take into account the Fourier's law given by\n",
    "\n",
    "\\begin{equation}\n",
    "\\vec{q} = -\\kappa \\left( \\frac{\\partial T}{\\partial x}\\hat{i} +\\frac{\\partial T}{\\partial y}\\hat{j} \\right) \n",
    "\\end{equation} \n",
    "\n",
    "where T(x,y) is a function with coupled variables. Plot a heat map for every time, what happens with the heat flux \n",
    "density over time? \n",
    "\n",
    "The files with the temperatures measured from https://github.com/sbustamante/ComputationalMethods/tree/master/data/Temperature_profile. The first and second columns are the positions on the bar (x,y) and the third one is the temperature measured in ºC. You should use np.reshape function to get the data correctly ordered, i.e., 3 matrices 20x20 with x, y and T values. \n",
    "\n",
    "Hint: It has to be taken into account the dependence of y when derivating with respect to x and viceversa. "
   ]
  }
 ],
 "metadata": {
  "kernelspec": {
   "display_name": "Python 2",
   "language": "python",
   "name": "python2"
  },
  "language_info": {
   "codemirror_mode": {
    "name": "ipython",
    "version": 2
   },
   "file_extension": ".py",
   "mimetype": "text/x-python",
   "name": "python",
   "nbconvert_exporter": "python",
   "pygments_lexer": "ipython2",
   "version": "2.7.10"
  }
 },
 "nbformat": 4,
 "nbformat_minor": 0
}
