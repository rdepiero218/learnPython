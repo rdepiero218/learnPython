{
 "metadata": {
  "name": ""
 },
 "nbformat": 3,
 "nbformat_minor": 0,
 "worksheets": [
  {
   "cells": [
    {
     "cell_type": "heading",
     "level": 1,
     "metadata": {},
     "source": [
      "Task 7"
     ]
    },
    {
     "cell_type": "markdown",
     "metadata": {},
     "source": [
      "This homework is an activity intended to apply the integration formulas given in class. The objective is to solve the error function and applying it to a problem of diffusion in fluids.\n",
      "\n",
      "*Due to:* **Feb 15**"
     ]
    },
    {
     "cell_type": "markdown",
     "metadata": {},
     "source": [
      "- - -"
     ]
    },
    {
     "cell_type": "heading",
     "level": 2,
     "metadata": {},
     "source": [
      "Error Function and Fick's Law"
     ]
    },
    {
     "cell_type": "heading",
     "level": 3,
     "metadata": {},
     "source": [
      "Error Function"
     ]
    },
    {
     "cell_type": "markdown",
     "metadata": {},
     "source": [
      "The error function is a special and non-elementary function that is widely used in probability, statistics and diffussion processes. It is defined through the integral:\n",
      "\n",
      "$$\\mbox{erf}(x)=\\frac{2}{\\sqrt{\\pi}}\\int_0^{x}e^{-t^2}dt$$\n",
      "\n",
      " **1.** Using the substitution $u=t^2$ it is possible to use the described methods for impropers integrals in order to evaluate the error function. Create a routine called ErrorFunction that, given a value of x, return the respective value of the integral."
     ]
    },
    {
     "cell_type": "heading",
     "level": 3,
     "metadata": {},
     "source": [
      "Fick's Law\n"
     ]
    },
    {
     "cell_type": "markdown",
     "metadata": {},
     "source": [
      "In fluid physics and thermodynamics, Fick's law is a quantitative law that describes several diffusion processes for matter or heat. Situations in which there are gradients of concentration or heat, a flux that tends to homogenise the fluid arises as a consequence of random motion of constituent particles, as predicted by the second law of thermodynamics.\n",
      "\n",
      "![](http://upload.wikimedia.org/wikipedia/commons/4/4d/DiffusionMicroMacro.gif)\n",
      "\n",
      "The Fick's law then says:\n",
      "\n",
      "$$\\vec{j} = -D \\nabla \\vec{c}$$\n",
      "\n",
      "where $\\vec{j}$ is the associated flux of particles of some specie or flux of heat, $D$ is the diffusion coefficient for gradients of concentrations, or the thermal conductivity in case of gradients of heat. Finally, $c$ is the studied property, concentration or temperature.\n",
      "\n",
      "\n",
      "\n",
      "A very simple solution of this problem is obtained when studying diffusion of a set of particles in one dimension, from a boundary located at $x=0$ and a concentration fixed at $n_0$. \n",
      "\n",
      "$$ n(x,t) = n_0\\left[ 1 - \\mbox{erf}\\left( \\frac{x}{2\\sqrt{Dt}} \\right)\\right] $$"
     ]
    },
    {
     "cell_type": "markdown",
     "metadata": {},
     "source": [
      "**2.** Using $n_0 = 1$ and $D = 1m^2/s$, and the previous routine for calculating the error function, plot the resulting density number of particles $n$ as a function of the position for different times (i.e. plot several curves associated with each time)."
     ]
    },
    {
     "cell_type": "markdown",
     "metadata": {},
     "source": [
      "- - -"
     ]
    }
   ],
   "metadata": {}
  }
 ]
}