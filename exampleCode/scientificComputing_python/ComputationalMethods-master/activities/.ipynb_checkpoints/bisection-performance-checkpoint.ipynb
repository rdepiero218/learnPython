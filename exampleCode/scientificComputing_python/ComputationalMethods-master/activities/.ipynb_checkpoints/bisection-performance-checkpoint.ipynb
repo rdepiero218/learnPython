{
 "metadata": {
  "name": ""
 },
 "nbformat": 3,
 "nbformat_minor": 0,
 "worksheets": [
  {
   "cells": [
    {
     "cell_type": "heading",
     "level": 1,
     "metadata": {},
     "source": [
      "Task 4"
     ]
    },
    {
     "cell_type": "markdown",
     "metadata": {},
     "source": [
      "This homework is an activity intended to explore the bisection method and compare its computational performance and convergence with a modification called trisection.\n",
      "\n",
      "*Due to:* **Nov 22**"
     ]
    },
    {
     "cell_type": "markdown",
     "metadata": {},
     "source": [
      "- - - "
     ]
    },
    {
     "cell_type": "heading",
     "level": 2,
     "metadata": {},
     "source": [
      "Bisection, Trisection and Quadsection"
     ]
    },
    {
     "cell_type": "markdown",
     "metadata": {},
     "source": [
      "<div style=\"float: right;\" markdown=\"1\">\n",
      "    <img src=\"http://upload.wikimedia.org/wikipedia/commons/thumb/8/8c/Bisection_method.svg/300px-Bisection_method.svg.png\">\n",
      "</div>\n",
      "\n",
      "As mentioned in class, bisection is a very simple and basic algorithm that finds roots of functions and exploits the [intermediate value theorem](http://en.wikipedia.org/wiki/Intermediate_value_theorem). \n",
      "\n",
      "The error of this method is obtained by means of a geometric analysis. Considering that successives iterations bisect the previous interval into two new ones, where one of them will be chose as the interval for the next iteration, the convergence of the method is given by:\n",
      "\n",
      "$$p_n = p + \\left(\\frac{1}{2^n}\\right)$$\n",
      "\n",
      "Following this reasoning from a pure mathematical point of view, modifying this scheme, such that three or even more intervals are taken in each iteration instead of two, would produce a convergence as:\n",
      "\n",
      "$$p'_n = p + \\left(\\frac{1}{N^n}\\right)$$\n",
      "\n",
      "where $N$ is the number of intervals to be considered. It is clear, then, that the greater is the value $N$ the faster the convergence is reached.\n",
      "\n",
      "Nevertheless, a greater number of subintervals will imply a harder computational implementation per iteration. In other words, the number of iterations for a given precision is lower, but the computing time per iteration is higher. This push-and-pull situation is very interesting to analyse as there is not a clear answer about which scenario is more favorable, and it even depends on the number of subintervals $N$."
     ]
    },
    {
     "cell_type": "markdown",
     "metadata": {},
     "source": [
      "**1.** Modify the Bisection function provided in class and write two new routines, Trisection and Quadsection. These new routines should have to find roots like Bisection does, but using three and four subintervals per iteration respectively.\n",
      "\n",
      "Test your routines using the next function\n",
      "\n",
      "$$f(x) = x^2-5$$\n",
      "\n",
      "Be aware this function has analytic roots, so you can compare directly your results."
     ]
    },
    {
     "cell_type": "code",
     "collapsed": false,
     "input": [
      "#Defining Bisection function\n",
      "def Bisection( f, a, b, Nmax, printer=False ):\n",
      "    #verifying the STEP1, a and b with different signs\n",
      "    if f(a)*f(b)>0:\n",
      "        print \"Error, f(a) and f(b) should have opposite signs\"\n",
      "        return False\n",
      "    #Assigning the current extreme values, STEP2\n",
      "    ai = a\n",
      "    bi = b\n",
      "    #Iterations\n",
      "    n = 1\n",
      "    while n<=Nmax:\n",
      "        #Bisection, STEP3\n",
      "        pi = (ai+bi)/2.0\n",
      "        #Evaluating function in pi, STEP4 and STEP5\n",
      "        if printer:\n",
      "            print \"Value for %d iterations:\"%(n),pi\n",
      "        #Condition A\n",
      "        if f(pi)*f(ai)>0:\n",
      "            ai = pi\n",
      "        #Condition B\n",
      "        elif f(pi)*f(ai)<0:\n",
      "            bi = pi\n",
      "        #Condition C: repeat the cycle\n",
      "        n+=1\n",
      "    #Final result\n",
      "    return pi"
     ],
     "language": "python",
     "metadata": {},
     "outputs": [],
     "prompt_number": 1
    },
    {
     "cell_type": "markdown",
     "metadata": {},
     "source": [
      "**2.** Make a plot and illustrate the behaviour of Bisection, Trisection and Quadsection in terms of the number of iterations.\n",
      "\n",
      "**3.** For a **float32** precision, how long does each method take?"
     ]
    },
    {
     "cell_type": "markdown",
     "metadata": {},
     "source": [
      "**Question:**\n",
      "\n",
      "If you were going to use one of these routines for a professional usage, which one would you choose and why?"
     ]
    }
   ],
   "metadata": {}
  }
 ]
}