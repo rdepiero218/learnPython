{
 "metadata": {
  "name": ""
 },
 "nbformat": 3,
 "nbformat_minor": 0,
 "worksheets": [
  {
   "cells": [
    {
     "cell_type": "heading",
     "level": 1,
     "metadata": {},
     "source": [
      "Task 3"
     ]
    },
    {
     "cell_type": "markdown",
     "metadata": {},
     "source": [
      "This homework is an activity intended to practice IPython notebooks and binary representation of real numbers.\n",
      "\n",
      "*Due to:* **Nov 15**"
     ]
    },
    {
     "cell_type": "markdown",
     "metadata": {},
     "source": [
      "- - - "
     ]
    },
    {
     "cell_type": "heading",
     "level": 2,
     "metadata": {},
     "source": [
      "Binary Representation"
     ]
    },
    {
     "cell_type": "markdown",
     "metadata": {},
     "source": [
      "According to the [IEEE 754-2008](http://en.wikipedia.org/wiki/IEEE_floating_point) standard, binary representation of real numbers may be done by using single-precision **float32** or double-precision **float64**. **float32** follows the next rules:\n",
      "\n",
      "![32-bits](http://upload.wikimedia.org/wikipedia/commons/thumb/d/d2/Float_example.svg/590px-Float_example.svg.png)\n",
      "\n",
      "1. The fist digit (called *s*) indicates the sign of the number (s=0 means a positive number, s=1 a negative one).\n",
      "2. The next 8 bits represent the exponent of the number.\n",
      "3. The last 23 bits represent the fractional part of the number.\n",
      "\n",
      "The formula for recovering the real number is then given by:\n",
      "\n",
      "$$r = (-1)^s\\times \\left( 1 + \\sum_{i=1}^{23}b_{23-i}2^{-i} \\right)\\times 2^{e-127}$$\n",
      "\n",
      "where $s$ is the sign, $b_{23-i}$ the fraction bits and $e$ is given by:\n",
      "\n",
      "$$e = \\sum_{i=0}^7 b_{23+i}2^i$$"
     ]
    },
    {
     "cell_type": "markdown",
     "metadata": {},
     "source": [
      "**1.** Write an IPython notebook and present (consult) the steps necessary for finding the binary **float32** representation of a real number."
     ]
    },
    {
     "cell_type": "markdown",
     "metadata": {},
     "source": [
      "**2.** Write a routine (same notebook) that calculates the binary representation of a number following the steps of the previous item. Test your results with the next function `number32`, i.e., if your routine is called `binary32`, running `number32( binary32( number ) )` should return the original number."
     ]
    },
    {
     "cell_type": "code",
     "collapsed": false,
     "input": [
      "def number32( binary ):\n",
      "    #Inverting binary string\n",
      "    binary = binary[::-1]\n",
      "    #Decimal part\n",
      "    dec = 1\n",
      "    for i in xrange(1,24):\n",
      "        dec += int(binary[23-i])*2**-i\n",
      "    #Exponent part\n",
      "    exp = 0\n",
      "    for i in xrange(0,8):\n",
      "        exp += int(binary[23+i])*2**i\n",
      "    #Total number\n",
      "    number = (-1)**int(binary[31])*2**(exp-127)*dec\n",
      "    return number"
     ],
     "language": "python",
     "metadata": {},
     "outputs": [],
     "prompt_number": 1
    },
    {
     "cell_type": "markdown",
     "metadata": {},
     "source": [
      "**Advice:** take advantage of all the taught functionalities of IPython notebooks, i.e., Markdown formatting, embedded code, LaTeX formatting, etc."
     ]
    }
   ],
   "metadata": {}
  }
 ]
}