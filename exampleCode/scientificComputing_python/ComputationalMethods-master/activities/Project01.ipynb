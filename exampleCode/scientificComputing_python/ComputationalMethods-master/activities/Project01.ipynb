{
 "cells": [
  {
   "cell_type": "markdown",
   "metadata": {},
   "source": [
    "#Project "
   ]
  },
  {
   "cell_type": "markdown",
   "metadata": {},
   "source": [
    "This activity represents a proposed project. Each student must provide an ipython notebook with the solution of the proposed problems, along with all the performed procedures and related codes, as well as the obtained results.\n",
    "\n",
    "*Due to:* **Thursday June 23, noon**"
   ]
  },
  {
   "cell_type": "markdown",
   "metadata": {},
   "source": [
    "- - -"
   ]
  },
  {
   "cell_type": "markdown",
   "metadata": {},
   "source": [
    "##1) Central Force Problem"
   ]
  },
  {
   "cell_type": "markdown",
   "metadata": {},
   "source": [
    "The classic two-body problem with central force can be considerable simplified if one of the bodies has a mass much greater than the other one. In this case, the position of the most massive body (with mass $M$) will coincide with the center of mass of the system, and thus it is only interesting to find the position of the less massive body (with mass $m$) regarding the center of mass. The equation of motion for the body $m$ is then:\n",
    "\n",
    "$$ m\\frac{d^2}{dt^2}\\vec{r}(t) = F(r)\\hat{u}_r $$\n",
    "\n",
    "where $\\vec{r}$ is the position of $m$ and $\\hat{u}_r$ is a unitary vector pointing toward the origin of the central force. A very special case of this type of problems is the gravitation of a small body around a massive one, e.g. the earth-sun system, the moon-earth system, etc. For this case, $F(r)$ is replaced by the gravitational force, yielding:\n",
    "\n",
    "$$ m\\frac{d^2}{dt^2}\\vec{r}(t) = -G\\frac{mM}{r^2}\\hat{u}_r $$\n",
    "\n",
    "For a central force problem is always possible to demonstrate that the complete movement will be constrained over a plane, so a suitable choice of coordinates will reduce the position to $\\vec{r} = (x, y)$ and the previous equation yields:\n",
    "\n",
    "$$ \\frac{d^2}{dt^2}x(t) = -G\\frac{M}{r^2}\\hat{u}_r\\cdot \\hat{u}_x $$\n",
    "$$ \\frac{d^2}{dt^2}y(t) = -G\\frac{M}{r^2}\\hat{u}_r\\cdot \\hat{u}_y $$\n",
    "\n",
    "where $\\hat{u}_x$ and $\\hat{u}_y$ are unitary vectors of the cartesian system. Note this set of equations does not depend on the mass of the small body.\n",
    "\n",
    "\n",
    "![](https://raw.githubusercontent.com/sbustamante/ComputationalMethods/master/activities/figures/CentralForce.png)\n",
    "\n",
    "From the previous figure, and defining the velocities in $v_x$ and $v_y$ we obtain:\n",
    "\n",
    "$$ \\hat{u}_r\\cdot \\hat{u}_x = \\cos(\\varphi) = \\frac{x}{r} $$\n",
    "$$ \\hat{u}_r\\cdot \\hat{u}_y = \\sin(\\varphi) = \\frac{y}{r} $$\n",
    "\n",
    "to get finally\n",
    "\n",
    "$$ \\frac{d}{dt}v_x(t) = -G\\frac{M}{r^3}x $$\n",
    "$$ \\frac{d}{dt}x(t) = v_x(t) $$\n",
    "$$ \\frac{d}{dt}v_y(t) = -G\\frac{M}{r^3}y$$\n",
    "$$ \\frac{d}{dt}y(t) = v_y(t) $$"
   ]
  },
  {
   "cell_type": "markdown",
   "metadata": {},
   "source": [
    "## Leap-frog Integration"
   ]
  },
  {
   "cell_type": "markdown",
   "metadata": {},
   "source": [
    "The leap-frog scheme is an integration method inteded to solve differential equations associated to physical problems with implicit conservations laws (e.g. mechanical problems where the total energy is conserved). For this, suppose a problem of the form:\n",
    "\n",
    "$$ \\frac{d}{dt}x(t) = v(t) $$\n",
    "$$ \\frac{d}{dt}v(t) = F(x) $$\n",
    "\n",
    "The leap-frog scheme gives the approximate solution through the next set of iterative expressions:\n",
    "\n",
    "$$ x_{i+1} = x_i + v_i\\Delta t + \\frac{1}{2}F(x_i)\\Delta t^2 $$\n",
    "$$ v_{i+1} = v_i + \\frac{1}{2}[F(x_i)+F(x_{i+1})]\\Delta t$$\n",
    "\n",
    "where $x_{i}$ denotes the position in the time $t_i = a + i\\times \\Delta t$, and $a$ is the initial time.\n",
    "The solution given by this procedure is less sensible to numerical losses of energy, unlike ordinary methods like Euler."
   ]
  },
  {
   "cell_type": "markdown",
   "metadata": {},
   "source": [
    "**1.** Solve the central force problem using the Euler's method given during class. Use the initial conditions compatible with the system Earth-Sun, i.e.\n",
    "\n",
    "$$ v_x(t=0) = 0 $$\n",
    "$$ v_y(t=0) = 29780\\ m/s $$\n",
    "$$ x(t=0) = 1.5\\times 10^{11}\\ m $$\n",
    "$$ y(t=0) = 0 $$\n",
    "$$ M = 1.98855\\times 10^{30}\\ kg$$\n",
    "\n",
    "Integrate during five years using a timestep $\\Delta t$ of 1 day ($86400\\ s$). If you want, you can use a more convenient coordinate system in $days$ for time, $km$ for distance and $M_{\\odot}$ for mass. (Remember you must change also the units of $G$). Plot the orbit $x(t)$ vs $y(t)$.\n",
    "\n",
    "**2.** Repeat the same problem but using the leap-frog scheme. Plot the resulting orbit.\n",
    "\n",
    "**3.** Calculate the total energy of the system:\n",
    "\n",
    "$$ E_i = \\frac{1}{2}(v_{xi}^2+v_{yi}^2) - G\\frac{M}{r_i}\\ \\ \\ \\mbox{with}\\ \\ \\ r_i = \\sqrt{ x_{i}^2 + y_{i}^2 } $$\n",
    "\n",
    "for both integrators and compare them plotting $E_i$ vs $t_i$.\n",
    "\n",
    "**Questions:** \n",
    "- What can you conclude about the total energy of the systems when using the integrator schemes.\n",
    "- what scheme deals better this problem?\n"
   ]
  },
  {
   "cell_type": "markdown",
   "metadata": {},
   "source": [
    "#2) Gravitational Lensing"
   ]
  },
  {
   "cell_type": "markdown",
   "metadata": {},
   "source": [
    "\n",
    "\n",
    "It is known that light rays are deflected when they pass near by a gravitational field, even since the newtonian theory, and that this deviation is proportional to the body mass which the light is interacting with and inversely proportional to the passing distance. \n",
    "Since it is common finding very massive structures in the universe and the measures that are done to study it involve photons, it makes sense to study what happens to a light source image when the rays get close to a grumpy object like a dark matter halo.  \n",
    "\n",
    "\n",
    "In order to study the light deflection in these cases, it will be used the simplest model, gravitational lens theory, where the len is a very massive object. A sketch of a typical system is shown in figure 1. The source plane is the light source or image that is going to be affected,  $\\eta$ is the distance from a image point to the line of sight and $\\beta$ the subtended angle by the point. \n",
    "The lens plane corresponds to the mass that affects the light coming from the source, $\\xi$ is the new image point distance to the line of sight, $\\theta$ is the subtended angle by the new point position. Then, $\\alpha$ is the deflection angle. \n",
    "\n",
    "\n",
    "Since from observations $\\theta$ is known, the problem to be solved per pixel is \n",
    "\n",
    "\\begin{equation}\n",
    "\\beta = \\theta - \\hat{\\alpha}(\\theta) \n",
    "\\end{equation}\n",
    "\n",
    "but $\\alpha$ also depends on $\\theta$ besides the len halo properties. This would allow construct the real image\n",
    "from the distorted and magnified one. \n",
    "\n",
    "\n",
    "<img src=\"./figures/lente.png\";style=\"max-width:100%; width: 50%\">\n",
    "\n",
    "This equation can also be written in terms of distances \n",
    "\n",
    "\\begin{equation}\n",
    "\\vec{\\eta}  = \\frac{D_s}{D_d} \\vec{\\xi} - D_{ds}\\alpha ( \\vec{\\xi }) \n",
    "\\end{equation}\n",
    "\n",
    "The solution to the lens equation is easier to get if it is assumed that the len is axially symmetric. In this case, the deflection angle  takes the next form\n",
    "\n",
    "$$ \\hat{\\alpha}(\\vec{\\xi}) = \\frac{\\vec{\\xi}}{|\\vec{\\xi}|^2} \\frac{8G\\pi}{c^2} \\int_0^\\xi d\\xi'\\xi'\\Sigma(\\xi')$$\n",
    "\n",
    "The quantity $\\Sigma$ is the surface mass density, i.e., the len's mass enclosed inside $\\xi$ circle per area unit.  \n",
    "It is important to notice that the direction of $\\alpha$ is the same as $\\xi$ and consequently $\\eta$. \n",
    "\n",
    "##Activities\n",
    "\n",
    "The problem to be solved is the next: Given the stars positions of a galaxy find the image distorsion due to gravitational lensing. \n",
    "\n",
    "\n",
    "For this, it is neccesary create a len toy (a real one should be constructed with a NFW profile) and solve the equation (2) to find $\\xi$ given a point position of the source(\"star\") $\\eta$.\n",
    "\n",
    "\n",
    "\n",
    "**1.(10$\\%$)** Create len toy: Generate a distribution (uniform or more concentrated on the center) of points of order size of 1000$pc$. This\n",
    "can be done generating a grid from x and y, where these arrays vary from 0 to the length. \n",
    "The total mass of the len must be $1e10M_{\\odot}$,  i.e.,  the magnitude order of mass of dark matter halo. Every point should have the same mass, and the masses sum must be the dark matter halo mass. \n",
    "\n",
    "\n",
    "**2.(10$\\%$)** Load the stars positions of the galaxy. This is the image that is going to be distorted. It is recommended not using all of them, at least not until the code is already finished. \n",
    "\n",
    "\n",
    "\n",
    "<img src=\"./figures/galaxia_2589.png\";style=\"max-width:100%; width: 50%\">\n"
   ]
  },
  {
   "cell_type": "markdown",
   "metadata": {},
   "source": [
    "**3.(40$\\%$)** Solve the equation (2) using the len toy. \n",
    "\n",
    "\n",
    "<img src=\"./figures/galaxia_lente_2589.png\";style=\"max-width:100%; width: 50%\">\n",
    "\n",
    "\n",
    "**4. (20$\\%$)** Plot the distorted positions due to lensing, i.e., the x and y coordinates using $\\xi$. \n",
    "You should obtain something like the figure 3. \n",
    "\n",
    "\n",
    "\n",
    "**5.(10$\\%$)**  Find the magnification, $\\mu$, suffered for every point of the initial image(galaxy) finding the surface density, $\\kappa$ \n",
    "\n",
    "\n",
    "$$\\mu = \\frac{1}{(1-\\kappa)^2} $$\n",
    "\n",
    "to calculate $\\kappa$ remember $\\xi$ is the new position of every image point. Make a plot of $\\xi$ vs $\\mu$.\n",
    "\n",
    "\n",
    "\n",
    "Since the equation 2 does not necessarily has a solution, it is recommended use the next $\\textbf{magnitud order}$ for the system you are going to choose\n",
    "\n",
    "\n",
    "\n",
    "**a)* Distance to the source: 1e9pc \n",
    "\n",
    "**b)* Distance to the len, approximately the half the distance to the source\n",
    "\n",
    "\n",
    "\n",
    "The constant values $G = 4.302\\times 10^{-3}$ pc $M_{\\odot}^{-1}$ $(km/s)^2$ and  $c = 3e6$ km/s can be used. \n",
    "\n",
    "The positions in the galaxy.dat are x and y in pc. \n",
    "\n",
    "For every  integration it can be used composite simpson rule(10$\\%$) , the scipy.integrate.quad is recommended for you to test the integration results. \n",
    " \n",
    "\n",
    "\n",
    "\n",
    "**Hint ** The initial angle for every point in the image is the same that in the distorted image. \n",
    "\n",
    "\n",
    "**BONUS (+0.5 in theoretical test)** Make a map with the magnification obtained  using the positions $\\xi$ of the image distorted.  For this, suppose that all initial points have the same brightness. "
   ]
  }
 ],
 "metadata": {
  "kernelspec": {
   "display_name": "Python 2",
   "language": "python",
   "name": "python2"
  },
  "language_info": {
   "codemirror_mode": {
    "name": "ipython",
    "version": 2
   },
   "file_extension": ".py",
   "mimetype": "text/x-python",
   "name": "python",
   "nbconvert_exporter": "python",
   "pygments_lexer": "ipython2",
   "version": "2.7.10"
  }
 },
 "nbformat": 4,
 "nbformat_minor": 0
}
