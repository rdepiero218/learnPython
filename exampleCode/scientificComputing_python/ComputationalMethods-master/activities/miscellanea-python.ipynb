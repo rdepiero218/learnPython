{
 "metadata": {
  "name": ""
 },
 "nbformat": 3,
 "nbformat_minor": 0,
 "worksheets": [
  {
   "cells": [
    {
     "cell_type": "heading",
     "level": 1,
     "metadata": {},
     "source": [
      "Task 1"
     ]
    },
    {
     "cell_type": "markdown",
     "metadata": {},
     "source": [
      "This homework is an activity intended to solve some basic problems in python in order to know its basic capabilities.\n",
      "\n",
      "*Due to:* **May 3**"
     ]
    },
    {
     "cell_type": "markdown",
     "metadata": {},
     "source": [
      "- - -"
     ]
    },
    {
     "cell_type": "heading",
     "level": 2,
     "metadata": {},
     "source": [
      "Miscellanea"
     ]
    },
    {
     "cell_type": "markdown",
     "metadata": {},
     "source": [
      "Solve the next exercises:"
     ]
    },
    {
     "cell_type": "markdown",
     "metadata": {},
     "source": [
      "**1.** Write a program that sort a list of N numbers."
     ]
    },
    {
     "cell_type": "code",
     "collapsed": false,
     "input": [
      "#! /usr/bin/python\n",
      "import numpy as np\n",
      "\n",
      "N = 5\n",
      "#The set is generated randomly\n",
      "X = np.random.random(N)\n",
      "print \"Original set:\", X\n",
      "print \"Sorted set:\", np.sort(X)"
     ],
     "language": "python",
     "metadata": {},
     "outputs": [
      {
       "output_type": "stream",
       "stream": "stdout",
       "text": [
        "Original set: [ 0.60423365  0.06462303  0.01382518  0.58877186  0.63548625]\n",
        "Sorted set: [ 0.01382518  0.06462303  0.58877186  0.60423365  0.63548625]\n"
       ]
      }
     ],
     "prompt_number": 4
    },
    {
     "cell_type": "markdown",
     "metadata": {},
     "source": [
      "**2.** Find all the elements of a list of N numbers that are greater than the mean value of them. Then, create a new list with those numbers."
     ]
    },
    {
     "cell_type": "code",
     "collapsed": false,
     "input": [
      "#! /usr/bin/python\n",
      "import numpy as np\n",
      "\n",
      "N = 10\n",
      "#The set is generated randomly\n",
      "X = 100*np.random.random(N)\n",
      "Y = X[ X>=X.mean() ]\n",
      "print \"Original set\", X\n",
      "print \"Numbers greater than %1.2f:\"%(X.mean()), Y"
     ],
     "language": "python",
     "metadata": {},
     "outputs": [
      {
       "output_type": "stream",
       "stream": "stdout",
       "text": [
        "Original set [  0.88939513  17.434237    58.54453737   3.66019105   5.22876937\n",
        "  26.54719482  76.98181862  75.8326774   57.25619751  60.1402436 ]\n",
        "Numbers greater than 38.25: [ 58.54453737  76.98181862  75.8326774   57.25619751  60.1402436 ]\n"
       ]
      }
     ],
     "prompt_number": 5
    },
    {
     "cell_type": "markdown",
     "metadata": {},
     "source": [
      "**3.** Write a program that gives the name of students who passed a course (grade$\\geq 3.0\\ \\ $ over $5.0\\ \\ $)."
     ]
    },
    {
     "cell_type": "code",
     "collapsed": false,
     "input": [
      "#! /usr/bin/python\n",
      "import numpy as np\n",
      "\n",
      "#All students\n",
      "grades = {\"Juanito\":2.5, \"Pepito\":4.8, \"Carlitos\":3.0, \"Maria\":3.9, \"Pepita\":4.6, \"Anita\":1.9, \"Bertulfo\":0.9}\n",
      "\n",
      "#Students that approved\n",
      "winners = np.array(grades.keys())[ np.array(grades.values())>=3.0 ]\n",
      "print \"The next students approved:\", winners"
     ],
     "language": "python",
     "metadata": {},
     "outputs": [
      {
       "output_type": "stream",
       "stream": "stdout",
       "text": [
        "The next students approved: ['Pepito' 'Carlitos' 'Pepita' 'Maria']\n"
       ]
      }
     ],
     "prompt_number": 6
    },
    {
     "cell_type": "markdown",
     "metadata": {},
     "source": [
      "**4.** Write a program that evaluates the next expression for given values of $x$, $a$ and $b$:\n",
      "\n",
      "$$\\frac{\\sin(x) + \\cos(x)}{2}(a+b)$$\n",
      "\n",
      "you may find useful the library `math` for the functions $\\sin(x)\\ \\ $ and $\\cos(x)$. Import it as `import math`"
     ]
    },
    {
     "cell_type": "markdown",
     "metadata": {},
     "source": [
      "**5.** Find all the prime numbers between 1 and 100."
     ]
    },
    {
     "cell_type": "code",
     "collapsed": false,
     "input": [
      "#! /usr/bin/python\n",
      "import numpy, math\n",
      "\n",
      "#Prime Checker\n",
      "def primes(upto):\n",
      "    primes = numpy.arange(3,upto+1,2)\n",
      "    isprime = numpy.ones((upto-1)/2,dtype=bool)\n",
      "    for factor in primes[:int(math.sqrt(upto))]:\n",
      "        if isprime[(factor-2)/2]: isprime[(factor*3-2)/2::factor]=0\n",
      "    return numpy.insert(primes[isprime],0,2)\n",
      "\n",
      "print \"The prime numbers between 1 and 100 are:\", primes(100)"
     ],
     "language": "python",
     "metadata": {},
     "outputs": [
      {
       "output_type": "stream",
       "stream": "stdout",
       "text": [
        "The prime numbers between 1 and 100 are: [ 2  3  5  7 11 13 17 19 23 29 31 37 41 43 47 53 59 61 67 71 73 79 83 89 97]\n"
       ]
      }
     ],
     "prompt_number": 7
    },
    {
     "cell_type": "markdown",
     "metadata": {},
     "source": [
      "**6.** Write a program that calculates the factorial of a given number."
     ]
    },
    {
     "cell_type": "code",
     "collapsed": false,
     "input": [
      "#! /usr/bin/python\n",
      "N = 5\n",
      "#Factorial function\n",
      "def factorial(N):\n",
      "    if N==1:\n",
      "        return 1\n",
      "    else:\n",
      "        return N*factorial(N-1)\n",
      "    \n",
      "print \"The factorial of %d is %d\"%(N, factorial(N))"
     ],
     "language": "python",
     "metadata": {},
     "outputs": [
      {
       "output_type": "stream",
       "stream": "stdout",
       "text": [
        "The factorial of 5 is 120\n"
       ]
      }
     ],
     "prompt_number": 8
    },
    {
     "cell_type": "markdown",
     "metadata": {},
     "source": [
      "**7.** Write a program that evaluates the $\\cos(x)\\ \\ $ function by using the Taylor expansion using $2$, $5$ and $10$ terms.\n",
      "\n",
      "$$\\cos(x) = \\sum_{n=0}^\\infty \\frac{(-1)^n}{(2n!)}x^{2n}\\ \\ \\ $$ for all $$x$$"
     ]
    },
    {
     "cell_type": "code",
     "collapsed": false,
     "input": [
      "#! /usr/bin/python\n",
      "from __future__ import division\n",
      "import math\n",
      "\n",
      "#Number of terms\n",
      "N = [2,5,10]\n",
      "x = 1.5\n",
      "\n",
      "#Taylor expansion of cos(x)\n",
      "def taylor_cos( x, N ):\n",
      "    term = lambda x,n: (-1)**n/(math.factorial(2*n))*x**(2*n)\n",
      "    return np.sum( [term(x,n) for n in xrange(0,N)] )\n",
      "\n",
      "for n in N:\n",
      "    print \"Taylor expansion of cos(%1.2f) for %d terms: %1.6f\"%( x, n, taylor_cos(x,n) )\n",
      "print \"Exact value of cos(%1.2f): %1.6f\"%( x, math.cos(x) )"
     ],
     "language": "python",
     "metadata": {},
     "outputs": [
      {
       "output_type": "stream",
       "stream": "stdout",
       "text": [
        "Taylor expansion of cos(1.50) for 2 terms: -0.125000\n",
        "Taylor expansion of cos(1.50) for 5 terms: 0.070753\n",
        "Taylor expansion of cos(1.50) for 10 terms: 0.070737\n",
        "Exact value of cos(1.50): 0.070737\n"
       ]
      }
     ],
     "prompt_number": 9
    },
    {
     "cell_type": "markdown",
     "metadata": {},
     "source": [
      "**8.** Write a program that calculates $\\pi$ by using the next approximations:\n",
      "\n",
      "$$\\frac{2}{\\pi} = \\frac{\\sqrt{2}}{2}\\times \\frac{\\sqrt{2+\\sqrt{2}}}{2}\\times \\frac{\\sqrt{2+\\sqrt{2+\\sqrt{2}}}}{2}\\times \\cdots $$\n",
      "\n",
      "and\n",
      "\n",
      "$$\\frac{\\pi}{4} = 1 - \\frac{1}{3} + \\frac{1}{5} - \\frac{1}{7} + \\frac{1}{9} - \\frac{1}{11} + \\cdots$$\n",
      "\n",
      "Which approximation takes less terms for achieving a good accuracy?"
     ]
    },
    {
     "cell_type": "markdown",
     "metadata": {},
     "source": [
      "- - - "
     ]
    }
   ],
   "metadata": {}
  }
 ]
}