{
 "metadata": {
  "name": ""
 },
 "nbformat": 3,
 "nbformat_minor": 0,
 "worksheets": [
  {
   "cells": [
    {
     "cell_type": "heading",
     "level": 1,
     "metadata": {},
     "source": [
      "Task 6"
     ]
    },
    {
     "cell_type": "markdown",
     "metadata": {},
     "source": [
      "This homework is an activity intended to apply the differentiation formulas given in class. Here we want to solve a radial Poisson's equation for estimating the density field of a rocky planet.\n",
      "\n",
      "*Due to:* **Feb 1**"
     ]
    },
    {
     "cell_type": "markdown",
     "metadata": {},
     "source": [
      "- - -"
     ]
    },
    {
     "cell_type": "heading",
     "level": 2,
     "metadata": {},
     "source": [
      "Radial Poisson's Equation"
     ]
    },
    {
     "cell_type": "markdown",
     "metadata": {},
     "source": [
      "The Poisson's equation relates the matter content of some physical distribution with the gravitational force or equivalently, a exerted gravitational potential. It is given by\n",
      "\n",
      "$$ \\nabla^2 \\phi(\\vec r) = -4\\pi G \\rho(\\vec r) $$\n",
      "\n",
      "where $\\phi(\\vec r)$ is the gravitational potential, $G$ the Cavendish constant and $\\rho(\\vec r)$ the density field.\n",
      "\n",
      "In the case of a radially-symmetric distribution, the angular part vanishes, yielding a radial part given by:\n",
      "\n",
      "$$\\frac{1}{r^2}\\frac{d}{dr}\\left(r^2\\frac{d\\phi(r)}{dr}\\right)= -4\\pi G \\rho(r)$$"
     ]
    },
    {
     "cell_type": "markdown",
     "metadata": {},
     "source": [
      "**1.** Taking [these data](https://raw.githubusercontent.com/sbustamante/ComputationalMethods/master/data/M1.00-STRUC.dat) and using the three-point Midpoint formula, find the density field from the gravitational potential (seventh column in the file) and plot it against the radial coordinate (second column). \n",
      "\n",
      "**Questions:** \n",
      "- How many data points do you get from this procedure as compared with the original number of data of the potential? Why do you get this?\n",
      "- How do you explain the discontinuity in the obtained density profile?\n",
      "\n",
      "**Remeber:** \n",
      "\n",
      "use $G$ with SI units, $\\phi$ is shown in SI units of potential, i.e. Joules/Kg, and radial coordinates in Earth radius ($6371$ km).\n",
      "\n"
     ]
    },
    {
     "cell_type": "markdown",
     "metadata": {},
     "source": [
      "- - -"
     ]
    }
   ],
   "metadata": {}
  }
 ]
}