{
 "metadata": {
  "name": ""
 },
 "nbformat": 3,
 "nbformat_minor": 0,
 "worksheets": [
  {
   "cells": [
    {
     "cell_type": "heading",
     "level": 1,
     "metadata": {},
     "source": [
      "Test 1 - Computational Activity"
     ]
    },
    {
     "cell_type": "markdown",
     "metadata": {},
     "source": [
      "This activity represents $50\\%$ of the **test 1**. Each student must provide an ipython notebook with the solution of the proposed problems, along with all the performed procedures and related codes, as well as the obtained results.\n",
      "\n",
      "*Due to:* **Friday Jan 23, Midnight**"
     ]
    },
    {
     "cell_type": "markdown",
     "metadata": {},
     "source": [
      "- - - "
     ]
    },
    {
     "cell_type": "heading",
     "level": 2,
     "metadata": {},
     "source": [
      "Cooling Functions of Low-Density Astrophysical Plasmas"
     ]
    },
    {
     "cell_type": "markdown",
     "metadata": {},
     "source": [
      "A plasma gas is a state of matter where atoms and/or molecules are so hot, that they reach the ionization threshold through thermal interactions (thermal ionization). This implies that the initial constituent particles (atoms and/or molecules) are broken up into positively charged ions and negatively charged electrons. As these singles constituents are not longer coupled, strong electrical and magnetic currents are generated, thus implying they are strongly influenced by electromagnetic interactions, unlike ordinary neutral matter.\n",
      "\n",
      "Plasma physics is a mainstream topic in current astrophysics as almost all the baryonic matter in the universe is in this state. From solar and stellar physics, interplanetary, interstellar and intergalactic medium, active galactic nuclei up to large-scale structure formation are influenced by plasma processes."
     ]
    },
    {
     "cell_type": "markdown",
     "metadata": {},
     "source": [
      "In this activity we will investigate cooling functions $\\Lambda(T)$ of a plasma slab under equilibrium conditions over a range of metallicities (fraction of elements heavier than Hydrogen and Helium) and temperatures ($10^4-10^{8.5}\\ K$).\n",
      "\n",
      "**Cooling function:** it is defined as the bolometric power emitted as thermal radiation by the plasma and normalized by the total emission, all as a function of the temperature. It is very important for estimating evolution of several plasmas."
     ]
    },
    {
     "cell_type": "heading",
     "level": 3,
     "metadata": {},
     "source": [
      "Activities"
     ]
    },
    {
     "cell_type": "markdown",
     "metadata": {},
     "source": [
      "In [this folder](https://github.com/sbustamante/ComputationalMethods/tree/master/data/plasma) you can find a set of simulated data for plasmas of different metallicities ($\\{+0.5, 0.0, -0.5, -1.0, -1.5, -2.0, -3.0, \\mbox{nil} \\}$), where $0.0$ means a solar metallicity, and nil a zero metallicity model (no elements heavier than H and He). The file *ABOUT.dat* explains the information of each column, however we are interested in Temperature $\\log10(T)$ (**Column 0**) and the normalized cooling function $\\log10[\\Lambda_N(T)]$ (**Column 5**).\n",
      "\n",
      "Plotting for different metallicities, the next figure is obtained:\n",
      "\n",
      "![CoolingFunctions](https://raw.githubusercontent.com/sbustamante/ComputationalMethods/master/activities/figures/cooling_functions.png)"
     ]
    },
    {
     "cell_type": "markdown",
     "metadata": {},
     "source": [
      "**1. (10%)** Reproduce the previous figure using the provided data."
     ]
    },
    {
     "cell_type": "markdown",
     "metadata": {},
     "source": [
      "**2. (20%)** Write a routine called **`CoolingFunction`** that, given any logarithmic temperature value $\\log10(T)$ and a metallicity and using the provided data, interpolates (using either Linear or Lagrange interpolation) the value of the respective cooling function value."
     ]
    },
    {
     "cell_type": "markdown",
     "metadata": {},
     "source": [
      "**3. (30%)** Write a function called **`Temperature`** that, given any logarithmic value of the cooling function, metallicity value and a temperature guess value, calculate the respective temperature.\n",
      "\n",
      "Note that this problem is the inverse problem of the previous item. You have to use the previous interpolation routine **`CoolingFunction`**, and using a find-root solver like Bisection or Fixed-Point iteration solve the next equation for the temperature\n",
      "\n",
      "$\\Lambda(T;m) = \\Lambda_{0}$\n",
      "\n",
      "$\\Lambda(T;m) - \\Lambda_{0} = 0$\n",
      "\n",
      "where $\\Lambda_{0}$ is the given value where you want to find evaluate the temperature. *Remember, you have to provide a guess (or an interval) for the find-root solver.*"
     ]
    },
    {
     "cell_type": "markdown",
     "metadata": {},
     "source": [
      "**4. (40%)** **Metallicity functions**\n",
      "\n",
      "A very interesting application of interpolation techniques is the estimation of Cooling functions in terms of metallicity. For this you need to perform a double interpolation procedure.\n",
      "\n",
      "Given a fixed value of temperature $T_0$, you can evaluate all the Cooling functions for different metallicities, obtaining a set of values $\\{m_i\\}_i$ for the metallicities and $\\{\\Lambda_i(T_0)\\}_i$ for the respective Cooling functions. This can be tought as tracing a vertical line in the previous figure passing through the given value $T_0$, and then taking all the intercepted values in the Cooling functions.\n",
      "\n",
      "Make a figure where is plotted a set of Cooling functions ($y$-axis) as a function of the metallicity ($x$-axis), for the logarithmic temperatures of $\\log10(T) = \\{ 4.5, 5.0, 5.5, 6.0, 6.5, 7.0, 7.5, 8.0 \\}$. This means, each curve corresponds with one of those temperature values.\n",
      "\n",
      "Finally, write a routine called **`CoolingFunctionMetallicity`** that, given **any** metallicity value and **any** temperature value, calculates the respective Cooling function. **Hint:** for this routine you need the routine **`CoolingFunction`** of the second item for extracting the Cooling function values for different metallicities, obtaining $\\{m_i\\}_i$ and $\\{\\Lambda_i(T_0)\\}_i$, then you have to perform another interpolation using these data, ant then evaluate at the given metallicity.\n"
     ]
    },
    {
     "cell_type": "heading",
     "level": 2,
     "metadata": {},
     "source": [
      "References"
     ]
    },
    {
     "cell_type": "markdown",
     "metadata": {},
     "source": [
      "- [Sutherland, R. S., and Dopita, M. A. \"Cooling functions for low-density astrophysical plasmas.\" The Astrophysical Journal Supplement Series, 88 (1993): 253-327.](http://adsabs.harvard.edu//abs/1993ApJS...88..253S)\n",
      "\n",
      "- [http://ned.ipac.caltech.edu/level5/Sept08/Kaastra/Kaastra8.html](http://ned.ipac.caltech.edu/level5/Sept08/Kaastra/Kaastra8.html)\n",
      "\n",
      "- [Astrophysical Plasma](http://en.wikipedia.org/wiki/Astrophysical_plasma)\n",
      "\n",
      "- [Metallicity](http://en.wikipedia.org/wiki/Metallicity)\n",
      "\n",
      "- [Data](http://www.mso.anu.edu.au/~ralph/data/cool/)"
     ]
    },
    {
     "cell_type": "markdown",
     "metadata": {},
     "source": [
      "- - -"
     ]
    }
   ],
   "metadata": {}
  }
 ]
}