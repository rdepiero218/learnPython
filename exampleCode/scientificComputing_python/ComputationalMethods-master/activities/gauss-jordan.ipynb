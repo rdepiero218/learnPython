{
 "metadata": {
  "name": ""
 },
 "nbformat": 3,
 "nbformat_minor": 0,
 "worksheets": [
  {
   "cells": [
    {
     "cell_type": "heading",
     "level": 1,
     "metadata": {},
     "source": [
      "Task 8"
     ]
    },
    {
     "cell_type": "markdown",
     "metadata": {},
     "source": [
      "This homework is an activity intended to apply the methods to solve systems of equations given in class. The objective is to solve a simple circuit problem by using a modification of the Gaussian Elimination method, called Gauss-Jordan method.\n",
      "\n",
      "*Due to:* **Feb 22**"
     ]
    },
    {
     "cell_type": "markdown",
     "metadata": {},
     "source": [
      "- - -"
     ]
    },
    {
     "cell_type": "heading",
     "level": 2,
     "metadata": {},
     "source": [
      "Gauss-Jordan Method"
     ]
    },
    {
     "cell_type": "markdown",
     "metadata": {},
     "source": [
      "As covered during class, Gaussian Elimination is a procedure where any augmented matrix (associated to a soluble problem with $n$ equations and $n$ unknows) is converted to an equivalent upper diagonal system:\n",
      "\n",
      "$$\\left[ \\matrix{\n",
      "a_{11} & a_{12} & \\cdots & a_{1(n-1)} & a_{1n} & \\vdots & \\hat b_1 \\\\\n",
      "0 & a_{22} & \\cdots & a_{2(n-1)} & a_{2n} & \\vdots & \\hat b_2 \\\\\n",
      "\\vdots & \\vdots &  & \\vdots & \\vdots & \\vdots & \\vdots \\\\\n",
      "0 & 0 & \\cdots & a_{(n-1)(n-1)} & a_{(n-1)n} & \\vdots & \\hat b_{n-1} \\\\\n",
      "0 & 0 & \\cdots & 0 & a_{n,n} & \\vdots & \\hat b_n\n",
      "}\\right]$$\n",
      "\n",
      "At this point, the solution $\\{x_i\\}_{i=1}^n$ is easily obtained through the formulas:\n",
      "\n",
      "$$x_n = \\hat b_n$$\n",
      "$$ x_{n-1} =  \\frac{\\hat b_{n-1} + a_{(n-1)n}x_n}{a_{(n-1)(n-1)}}$$\n",
      "$$\\vdots$$\n",
      "$$x_i = \\frac{\\hat b_i - \\sum_{j=i+1}^n a_{ij}x_j}{a_{ii}}\\ \\ \\ \\ \\mbox{for}\\ \\ \\ i=n-1, n-2, \\cdots, 1$$\n",
      "\n",
      "However, a more direct way to find the solution is to reduce the matrix even more, such that the next diagonal form of the matrix is obtained:\n",
      "\n",
      "$$\\left[ \\matrix{\n",
      "a_{11} & 0 & \\cdots & 0 & 0 & \\vdots & \\hat b_1 \\\\\n",
      "0 & a_{22} & \\cdots & 0 & 0 & \\vdots & \\hat b_2 \\\\\n",
      "\\vdots & \\vdots & \\ddots & \\vdots & \\vdots & \\vdots & \\vdots \\\\\n",
      "0 & 0 & \\cdots & a_{(n-1)(n-1)} & 0 & \\vdots & \\hat b_{n-1} \\\\\n",
      "0 & 0 & \\cdots & 0 & a_{n,n} & \\vdots & \\hat b_n\n",
      "}\\right]$$\n",
      "\n",
      "and the solution is just given by:\n",
      "\n",
      "$$ x_i = \\frac{\\hat b_{i}}{a_{ii}}\\ \\ \\ \\ \\mbox{for}\\ \\ \\ i=n-1, n-2, \\cdots, 1$$"
     ]
    },
    {
     "cell_type": "markdown",
     "metadata": {},
     "source": [
      "**1.** Starting from an upper diagonal and augmented matrix, describe the necessary steps to obtain an equivalent matrix in a complete diagonal form (Gauss-Jordan method)."
     ]
    },
    {
     "cell_type": "markdown",
     "metadata": {},
     "source": [
      "**2.** Using the next routine `Gaussian_Elimination`, creates a new routine called `Gauss-Jordan` that computes the diagonal form of any given matrix along with the solution vector $\\{x_i\\}_{i=1}^n$. Use algorithm of the previous item."
     ]
    },
    {
     "cell_type": "code",
     "collapsed": false,
     "input": [
      "#Lambda function\n",
      "def row_lamb( i, lamb, A ):\n",
      "    B = np.copy(A)\n",
      "    B[i] = lamb*B[i]\n",
      "    return B\n",
      "\n",
      "#Combination function\n",
      "def row_comb( i, j, lamb, A ):\n",
      "    B = np.copy(A)\n",
      "    B[i] = lamb*B[j] + B[i]\n",
      "    return B\n",
      "\n",
      "#Swap function\n",
      "def row_swap( i, j, A ):\n",
      "    B = np.copy(A)\n",
      "    B[[i,j]] = B[[j,i]]\n",
      "    return B"
     ],
     "language": "python",
     "metadata": {},
     "outputs": [],
     "prompt_number": 1
    },
    {
     "cell_type": "code",
     "collapsed": false,
     "input": [
      "#Gaussian Elimination\n",
      "def Gaussian_Elimination( A0 ):\n",
      "    #Making local copy of matrix\n",
      "    A = np.copy(A0)\n",
      "    #Detecting size of matrix\n",
      "    n = len(A)\n",
      "    \n",
      "    #Sweeping all the columns in order to eliminate coefficients of the i-th variable\n",
      "    for i in xrange( 0, 4 ):\n",
      "        \n",
      "        #Sweeping all the rows for the i-th column in order to find the first non-zero coefficient\n",
      "        for j in xrange( i, n ):\n",
      "            if A[i,j] != 0:\n",
      "                #Normalization coefficient\n",
      "                Norm = 1.0*A[i,j]\n",
      "                break\n",
      "                \n",
      "        #Applying swap operation to put the non-zero coefficient in the i-th row\n",
      "        A = row_swap( i, j, A )\n",
      "        \n",
      "        #Eliminating the coefficient associated to the i-th variable\n",
      "        for j in xrange( i+1, n ):\n",
      "            A = row_comb( j, i, -A[j,i]/Norm, A )\n",
      "            \n",
      "    #Normalizing n-th variable\n",
      "    A = row_lamb( n-1, 1.0/A[n-1,n-1], A )\n",
      "    \n",
      "    #Finding solution\n",
      "    x = np.zeros( n )\n",
      "    x[n-1] = A[n-1,n]\n",
      "    for i in xrange( n-1, -1, -1 ):\n",
      "        x[i] = ( A[i,n] - sum(A[i,i+1:n]*x[i+1:n]) )/A[i,i]\n",
      "    \n",
      "    #Upper diagonal matrix and solutions x\n",
      "    return A, x"
     ],
     "language": "python",
     "metadata": {},
     "outputs": [],
     "prompt_number": 2
    },
    {
     "cell_type": "heading",
     "level": 2,
     "metadata": {},
     "source": [
      "Kirchhoff's Law of Circuits"
     ]
    },
    {
     "cell_type": "markdown",
     "metadata": {},
     "source": [
      "Using Kirchhoff's law, it is possible to solve the currents $i_1,\\cdots, i_5$.\n",
      "\n",
      "![](https://raw.githubusercontent.com/sbustamante/ComputationalMethods/master/activities/figures/circuit.png)\n",
      "\n",
      "The next system of equations is obtained:\n",
      "\n",
      "$$ 5i_1+5i_2 = V $$\n",
      "$$ i_3-i_4-i_5 = 0 $$\n",
      "$$ 2i_4-3i_5 = 0 $$\n",
      "$$ i_1-i_2-i_3 = 0 $$\n",
      "$$ 5i_2-7i_3-2i_4 = 0 $$"
     ]
    },
    {
     "cell_type": "markdown",
     "metadata": {},
     "source": [
      "**3.** Rewrite this problem using matrix notation. Construct the augmented matrix and solve the problem using the previous routine `Gauss-Jordan`."
     ]
    },
    {
     "cell_type": "markdown",
     "metadata": {},
     "source": [
      "- - -"
     ]
    }
   ],
   "metadata": {}
  }
 ]
}