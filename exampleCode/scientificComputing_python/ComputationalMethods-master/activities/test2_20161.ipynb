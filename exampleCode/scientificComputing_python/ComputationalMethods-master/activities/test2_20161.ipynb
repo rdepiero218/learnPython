{
 "cells": [
  {
   "cell_type": "markdown",
   "metadata": {},
   "source": [
    "# Test 2 - Computational Activity"
   ]
  },
  {
   "cell_type": "markdown",
   "metadata": {},
   "source": [
    "This activity represents $50\\%$ of the **test 2**. Each student must provide an **ipython notebook** with the solution of the proposed problems, along with all the performed procedures and related codes, as well as the obtained results.\n",
    "\n",
    "The format used and comments are going to be taken into account. \n",
    "\n",
    "*Due to:* ** Thursday May 26, Midnight**"
   ]
  },
  {
   "cell_type": "markdown",
   "metadata": {},
   "source": [
    "- - - "
   ]
  },
  {
   "cell_type": "markdown",
   "metadata": {},
   "source": [
    "### Numerical differentiation \n",
    "\n",
    "**1.** The crank AB of length R = 90 mm is rotating at constant angular speed of\n",
    "dθ/dt = 5000 rev/min. The position of the piston C can be shown to vary with\n",
    "the angle $\\theta$ as \n",
    "\n",
    "$$\n",
    "x = R \\left( \\cos\\theta + \\sqrt{2.5^2-\\sin^2\\theta} \\right)\n",
    "$$\n",
    "\n",
    "Write a program that computes the acceleration of the piston at θ = 0◦, 5◦,\n",
    "10◦, . . ., 180◦ by numerical differentiation.\n",
    "\n",
    "<img src=\"figures/piston.png\">"
   ]
  },
  {
   "cell_type": "markdown",
   "metadata": {},
   "source": [
    "---"
   ]
  },
  {
   "cell_type": "markdown",
   "metadata": {},
   "source": [
    "###Kirchhoff Law in a Cubic circuit array \n",
    "\n",
    "**2.** In electronics, it is commonly used the problem of a cubic circuit where all the resistances are equal. \n",
    "With this problem, it is tried to show that is not necessary to use the kirchhoff law but instead using \n",
    "some symmetry arguments, to get the equivalent resistance of the system. \n",
    "\n",
    "<img src=\"figures/resistorcube.png\">\n",
    "\n",
    "But, what happens to the equivalent resistance of the system when one of the resistances is changed to a different value of R? \n",
    "The next system of equations is obtained applying kirchhoff law to the cubic circuit\n",
    "with all resistances R equal to the same value except a resistance r. \n",
    "\n",
    "\\begin{eqnarray*}\n",
    " 0 = I_1 + I_3 + I_5 − I_{13}\\\\\n",
    "0 = −I_1 + I_2 − I_8\\\\\n",
    "0 = −I_2 + I_4 − I_6\\\\\n",
    "0 = −I_3 − I_4 − I_7\\\\\n",
    "0 = −I_5 + I_9 + I_{12}\\\\\n",
    " 0 = I_8 − I_9 + I_{11}\\\\\n",
    "0 = I_6 − I_{10} − I_{11} + I_{13}\\\\\n",
    "0 = −I_1R + I_5R + I_8R + I_9R\\\\\n",
    "0 = I_2R − I_6R + I_8R − I_11R\\\\\n",
    " 0 = −I_4R − I_6R + I_7R − I_10R\\\\\n",
    " 0 = I_3r − I_5R − I_7R − I_{12}R\\\\\n",
    "0 = -I_1R − I_2R + I_3r − I_4R \\\\\n",
    "V = I_5R + I_9R + I_{11}R \\\\\n",
    "\\end{eqnarray*} \n",
    "\n",
    "\n",
    "\n",
    "Then, Find the equivalent resistance, varying the value of the resistance r on the cubic circuit. \n",
    "Does it grow increasing or decreasing r? \n",
    "\n",
    "Make a plot of $R_{eq}$ vs $r$ in ohms where \n",
    "\n",
    "\\begin{equation*}\n",
    "R_{eq} = \\frac{V}{I_{13}}\n",
    "\\end{equation*}\n",
    "\n",
    "Show that the result obtained for $R_{eq}$ when r=R coincides with the symmetry argument result (valid when all resistances in the circuit have the same value R) given by\n",
    "\n",
    "\\begin{equation*}\n",
    "R_{eq} = \\frac{5}{6}R\n",
    "\\end{equation*}\n",
    "\n",
    "For the sake of simplicity it can be used R=1$\\Omega$. Choose a value $V$ you consider convinient. \n",
    "\n"
   ]
  },
  {
   "cell_type": "markdown",
   "metadata": {},
   "source": [
    "###Gaussian Quadrature Rule\n",
    "\n",
    "**3** In contraposition with other methods as trapezoidal and Simpson rules that use a first-order or second-order Lagrange polynomial equally spaced, the gaussian quadrature rule chooses the points for evaluation in an optimal way. The nodes $x_1,x_2,...,x_n$ in the interval $[a,b]$ and coefficients $c_1,c_2,...,c_n$, are chosen to minimize the expected error obtained in the approximation\n",
    "\n",
    "$$\n",
    "\\int_a^b f(x)dx \\approx \\sum_{i=1}^{n} c_if(x_i)\n",
    "$$\n",
    "\n",
    "To illustrate the procedure for choosing the appropiate parameters, we will show how to select the coefficients and nodes when $n=2$ (two point gauss quadrature) in the interval $[a,b]$. \n",
    "\n",
    "First, consider the next integral where a polynomial of third-order has been chosen to approximate the function, although a different order can be used\n",
    "\n",
    "\\begin{eqnarray*}\n",
    "\\int_a^b f(x)dx &\\approx& c_1f(x_1)+c_2f(x_2) \\\\\n",
    "\\int_a^b (a_0+a_1 x +a_2 x^2 +a_3x^3 ) dx &\\approx& c_1f(x_1)+c_2f(x_2)\\\\\n",
    "a_0x+a_1 \\frac{x^2}{2} +a_2 \\frac{x^3}{3} +a_3\\frac{x^4}{4} |_a^b &\\approx& c_1f(x_1)+c_2f(x_2) \\\\\n",
    "a_0(b-a)+a_1 \\frac{b^2-a^2}{2} +a_2 \\frac{b^3-a^3}{3} +a_3\\frac{b^4-a^4}{4} &\\approx& c_1f(x_1)+c_2f(x_2)\n",
    "\\end{eqnarray*}\n",
    "\n"
   ]
  },
  {
   "cell_type": "markdown",
   "metadata": {},
   "source": [
    "but the right side is also equal to \n",
    "\n",
    "\\begin{eqnarray}\n",
    "\\int_a^b f(x)dx &\\approx& c_1f(x_1)+c_2f(x_2) \\\\\n",
    "&=& c_1(a_0+a_1 x_1 +a_2 x_1^2 +a_3x_1^3 ) + c_2(a_0+a_1 x_2 +a_2 x_2^2 +a_3x_2^3 )\\\\\n",
    "&=& a_0(c_1+c_2) + a_1(c_1x_1+c_2x_2) + a_2(c_1x_1^2+c_2x_2^2)+a_3(c_1x_1^3+c_2x_2^3)\n",
    "\\end{eqnarray}\n",
    "\n",
    "equalling the last two expressions obtained for every coefficient $a_i$, it is possible to obtain \n",
    "\n",
    "$$\n",
    "c_1 = \\frac{b-a}{2}; \\hspace{1cm}\n",
    "c_2 = \\frac{b-a}{2}\n",
    "$$\n",
    "\n",
    "and \n",
    "\n",
    "$$\n",
    "x_1 = \\left(\\frac{b-a}{2}\\right)\\left(\\frac{-1}{\\sqrt{3}} \\right) + \\frac{b+a}{2}; \\hspace{1cm}\n",
    "x_2 = \\left(\\frac{b-a}{2}\\right)\\left(\\frac{1}{\\sqrt{3}} \\right) + \\frac{b+a}{2}\n",
    "$$\n",
    "\n",
    "Hence,\n",
    "\n",
    "\\begin{eqnarray*}\n",
    "\\int_a^b f(x)dx &\\approx& c_1f(x_1)+c_2f(x_2) \\\\\n",
    "&=& \\frac{b-a}{2}f\\left( \\frac{b-a}{2}\\left(\\frac{-1}{\\sqrt{3}} \\right) + \\frac{b+a}{2}\\right) +\\\\\n",
    "&. &\\frac{b-a}{2}f\\left( \\frac{b-a}{2}\\left(\\frac{1}{\\sqrt{3}} \\right) + \\frac{b+a}{2}\\right)\n",
    "\\end{eqnarray*}"
   ]
  },
  {
   "cell_type": "markdown",
   "metadata": {},
   "source": [
    "Use the expression deduced for the two point gaussian quadrature to calculate the following integrals \n",
    "\n",
    "$$\n",
    "\\int_{1}^{1.5}x^2\\ln xdx \\\\\n",
    "\\int_{0}^{1}x^2\\exp^{-x}dx \\\\\n",
    "\\int_{0}^{0.35}\\frac{2}{x^2-4}dx \\\\\n",
    "\\int_{0}^{\\pi/4}\\exp^{3x}\\sin(2x)dx \n",
    "$$\n",
    "\n",
    "find the error for the gaussian, composite trapezoidal and composite Simpson quadrature integration. Which one is the better approximation in every case? "
   ]
  }
 ],
 "metadata": {
  "kernelspec": {
   "display_name": "Python 2",
   "language": "python",
   "name": "python2"
  },
  "language_info": {
   "codemirror_mode": {
    "name": "ipython",
    "version": 2
   },
   "file_extension": ".py",
   "mimetype": "text/x-python",
   "name": "python",
   "nbconvert_exporter": "python",
   "pygments_lexer": "ipython2",
   "version": "2.7.10"
  }
 },
 "nbformat": 4,
 "nbformat_minor": 0
}
