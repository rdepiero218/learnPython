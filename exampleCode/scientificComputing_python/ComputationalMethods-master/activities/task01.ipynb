{
 "cells": [
  {
   "cell_type": "markdown",
   "metadata": {},
   "source": [
    "# Task 01"
   ]
  },
  {
   "cell_type": "code",
   "execution_count": 1,
   "metadata": {
    "collapsed": false
   },
   "outputs": [
    {
     "name": "stdout",
     "output_type": "stream",
     "text": [
      "Populating the interactive namespace from numpy and matplotlib\n"
     ]
    },
    {
     "name": "stderr",
     "output_type": "stream",
     "text": [
      "WARNING: pylab import has clobbered these variables: ['plt']\n",
      "`%matplotlib` prevents importing * from pylab and numpy\n"
     ]
    }
   ],
   "source": [
    "import numpy as np\n",
    "import matplotlib.pylab as plt\n",
    "from scipy import integrate\n",
    "%pylab inline"
   ]
  },
  {
   "cell_type": "markdown",
   "metadata": {},
   "source": [
    "This homework is an activity intended to qualify work class and apply the fixed-point iteration method for solving a problem related to an estimation of the radius of an exoplanet.\n",
    "\n",
    "*Due to:* **Abr 10**"
   ]
  },
  {
   "cell_type": "markdown",
   "metadata": {},
   "source": [
    "- - -"
   ]
  },
  {
   "cell_type": "markdown",
   "metadata": {},
   "source": [
    "## 1) One variable equations methods (30%)\n",
    "\n",
    "In class several methods to find roots were developed. Submit the codes you did during class for at least 2 of the methods seen in class. Show the roots you find for an specific function.  "
   ]
  },
  {
   "cell_type": "markdown",
   "metadata": {},
   "source": [
    "## 2) Estimating the Radius of an Exoplanet (70%)"
   ]
  },
  {
   "cell_type": "markdown",
   "metadata": {},
   "source": [
    "When a new planet is discovered, there are different methods to estimate its physical properties. Many times is only possible to estimate either the planet mass or the planet radius and the other property has to be predicted through computer modelling.\n",
    "\n",
    "If one has the planet mass, a very rough way to estimate its radius is to assume certain composition (mean density) and a homogeneous distribution (a very bad assumption!). For example, for the planet [Gliese 832c](http://es.wikipedia.org/wiki/Gliese_832_c) with a mass $M= 5.40 M_{\\oplus}$, if we assume an earth-like composition, i.e. $\\bar \\rho_{\\oplus} = 5520\\ kg/m^3$, we obtain:\n",
    "\n",
    "$$R_{g832c} = \\left( \\frac{3 M_{g832c}}{ 4 \\pi \\bar\\rho_{\\oplus} } \\right)^{1/3} \\approx 1.75 R_{\\oplus}$$\n",
    "\n",
    "That would be the planet radius if the composition where exactly equal to earth's.\n",
    "\n",
    "A more realistic approach is assuming an internal one-layer density profile like:\n",
    "\n",
    "$$\\rho(r) = \\rho_0 \\exp\\left( -\\frac{r}{L} \\right)$$\n",
    "\n",
    "where $\\rho_0$ is the density at planet centre and $L$ is a characteristic lenght depending on the composition. From numerical models of planet interiors, the estimated parameters for a planet of are $M= 5.40 M_{\\oplus}$ are approximately $\\rho_0 = 18000\\ kg/m^3$ and $L = 6500\\ km$.\n",
    "\n",
    "Integrating over the planet volume, we obtain the total mass as\n",
    "\n",
    "$$M = 4\\pi \\int_0^R \\rho(r)r^2dr$$\n",
    "\n",
    "This is a function of the mass in terms of the planet radius. \n",
    "\n",
    "Solving the equation $M(R) = M_{g832c}$ it would be possible to find a more realistic planet radius. However when using numerical models, it is not possible to approach the solution from the left side as a negative mass makes no sense."
   ]
  },
  {
   "cell_type": "markdown",
   "metadata": {},
   "source": [
    "a. Solve the previous problem and find the radius of **Gliese 832c** using your own version of the Fixed-point iteration algorithm."
   ]
  },
  {
   "cell_type": "markdown",
   "metadata": {},
   "source": [
    "##Solution 2)"
   ]
  },
  {
   "cell_type": "markdown",
   "metadata": {},
   "source": [
    "To find the radius of Gliese, the method fixed point is used. Although the integration can be done analytically, it can also be done numerically. But in this specific case, it is recommended to use an analytical form, not only because it is more efficient but it avoids more errors associated to numerical approximations."
   ]
  },
  {
   "cell_type": "code",
   "execution_count": 2,
   "metadata": {
    "collapsed": true
   },
   "outputs": [],
   "source": [
    "#Constants \n",
    "Rt = 6.4E6 #m\n",
    "Mt = 5.98E24 #kg\n",
    "\n",
    "#Parameters\n",
    "L = 6.5E6/Rt # Normalized with Earth radius\n",
    "Rho0 = 18000*(Rt**3/Mt) # Density normalized with earth mass\n",
    "Mg = 5.4 #Mass of Gliese normalized with earth mass"
   ]
  },
  {
   "cell_type": "code",
   "execution_count": 3,
   "metadata": {
    "collapsed": true
   },
   "outputs": [],
   "source": [
    "# Fix point method\n",
    "def fix_point( f, Niter, p0, tol = 1e-17 ):\n",
    "    \n",
    "    g = lambda x: x-f(x)\n",
    "    pi = [p0,]\n",
    "    \n",
    "    n = 1\n",
    "    while n<Niter:\n",
    "        pi.append( g(pi[n-1]) )\n",
    "        if((pi[n]-pi[n-1])/pi[n])<tol:\n",
    "            return pi[n]\n",
    "        n+=1    \n",
    "    return \"The method do not converge with Nmax iterations\", Niter"
   ]
  },
  {
   "cell_type": "code",
   "execution_count": 4,
   "metadata": {
    "collapsed": true
   },
   "outputs": [],
   "source": [
    "#Integrating over the planet volume for the density distribution\n",
    "def F1(R):\n",
    "    return 4*np.pi*Rho0*(2*L**3-L*np.exp(-R/L)*(2*L**2+2*L*R+R**2))-Mg"
   ]
  },
  {
   "cell_type": "code",
   "execution_count": 5,
   "metadata": {
    "collapsed": true
   },
   "outputs": [],
   "source": [
    "#Numerical integration\n",
    "fi = lambda x: exp(-x/L)*x**2\n",
    "def F2(R):\n",
    "    return 4*np.pi*Rho0*integrate.quad(fi,0,R)[0]-Mg"
   ]
  },
  {
   "cell_type": "code",
   "execution_count": 6,
   "metadata": {
    "collapsed": false
   },
   "outputs": [
    {
     "data": {
      "text/plain": [
       "1.7885838956845579"
      ]
     },
     "execution_count": 6,
     "metadata": {},
     "output_type": "execute_result"
    }
   ],
   "source": [
    "# Gliese 832c radius using the expression analytically integrated\n",
    "fix_point(F1,2000,1.792)"
   ]
  },
  {
   "cell_type": "code",
   "execution_count": 7,
   "metadata": {
    "collapsed": false
   },
   "outputs": [
    {
     "data": {
      "text/plain": [
       "1.788583895684572"
      ]
     },
     "execution_count": 7,
     "metadata": {},
     "output_type": "execute_result"
    }
   ],
   "source": [
    "# Gliese 832c radius using the numerical integrated expression\n",
    "fix_point(F2,2000,1.792)"
   ]
  }
 ],
 "metadata": {
  "kernelspec": {
   "display_name": "Python 2",
   "language": "python",
   "name": "python2"
  },
  "language_info": {
   "codemirror_mode": {
    "name": "ipython",
    "version": 2
   },
   "file_extension": ".py",
   "mimetype": "text/x-python",
   "name": "python",
   "nbconvert_exporter": "python",
   "pygments_lexer": "ipython2",
   "version": "2.7.10"
  }
 },
 "nbformat": 4,
 "nbformat_minor": 0
}
