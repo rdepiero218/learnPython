{
 "metadata": {
  "name": ""
 },
 "nbformat": 3,
 "nbformat_minor": 0,
 "worksheets": [
  {
   "cells": [
    {
     "cell_type": "code",
     "collapsed": false,
     "input": [
      "import numpy as np\n",
      "%pylab inline\n",
      "import matplotlib.pyplot as plt"
     ],
     "language": "python",
     "metadata": {},
     "outputs": [
      {
       "output_type": "stream",
       "stream": "stdout",
       "text": [
        "Populating the interactive namespace from numpy and matplotlib\n"
       ]
      }
     ],
     "prompt_number": 1
    },
    {
     "cell_type": "code",
     "collapsed": false,
     "input": [
      "#RK4 integrator\n",
      "def RK4_step( f, y, r, h ):\n",
      "    #Creating solutions\n",
      "    K0 = h*f(r, y)\n",
      "    K1 = h*f(r + 0.5*h, y + 0.5*K0)\n",
      "    K2 = h*f(r + 0.5*h, y + 0.5*K1)\n",
      "    K3 = h*f(r + h, y + K2)\n",
      "    y1 = y + 1/6.0*(K0 + 2*K1 + 2*K2 + K3 )\n",
      "    #Returning solution\n",
      "    return y1"
     ],
     "language": "python",
     "metadata": {},
     "outputs": [],
     "prompt_number": 2
    },
    {
     "cell_type": "code",
     "collapsed": false,
     "input": [
      "#Defining Bisection function\n",
      "def Bisection( f, a, b, Nmax, printer=False ):\n",
      "    #verifying the STEP1, a and b with different signs\n",
      "    if f(a)*f(b)>0:\n",
      "        print \"Error, f(a) and f(b) should have opposite signs\"\n",
      "        return False\n",
      "    #Assigning the current extreme values, STEP2\n",
      "    ai = a\n",
      "    bi = b\n",
      "    #Iterations\n",
      "    n = 1\n",
      "    while n<=Nmax:\n",
      "        #Bisection, STEP3\n",
      "        pi = (ai+bi)/2.0\n",
      "        #Evaluating function in pi, STEP4 and STEP5\n",
      "        if printer:\n",
      "            print \"Value for %d iterations:\"%(n),pi\n",
      "        #Condition A\n",
      "        if f(pi)*f(ai)>0:\n",
      "            ai = pi\n",
      "        #Condition B\n",
      "        elif f(pi)*f(ai)<0:\n",
      "            bi = pi\n",
      "        #Condition C: repeat the cycle\n",
      "        n+=1\n",
      "    #Final result\n",
      "    return pi"
     ],
     "language": "python",
     "metadata": {},
     "outputs": [],
     "prompt_number": 3
    },
    {
     "cell_type": "code",
     "collapsed": false,
     "input": [
      "#Parameters of the system\n",
      "#Cavendish constant\n",
      "G = 6.67e-11\n",
      "#Bulk Modulus\n",
      "Ks = 2.8e11\n",
      "\n",
      "#Surface pressure\n",
      "P_surf = 1.0e5\n",
      "#Surface gravity\n",
      "g_surf = 9.8\n",
      "#Total mass\n",
      "M_p = 5.97e24\n",
      "#Surface density\n",
      "rho_surf = 3500.0\n",
      "\n",
      "#Delta radius\n",
      "h = -10000.0\n",
      "#Number of iterations for bisection\n",
      "Nbis = 20"
     ],
     "language": "python",
     "metadata": {},
     "outputs": [],
     "prompt_number": 80
    },
    {
     "cell_type": "code",
     "collapsed": false,
     "input": [
      "#Dynamic function of the system\n",
      "def f( r, y ):\n",
      "    #Extracting values\n",
      "    P = y[0]\n",
      "    g = y[1]\n",
      "    m = y[2]\n",
      "    rho = y[3]\n",
      "    #Defining derivatives\n",
      "    dP = -rho*g\n",
      "    dg = 4*np.pi*G*rho - 2*G*m/r**3\n",
      "    dm = 4*np.pi*r**2*rho\n",
      "    drho = -rho**2*g/Ks\n",
      "    \n",
      "    return np.array( [dP, dg, dm, drho] )"
     ],
     "language": "python",
     "metadata": {},
     "outputs": [],
     "prompt_number": 81
    },
    {
     "cell_type": "code",
     "collapsed": false,
     "input": [
      "def Mr( R ):\n",
      "    #Array of radius\n",
      "    rarray = np.arange( R, 0, h )\n",
      "    #Initializing variables\n",
      "    P = [ P_surf, ]\n",
      "    g = [ g_surf, ]\n",
      "    m = [ M_p, ]\n",
      "    rho = [ rho_surf, ]\n",
      "    #Numerical integration\n",
      "    i = 0\n",
      "    for r in rarray:\n",
      "        y = [ P[i], g[i], m[i], rho[i] ]\n",
      "        Pi, gi, mi, rhoi = RK4_step( f, y, r, h )\n",
      "        #Storing solutions\n",
      "        P.append( Pi )\n",
      "        g.append( gi )\n",
      "        m.append( mi )\n",
      "        rho.append( rhoi )\n",
      "        i += 1\n",
      "    return m[-1]/M_p"
     ],
     "language": "python",
     "metadata": {},
     "outputs": [],
     "prompt_number": 82
    },
    {
     "cell_type": "code",
     "collapsed": false,
     "input": [
      "Rarray = np.linspace( 6400000.0, 7000000.0, 400 )\n",
      "Mrarray = []\n",
      "for R in Rarray:\n",
      "    Mrarray.append( Mr(R) )\n",
      "plt.figure( figsize=(8,8) )\n",
      "plt.plot( Rarray, Mrarray )\n",
      "plt.ylim( (-0.1,0.1) )"
     ],
     "language": "python",
     "metadata": {},
     "outputs": [
      {
       "metadata": {},
       "output_type": "pyout",
       "prompt_number": 86,
       "text": [
        "(-0.1, 0.1)"
       ]
      },
      {
       "metadata": {},
       "output_type": "display_data",
       "png": "[encoded data removed]",
       "text": [
        "<matplotlib.figure.Figure at 0x7f0c4e50add0>"
       ]
      }
     ],
     "prompt_number": 86
    },
    {
     "cell_type": "code",
     "collapsed": false,
     "input": [],
     "language": "python",
     "metadata": {},
     "outputs": [],
     "prompt_number": 72
    },
    {
     "cell_type": "code",
     "collapsed": false,
     "input": [],
     "language": "python",
     "metadata": {},
     "outputs": []
    }
   ],
   "metadata": {}
  }
 ]
}