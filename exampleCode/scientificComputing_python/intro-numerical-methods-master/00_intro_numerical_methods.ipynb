{
 "cells": [
  {
   "cell_type": "markdown",
   "metadata": {
    "slideshow": {
     "slide_type": "skip"
    }
   },
   "source": [
    "<table>\n",
    " <tr align=left><td><img align=left src=\"./images/CC-BY.png\">\n",
    " <td>Text provided under a Creative Commons Attribution license, CC-BY. All code is made available under the FSF-approved MIT license. (c) Kyle T. Mandli</td>\n",
    "</table>"
   ]
  },
  {
   "cell_type": "code",
   "execution_count": null,
   "metadata": {
    "collapsed": true,
    "slideshow": {
     "slide_type": "skip"
    }
   },
   "outputs": [],
   "source": [
    "%matplotlib inline\n",
    "import numpy\n",
    "import matplotlib.pyplot as plt"
   ]
  },
  {
   "cell_type": "markdown",
   "metadata": {
    "slideshow": {
     "slide_type": "slide"
    }
   },
   "source": [
    "# Introduction and Motivation: Modeling and methods for scientific computing"
   ]
  },
  {
   "cell_type": "markdown",
   "metadata": {
    "slideshow": {
     "slide_type": "slide"
    }
   },
   "source": [
    "## Why are we here?\n",
    "\n",
    "Cannot solve everything\n",
    "\n",
    "$$x^5 + 3x^2+ 2x + 3 = 0$$\n",
    "\n",
    "$$f(x,y,z,t) = 0$$"
   ]
  },
  {
   "cell_type": "markdown",
   "metadata": {
    "slideshow": {
     "slide_type": "subslide"
    }
   },
   "source": [
    "Problems can be too big...\n",
    "\n",
    "![Linear Regression](./images/linear_regression.png)"
   ]
  },
  {
   "cell_type": "markdown",
   "metadata": {
    "slideshow": {
     "slide_type": "subslide"
    }
   },
   "source": [
    "Actually want an answer..."
   ]
  },
  {
   "cell_type": "markdown",
   "metadata": {
    "slideshow": {
     "slide_type": "subslide"
    }
   },
   "source": [
    "Numerics complement analytical methods."
   ]
  },
  {
   "cell_type": "markdown",
   "metadata": {
    "slideshow": {
     "slide_type": "slide"
    }
   },
   "source": [
    "## Why should I care?"
   ]
  },
  {
   "cell_type": "markdown",
   "metadata": {
    "slideshow": {
     "slide_type": "subslide"
    }
   },
   "source": [
    "*Because I had to be here for a requirement...*"
   ]
  },
  {
   "cell_type": "markdown",
   "metadata": {
    "slideshow": {
     "slide_type": "subslide"
    }
   },
   "source": [
    "#### The Retirement Problem\n",
    "\n",
    "$$A = \\frac{P}{r} \\left((1+r)^n - 1 \\right)$$\n",
    "\n",
    "$P$ is the incremental payment\n",
    "\n",
    "$r$ is the interest rate per payment period\n",
    "\n",
    "$n$ is the number of payments\n",
    "\n",
    "$A$ is the total amount after n payments\n",
    "\n",
    "Note that these can all be functions of $r$, $n$, and time"
   ]
  },
  {
   "cell_type": "markdown",
   "metadata": {
    "slideshow": {
     "slide_type": "subslide"
    }
   },
   "source": [
    "CODE DEMO"
   ]
  },
  {
   "cell_type": "code",
   "execution_count": null,
   "metadata": {
    "slideshow": {
     "slide_type": "skip"
    }
   },
   "outputs": [],
   "source": [
    "def A(P, r, n):\n",
    "    return P / r * ((1 + r)**n - 1)\n",
    "\n",
    "n = numpy.linspace(0, 20, 100)\n",
    "target = 5000\n",
    "for r in [0.02, 0.05, 0.08, 0.1, 0.12]:\n",
    "    plt.plot(n, A(100, r, n))\n",
    "plt.plot(n, numpy.ones(n.shape) * target, 'k--')\n",
    "plt.legend([\"r = 0.02\", \"r = 0.05\", \"r = 0.08\", \"r = 0.1\", \"r = 0.12\", \"Target\"], loc=2)\n",
    "plt.xlabel(\"Years\")\n",
    "plt.ylabel(\"Annuity Value (Dollars)\")\n",
    "plt.show()"
   ]
  },
  {
   "cell_type": "markdown",
   "metadata": {
    "slideshow": {
     "slide_type": "subslide"
    }
   },
   "source": [
    "#### Boat race\n",
    "Given a river (say a sinusoid) find the total length actually rowed over a given interval\n",
    "\n",
    "$$f(x) = A \\sin x$$"
   ]
  },
  {
   "cell_type": "markdown",
   "metadata": {
    "slideshow": {
     "slide_type": "-"
    }
   },
   "source": [
    "We need to calculate the function $f(x)$'s arc-length from $[0, 4 \\pi]$\n",
    "\n",
    "$$L = \\int_0^{4 \\pi} \\sqrt{1 + |f'(x)|^2} dx$$\n",
    "\n",
    "In general need numerical quadrature."
   ]
  },
  {
   "cell_type": "markdown",
   "metadata": {
    "slideshow": {
     "slide_type": "subslide"
    }
   },
   "source": [
    "#### Non-Linear population growth\n",
    "\n",
    "Lotka-Volterra Predator-Prey model\n",
    "\n",
    "$$\\frac{d R}{dt} = R \\cdot (a - b \\cdot F)$$\n",
    "$$\\frac{d F}{dt} = F \\cdot (c \\cdot R + d)$$\n",
    "\n",
    " - Where are the steady states?\n",
    " - How do we solve the initial value problem?\n",
    " - How do we understand the non-linear dynamics?\n",
    " - How do we evaluate whether this is a good model?"
   ]
  },
  {
   "cell_type": "markdown",
   "metadata": {
    "slideshow": {
     "slide_type": "subslide"
    }
   },
   "source": [
    "#### Interpolation and Data Fitting\n",
    "\n",
    "Finding trends in real data represented without a closed form (analytical form).\n",
    "\n",
    "Sunspot counts"
   ]
  },
  {
   "cell_type": "markdown",
   "metadata": {
    "slideshow": {
     "slide_type": "subslide"
    }
   },
   "source": [
    "CODE DEMO"
   ]
  },
  {
   "cell_type": "code",
   "execution_count": null,
   "metadata": {
    "slideshow": {
     "slide_type": "skip"
    }
   },
   "outputs": [],
   "source": [
    "data = numpy.loadtxt(\"./data/sunspot.dat\")\n",
    "\n",
    "fig = plt.figure()\n",
    "fig.set_figwidth(fig.get_figwidth() * 2)\n",
    "\n",
    "axes = fig.add_subplot(1, 2, 1)\n",
    "axes.plot(data[:, 0], data[:, 1])\n",
    "axes.set_xlabel(\"Year\")\n",
    "axes.set_ylabel(\"Number\")\n",
    "axes.set_title(\"Number of Sunspots\")\n",
    "\n",
    "axes = fig.add_subplot(1, 2, 2)\n",
    "N = int(data.shape[0] / 2)\n",
    "period = 1.0 / numpy.fft.fftfreq(data.shape[0])[1:N]\n",
    "sunspot_freq = numpy.fft.fft(data[:, 1])[1:N]\n",
    "freq = numpy.fft.fftfreq(data.shape[0])[1:N]\n",
    "axes.plot(period, numpy.abs(sunspot_freq)**2)\n",
    "axes.set_xlabel(\"Years/Cycle\")\n",
    "axes.set_ylabel(\"Power Spectrum\")\n",
    "axes.set_title(\"Frequency of Sunspots\")\n",
    "axes.set_xlim((0, 50))\n",
    "\n",
    "plt.show()"
   ]
  },
  {
   "cell_type": "markdown",
   "metadata": {
    "slideshow": {
     "slide_type": "subslide"
    }
   },
   "source": [
    "## Why is this exciting?\n",
    "\n",
    "Computers have revolutionized our ability to explore...\n",
    "\n",
    "[Top 10 Algorithms of the 20th Century](http://www.siam.org/pdf/news/637.pdf?t=1&cn=ZmxleGlibGVfcmVjcw%3D%3D&refsrc=email&iid=658bdab6af614c83a8df1f8e02035eae&uid=755271476&nid=244+285282312)\n",
    "\n",
    "...and there is more to come!"
   ]
  },
  {
   "cell_type": "markdown",
   "metadata": {
    "slideshow": {
     "slide_type": "slide"
    }
   },
   "source": [
    "## Tools"
   ]
  },
  {
   "cell_type": "markdown",
   "metadata": {
    "slideshow": {
     "slide_type": "subslide"
    }
   },
   "source": [
    "### Python\n",
    "\n",
    "Why python?"
   ]
  },
  {
   "cell_type": "markdown",
   "metadata": {
    "slideshow": {
     "slide_type": "subslide"
    }
   },
   "source": [
    "#### C, C++, Fortran\n",
    "\n",
    "##### Pros:\n",
    " - Performance and legacy computing codes available\n",
    "\n",
    "##### Cons:\n",
    " - Syntax not optimized for casual programming\n",
    " - No interactive facilities\n",
    " - Difficult visualization, text processing, etc.\n",
    " "
   ]
  },
  {
   "cell_type": "markdown",
   "metadata": {
    "slideshow": {
     "slide_type": "subslide"
    }
   },
   "source": [
    "#### IDL, Matlab, Mathematica, etc.\n",
    "\n",
    "##### Pros:\n",
    " - Interactive with easy visualization tools\n",
    " - Extensive scientific and engineering libraries available\n",
    "\n",
    "##### Cons:\n",
    " - Costly and proprietary\n",
    " - Unpleasant for large-scale computing and non-mathematical tasks"
   ]
  },
  {
   "cell_type": "markdown",
   "metadata": {
    "slideshow": {
     "slide_type": "subslide"
    }
   },
   "source": [
    "#### Python\n",
    "##### Pros:\n",
    " - Python is free (BSD-like license) and highly portable (Windows, Mac OS X, Linux, etc.)\n",
    " - Interactive interpreter\n",
    " - Readability\n",
    " - Simple\n",
    " - Extensive documentation\n",
    " - Memory management is (mostly) transparent\n",
    " - Clean and object-oriented\n",
    " - Built-in types"
   ]
  },
  {
   "cell_type": "markdown",
   "metadata": {
    "slideshow": {
     "slide_type": "subslide"
    }
   },
   "source": [
    "##### Pros:\n",
    "- Comprehensive standard library\n",
    " - Well-established 3rd-party packages (NumPy, SciPy, matplotlib, etc.)\n",
    " - Easily wraps existing legacy code in C, C++ and Fortran\n",
    " - Python mastery is marketable\n",
    " - Scalability\n",
    "   - Interactive experimentation\n",
    "   - Code can be one-line scripts or million-line projects\n",
    "   - Used by novices and full-time professionals alike"
   ]
  },
  {
   "cell_type": "markdown",
   "metadata": {
    "slideshow": {
     "slide_type": "subslide"
    }
   },
   "source": [
    "##### Cons:\n",
    " - Can be slow\n",
    " - Packaging system is a bit crufty\n",
    " - Too many Monty Python jokes (not really a con)"
   ]
  },
  {
   "cell_type": "markdown",
   "metadata": {
    "slideshow": {
     "slide_type": "subslide"
    }
   },
   "source": [
    "### Version Control via `git`\n",
    "\n",
    "`git` is version control system allowing a user to take \"snapshots\" of data.  These snapshots can then be compared, combined or recalled as needed.\n",
    "\n",
    "Why version control (or `git`)?\n",
    " - Nearly ubiquitous in modern software engineering and hence an essential skill\n",
    " - Can save you from yourself\n",
    " - Steep learning curve so expose yourself often for maximal success\n",
    " \n",
    "[Learn more!](https://git-scm.com/)"
   ]
  },
  {
   "cell_type": "markdown",
   "metadata": {
    "slideshow": {
     "slide_type": "subslide"
    }
   },
   "source": [
    "### Peer Review\n",
    "\n",
    "**Why?**\n",
    "In this class reviewing your peer's work can lead to\n",
    " - Better understanding of a problem\n",
    " - See alternative solutions to the same problem\n",
    " - Learn how to read other people's code\n",
    " - Hopefully learn some tips about your own coding style\n",
    " - Another skill highly used in practice"
   ]
  },
  {
   "cell_type": "markdown",
   "metadata": {
    "slideshow": {
     "slide_type": "slide"
    }
   },
   "source": [
    "## Infrastructure"
   ]
  },
  {
   "cell_type": "markdown",
   "metadata": {
    "slideshow": {
     "slide_type": "subslide"
    }
   },
   "source": [
    "### Jupyter Notebooks\n",
    "\n",
    "The notebook environment gives us a convenient means for working with code while annotating it.  We will only cover the key concepts here and hope that you will explore on your own the environments."
   ]
  },
  {
   "cell_type": "markdown",
   "metadata": {
    "slideshow": {
     "slide_type": "subslide"
    }
   },
   "source": [
    "#### Toolbar\n",
    "\n",
    " - Notebooks are modal, they have an edit mode (editing cells) and command mode.\n",
    " - Highly recommend taking the tour and checking out the help menu "
   ]
  },
  {
   "cell_type": "markdown",
   "metadata": {
    "slideshow": {
     "slide_type": "subslide"
    }
   },
   "source": [
    "#### Content types\n",
    "   - Markdown\n",
    "   - LaTeX $x^2$\n",
    "   - Python\n",
    "   - NumPy, SciPy, and other packages"
   ]
  },
  {
   "cell_type": "markdown",
   "metadata": {
    "slideshow": {
     "slide_type": "slide"
    }
   },
   "source": [
    "#### Obtaining the Notebooks\n",
    "\n",
    "All notebooks are found on [github](http://github.com/mandli/intro-numerical-methods).\n",
    "\n",
    "Highly recommend obtaining a github account if you do not already have one.  Will allow you start to become comfortable with `git`."
   ]
  },
  {
   "cell_type": "markdown",
   "metadata": {},
   "source": [
    "**Clone** the repository\n",
    "\n",
    "`$> git clone git://github.com/mandli/intro-numerical-methods`\n",
    "\n",
    "**Pull** in new changes\n",
    "\n",
    "`$> git pull`\n",
    "\n",
    "**Push** new changes (you do not have permission to do this\n",
    "\n",
    "`$> git push`"
   ]
  },
  {
   "cell_type": "markdown",
   "metadata": {},
   "source": [
    "Also note that you can watch what changes were made and submit **issues** to the github project page if you find mistakes (PLEASE DO THIS!)."
   ]
  },
  {
   "cell_type": "markdown",
   "metadata": {
    "slideshow": {
     "slide_type": "slide"
    }
   },
   "source": [
    "### Installation\n",
    "\n",
    "A few options\n",
    " 1. Install on your own machine\n",
    " 2. Use a cloud service"
   ]
  },
  {
   "cell_type": "markdown",
   "metadata": {
    "slideshow": {
     "slide_type": "subslide"
    }
   },
   "source": [
    "#### Your own machine\n",
    "\n",
    "The easiest way to install all the components you will need for the class is to use Continuum Analytics' [Anaconda](http://continuum.io/downloads) distribution.  We will be using python 3.x for all in class demos and homework so it is recommended that you do so as well.\n",
    "\n",
    "Alternatives to using Anaconda also exist in the form of Enthought's [Canopy](https://www.enthought.com/products/canopy/) distribution which provides all the tools you will need as well along with an IDE (development environment)."
   ]
  },
  {
   "cell_type": "markdown",
   "metadata": {
    "slideshow": {
     "slide_type": "subslide"
    }
   },
   "source": [
    "#### The \"cloud\"\n",
    "\n",
    "Instead of running things locally on your machine there are a number of cloud services that you are welcome to use in order to get everything running easily.\n",
    "\n",
    "Vocareum - Homework, peer review, and exams will take place on this platform and will be made available."
   ]
  },
  {
   "cell_type": "markdown",
   "metadata": {
    "slideshow": {
     "slide_type": "subslide"
    }
   },
   "source": [
    "### BRING YOUR LAPTOP!\n",
    "\n",
    "In class demos require participation!"
   ]
  }
 ],
 "metadata": {
  "celltoolbar": "Slideshow",
  "kernelspec": {
   "display_name": "Python 3",
   "language": "python",
   "name": "python3"
  },
  "language_info": {
   "codemirror_mode": {
    "name": "ipython",
    "version": 3
   },
   "file_extension": ".py",
   "mimetype": "text/x-python",
   "name": "python",
   "nbconvert_exporter": "python",
   "pygments_lexer": "ipython3",
   "version": "3.6.2"
  },
  "latex_envs": {
   "bibliofile": "biblio.bib",
   "cite_by": "apalike",
   "current_citInitial": 1,
   "eqLabelWithNumbers": true,
   "eqNumInitial": 0
  }
 },
 "nbformat": 4,
 "nbformat_minor": 1
}
